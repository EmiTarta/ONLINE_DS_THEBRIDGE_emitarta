{
  "cells": [
    {
      "cell_type": "markdown",
      "metadata": {
        "id": "view-in-github",
        "colab_type": "text"
      },
      "source": [
        "<a href=\"https://colab.research.google.com/github/EmiTarta/ONLINE_DS_THEBRIDGE_emitarta/blob/main/04_Ejercicios_Markdown_II.ipynb\" target=\"_parent\"><img src=\"https://colab.research.google.com/assets/colab-badge.svg\" alt=\"Open In Colab\"/></a>"
      ]
    },
    {
      "cell_type": "markdown",
      "id": "c49ba49d",
      "metadata": {
        "id": "c49ba49d"
      },
      "source": [
        "<img src=\"./img/TheBridge_logo_RGB_color.jpg\" width = 500>"
      ]
    },
    {
      "cell_type": "markdown",
      "id": "22ff8a1a",
      "metadata": {
        "id": "22ff8a1a"
      },
      "source": [
        "# EJERCICIOS MARKDOWN (II)"
      ]
    },
    {
      "cell_type": "markdown",
      "id": "d626df26",
      "metadata": {
        "id": "d626df26"
      },
      "source": [
        "Aquí tienes cinco sencillos ejercicios para practicar lo aprendido en la segundasesión de Markdown. Como en el anterior, utiliza las celdas que hay debajo dec cada enunciado y recuerda convertirlas a Markdown primero ;-)\n",
        "\n",
        "Si algunos ejercicios no los entiendes de primeras, dales una vuelta, busca pistas, busca en Internet... pero todavía no le preguntes a ChatGPT... Recuerda con dudas teóricas corre a preguntar, con los ejercicios exprimete antes de preguntar."
      ]
    },
    {
      "cell_type": "markdown",
      "id": "b2efd92f",
      "metadata": {
        "id": "b2efd92f"
      },
      "source": [
        "### Ejercicio 6: Listas\n",
        "Crea una lista no ordenada con los siguientes elementos:\n",
        "\n",
        "1. Manzanas\n",
        "2. Plátanos\n",
        "3. Uvas\n",
        "\n",
        "- Manzana\n",
        "+ Platanos\n",
        "* Uvas\n",
        "\n",
        "\n"
      ]
    },
    {
      "cell_type": "code",
      "execution_count": null,
      "id": "a20102cb",
      "metadata": {
        "id": "a20102cb"
      },
      "outputs": [],
      "source": []
    },
    {
      "cell_type": "markdown",
      "id": "c8c2ff80",
      "metadata": {
        "id": "c8c2ff80"
      },
      "source": [
        "Crea ahora una lista ordenada de 1 a 3 y que además lo esté alfabéticamente con estos elementos:\n",
        "\n",
        "    * Arbol binario\n",
        "    * Random Forest\n",
        "    * Regresión Logística\n",
        "\n",
        "    1. Arbol binario\n",
        "    2. Random Forest\n",
        "    3. Regresion logistica\n",
        "    "
      ]
    },
    {
      "cell_type": "code",
      "execution_count": null,
      "id": "e5af15ee",
      "metadata": {
        "id": "e5af15ee"
      },
      "outputs": [],
      "source": []
    },
    {
      "cell_type": "markdown",
      "id": "2c65c04a",
      "metadata": {
        "id": "2c65c04a"
      },
      "source": [
        "### Ejercicio 7: Listas Anidadas\n",
        "Bajo el título \"Frutas y Verduras\", crea una lista ordenada de frutas, y dentro de esta, anida una lista no ordenada de tres frutas. Luego, crea otra lista ordenada de verduras y anida dentro de ella una lista no ordenada de tres verduras.\n",
        "\n",
        "Las listas anidadas no las hemos visto pero seguro que con esto te haces una idea, como con los subrayados en los ejercicios de la primera parte:\n",
        "1. El elemento con orden\n",
        "* Aquí sin orden\n",
        "2. El siguiente\n",
        "* Pico\n",
        "* Pala\n",
        "\n",
        "\n",
        "# \"Frutas y verduras\"\n",
        "1. Frutas\n",
        "- Banana\n",
        "- Pera\n",
        "- Manzana\n",
        "\n",
        "2. Verduras\n",
        "- Tomate\n",
        "- Lechuga\n",
        "- Zanahoria\n",
        "\n",
        "\n",
        "\n"
      ]
    },
    {
      "cell_type": "code",
      "execution_count": null,
      "id": "0fc171fc",
      "metadata": {
        "id": "0fc171fc"
      },
      "outputs": [],
      "source": []
    },
    {
      "cell_type": "markdown",
      "id": "e224fbf7",
      "metadata": {
        "id": "e224fbf7"
      },
      "source": [
        "### Ejercicio 8: Enlaces e Imágenes\n",
        "Inserta:\n",
        "\n",
        "1. Un enlace que lleve a \"www.thebridge.com\" con el texto \"Por aquí se cruzan puentes\".\n",
        "2. Una imagen de cualquier URL con el texto alternativo \"Logo\". Recuerda que puedes hacerlo referenciando la imagen a través de su ruta en tu ordenador, o bien incrustandola en el notebook\n",
        "\n",
        "[\"Por aqui se cruzan puentes\"](https://www.thebridge.com)\n",
        "\n",
        "![logo](https://blog.hubspot.es/hs-fs/hubfs/ES%20Blog%20images/Los%2015%20logos%20m%C3%A1s%20creativos%20e%20inspiradores%20del%20mundo/logos_creativos_amazon.jpg?width=975&name=logos_creativos_amazon.jpg)\n"
      ]
    },
    {
      "cell_type": "code",
      "execution_count": null,
      "id": "2bcc0287",
      "metadata": {
        "id": "2bcc0287"
      },
      "outputs": [],
      "source": []
    },
    {
      "cell_type": "markdown",
      "id": "94e48fe3",
      "metadata": {
        "id": "94e48fe3"
      },
      "source": [
        "### Ejercicio 9: Líneas Horizontales y Bloques de Código\n",
        "Inserta:\n",
        "\n",
        "1. Un bloque de código en Python que imprima \"Hola Mundo\" (pista: print(\"Hola Mundo\")) entre dos líneas horizontales, cada una creada con un método diferente.\n",
        "\n",
        "___\n",
        "```Python\n",
        "Hola mundo\n",
        "```\n",
        "\n",
        "---"
      ]
    }
  ],
  "metadata": {
    "kernelspec": {
      "display_name": "Python 3 (ipykernel)",
      "language": "python",
      "name": "python3"
    },
    "language_info": {
      "codemirror_mode": {
        "name": "ipython",
        "version": 3
      },
      "file_extension": ".py",
      "mimetype": "text/x-python",
      "name": "python",
      "nbconvert_exporter": "python",
      "pygments_lexer": "ipython3",
      "version": "3.11.5"
    },
    "colab": {
      "provenance": [],
      "include_colab_link": true
    }
  },
  "nbformat": 4,
  "nbformat_minor": 5
}