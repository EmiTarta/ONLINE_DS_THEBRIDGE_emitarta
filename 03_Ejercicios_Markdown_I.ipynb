{
  "cells": [
    {
      "cell_type": "markdown",
      "metadata": {
        "id": "view-in-github",
        "colab_type": "text"
      },
      "source": [
        "<a href=\"https://colab.research.google.com/github/EmiTarta/ONLINE_DS_THEBRIDGE_emitarta/blob/main/03_Ejercicios_Markdown_I.ipynb\" target=\"_parent\"><img src=\"https://colab.research.google.com/assets/colab-badge.svg\" alt=\"Open In Colab\"/></a>"
      ]
    },
    {
      "cell_type": "markdown",
      "id": "59ec229f",
      "metadata": {
        "id": "59ec229f"
      },
      "source": [
        "<img src=\"./img/TheBridge_logo_RGB_color.jpg\" width = 500>"
      ]
    },
    {
      "cell_type": "markdown",
      "id": "30a2c01b",
      "metadata": {
        "id": "30a2c01b"
      },
      "source": [
        "# EJERCICIOS MARKDOWN (I)"
      ]
    },
    {
      "cell_type": "markdown",
      "id": "e165fb0c",
      "metadata": {
        "id": "e165fb0c"
      },
      "source": [
        "Aquí tienes cinco sencillos ejercicios para practicar lo aprendido en la primera sesión de Markdown. Utiliza las celdas que hay debajo dec cada enunciado y recuerda convertirlas a Markdown primero ;-)"
      ]
    },
    {
      "cell_type": "markdown",
      "id": "5f74096f",
      "metadata": {
        "id": "5f74096f"
      },
      "source": [
        "\n",
        "\n",
        "### Ejercicio 1: Cabeceras\n",
        "Crea las siguientes cabeceras:\n",
        "\n",
        "1. Una cabecera de nivel 1 con el texto \"Ciencia de Datos\".\n",
        "2. Una cabecera de nivel 2 con el texto \"Introducción\".\n",
        "3. Una cabecera de nivel 3 con el texto \"Herramientas\".\n",
        "\n",
        "#Ciencia de datos\n",
        "\n",
        "##Introduccion\n",
        "\n",
        "###Herramientas"
      ]
    },
    {
      "cell_type": "markdown",
      "source": [
        "## Hola mundo"
      ],
      "metadata": {
        "id": "VMO8j7_VlfdC"
      },
      "id": "VMO8j7_VlfdC"
    },
    {
      "cell_type": "code",
      "execution_count": null,
      "id": "b3a2fc32",
      "metadata": {
        "id": "b3a2fc32",
        "colab": {
          "base_uri": "https://localhost:8080/"
        },
        "outputId": "c83ceba0-b719-463d-b56e-056705e25824"
      },
      "outputs": [
        {
          "output_type": "stream",
          "name": "stdout",
          "text": [
            "Hola mundo\n"
          ]
        }
      ],
      "source": [
        "print(\"Hola mundo\")"
      ]
    },
    {
      "cell_type": "markdown",
      "id": "4b636168",
      "metadata": {
        "id": "4b636168"
      },
      "source": [
        "### Ejercicio 2: Estilos de texto\n",
        "Escribe una frase que contenga las siguientes características:\n",
        "\n",
        "1. La palabra \"Markdown\" en negritas.\n",
        "2. La palabra \"Jupyter\" en cursivas.\n",
        "3. La palabra \"Python\" en negritas y cursivas.\n",
        "\n",
        "**Markdown**\n",
        "\n",
        "*Jupyter*\n",
        "\n",
        "***Python***"
      ]
    },
    {
      "cell_type": "code",
      "execution_count": null,
      "id": "b0fd666e",
      "metadata": {
        "id": "b0fd666e"
      },
      "outputs": [],
      "source": []
    },
    {
      "cell_type": "markdown",
      "id": "61fd2979",
      "metadata": {
        "id": "61fd2979"
      },
      "source": [
        "### Ejercicio 3: Resaltados y HTML\n",
        "Crea una línea que contenga:\n",
        "\n",
        "1. La palabra \"resaltado\" con un fondo amarillo usando Markdown.\n",
        "2. La palabra \"color\" en azul usando HTML.\n",
        "\n",
        "Para este ejercicio tendrás que buscar un poco más en internet, venga que tú puedes.\n",
        "\n",
        "<mark>resaltado<mark>\n",
        "\n",
        "<font color='blue'>color</font>"
      ]
    },
    {
      "cell_type": "code",
      "execution_count": null,
      "id": "7aa81d0f",
      "metadata": {
        "id": "7aa81d0f"
      },
      "outputs": [],
      "source": []
    },
    {
      "cell_type": "markdown",
      "id": "a91386ca",
      "metadata": {
        "id": "a91386ca"
      },
      "source": [
        "### Ejercicio 4: Citas\n",
        "Incluye la siguiente cita:\n",
        "\n",
        "> La Ciencia de Datos es el petróleo del siglo XXI.\n",
        ">> La Ciencia de Datos es el petróleo del siglo XXI.\n",
        "\n",
        "En uno y dos niveles de cita"
      ]
    },
    {
      "cell_type": "code",
      "execution_count": null,
      "id": "97aca4a0",
      "metadata": {
        "id": "97aca4a0"
      },
      "outputs": [],
      "source": []
    },
    {
      "cell_type": "markdown",
      "id": "35f0595a",
      "metadata": {
        "id": "35f0595a"
      },
      "source": [
        "### Ejercicio 5: Combinando todo\n",
        "Crea un texto que combine lo siguiente:\n",
        "\n",
        "1. Una cabecera de nivel 2 con el texto \"Curso de Markdown\".\n",
        "2. Una frase que contenga la palabra \"importante\" en negritas.\n",
        "3. Una cita que diga: \"Aprender es crecer\".\n",
        "4. La palabra \"ejemplo\" en cursivas y con un fondo verde usando HTML.\n",
        "\n",
        "Nota: Si no has sido capaz de encontrar como dar color de fondo usando HTML quizás <span style=\"background-color:yellow\">*tienes que buscar más cerca de ti*</span>\n",
        "\n",
        "## Curso de Markdown\n",
        "\n",
        "Una frase **importante**\n",
        "\n",
        "> \"Aprender es crecer\"\n",
        "\n",
        "<span style=\"font-style:italic; background-color:lightgreen;\">ejemplo</span>\n",
        "\n",
        "\n",
        "\n"
      ]
    },
    {
      "cell_type": "code",
      "source": [],
      "metadata": {
        "id": "94GPKnZ6zUjL"
      },
      "id": "94GPKnZ6zUjL",
      "execution_count": null,
      "outputs": []
    },
    {
      "cell_type": "code",
      "execution_count": null,
      "id": "919b170c",
      "metadata": {
        "id": "919b170c"
      },
      "outputs": [],
      "source": []
    }
  ],
  "metadata": {
    "kernelspec": {
      "display_name": "Python 3 (ipykernel)",
      "language": "python",
      "name": "python3"
    },
    "language_info": {
      "codemirror_mode": {
        "name": "ipython",
        "version": 3
      },
      "file_extension": ".py",
      "mimetype": "text/x-python",
      "name": "python",
      "nbconvert_exporter": "python",
      "pygments_lexer": "ipython3",
      "version": "3.11.5"
    },
    "colab": {
      "provenance": [],
      "include_colab_link": true
    }
  },
  "nbformat": 4,
  "nbformat_minor": 5
}