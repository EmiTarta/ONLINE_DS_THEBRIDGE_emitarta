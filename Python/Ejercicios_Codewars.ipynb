{
 "cells": [
  {
   "cell_type": "markdown",
   "id": "1192fbf5-1c24-43e1-833c-10529dd84152",
   "metadata": {},
   "source": [
    "## Detect **PANAGRAM**\n",
    "A pangram is a sentence that contains every single letter of the alphabet at least once. For example, the sentence \"The quick brown fox jumps over the lazy dog\" is a pangram, because it uses the letters A-Z at least once (case is irrelevant).\n",
    "\n",
    "Given a string, detect whether or not it is a pangram. Return True if it is, False if not. Ignore numbers and punctuation."
   ]
  },
  {
   "cell_type": "code",
   "execution_count": 38,
   "id": "9f670427-51ba-4ce2-b6f0-cf52ea6c51c6",
   "metadata": {},
   "outputs": [
    {
     "name": "stdout",
     "output_type": "stream",
     "text": [
      "True\n"
     ]
    }
   ],
   "source": [
    "def is_pangram(string):\n",
    "    string = string.lower()\n",
    "    letras = [\"a\", \"b\", \"c\", \"d\", \"e\", \"f\", \"g\", \"h\", \"i\", \"j\", \"k\", \"l\", \"m\", \"n\", \"o\", \"p\", \"q\", \"r\", \"s\", \"t\", \"u\", \"v\", \"w\", \"x\", \"y\", \"z\"]\n",
    "    for letra in letras:\n",
    "        if letra not in string:\n",
    "            return False\n",
    "        return True\n",
    "string = \"The quick brown fox jumps over the lazy dog\"\n",
    "print(is_pangram(string))"
   ]
  },
  {
   "cell_type": "code",
   "execution_count": null,
   "id": "cfa6c587-ad70-4b06-89b5-303a10c0eb0c",
   "metadata": {},
   "outputs": [],
   "source": []
  },
  {
   "cell_type": "markdown",
   "id": "3f68b39e-3221-4d2c-9c26-9431a2e8e92a",
   "metadata": {},
   "source": [
    "## Count the number of Duplicates\n",
    "Write a function that will return the count of distinct case-insensitive alphabetic characters and numeric digits that occur more than once in the input string. The input string can be assumed to contain only alphabets (both uppercase and lowercase) and numeric digits.\n",
    "\n",
    "Example\n",
    "\"abcde\" -> 0 # no characters repeats more than once\n",
    "\n",
    "\"aabbcde\" -> 2 # 'a' and 'b'\n",
    "\n",
    "\"aabBcde\" -> 2 # 'a' occurs twice and 'b' twice (`b` and `B`)\n",
    "\n",
    "\"indivisibility\" -> 1 # 'i' occurs six times\n",
    "\n",
    "\"Indivisibilities\" -> 2 # 'i' occurs seven times and 's' occurs twice\n",
    "\n",
    "\"aA11\" -> 2 # 'a' and '1'\n",
    "\n",
    "\"ABBA\" -> 2 # 'A' and 'B' each occur twice"
   ]
  },
  {
   "cell_type": "code",
   "execution_count": 53,
   "id": "d7ade80a-9ad1-42d4-9075-7689c4452249",
   "metadata": {},
   "outputs": [
    {
     "name": "stdout",
     "output_type": "stream",
     "text": [
      "3\n"
     ]
    }
   ],
   "source": [
    "def duplicate_count(text):\n",
    "    text = text.lower()\n",
    "    contador = {}\n",
    "    duplicados = 0 \n",
    "    \n",
    "    for caracter in text:\n",
    "        if caracter in contador:\n",
    "            contador[caracter] += 1\n",
    "        else:\n",
    "            contador[caracter] = 1\n",
    "    \n",
    "    for valor in contador.values():\n",
    "        if valor > 1:\n",
    "            duplicados += 1\n",
    "   \n",
    "    return duplicados\n",
    "    \n",
    "text= \"11AaBba\"\n",
    "print(duplicate_count(text))"
   ]
  },
  {
   "cell_type": "markdown",
   "id": "b106d8f9-dd25-4db9-af8e-44b72fe55a9a",
   "metadata": {},
   "source": [
    "## **Define a function that removes duplicates from an array of non negative numbers and returns it as a result.**\n",
    "\n",
    "The order of the sequence has to stay the same.\n",
    "\n",
    "Examples:\n",
    "\n",
    "Input -> Output\n",
    "[1, 1, 2] -> [1, 2]\n",
    "[1, 2, 1, 1, 3, 2] -> [1, 2, 3]"
   ]
  },
  {
   "cell_type": "code",
   "execution_count": 73,
   "id": "fbb09165-3e30-402d-9b1e-37c0ea5b4262",
   "metadata": {},
   "outputs": [
    {
     "name": "stdout",
     "output_type": "stream",
     "text": [
      "[1, 2, 3, 4]\n"
     ]
    }
   ],
   "source": [
    "seq = 1, 2, 3, 1, 4\n",
    "def distinct(seq): \n",
    "    contador = {} # Diccionario vacío para almacenar los elementos únicos\n",
    "    resultado = [] # Lista para mantener los elementos en orden\n",
    "    for i in (seq): \n",
    "        if i not in contador: # Si el número no está en el diccionario\n",
    "            contador[i] = True  # Lo añadimos como clave al diccionario\n",
    "            resultado.append(i) # Añadimos el número a la lista de resultado\n",
    "    return resultado\n",
    "print(distinct(seq))"
   ]
  },
  {
   "cell_type": "markdown",
   "id": "afd64300-7321-4cc5-9299-261b59867342",
   "metadata": {},
   "source": [
    "## **Resolucion mas corta y simple en codewars**"
   ]
  },
  {
   "cell_type": "code",
   "execution_count": 74,
   "id": "6407fad2-be7b-4347-87c5-c08737200273",
   "metadata": {},
   "outputs": [
    {
     "data": {
      "text/plain": [
       "{1, 2, 3, 4}"
      ]
     },
     "execution_count": 74,
     "metadata": {},
     "output_type": "execute_result"
    }
   ],
   "source": [
    "seq = 1, 2, 3, 1, 4\n",
    "set(seq)\n"
   ]
  },
  {
   "cell_type": "markdown",
   "id": "e3ed5677-38e7-4f5a-8461-006940aa422e",
   "metadata": {},
   "source": [
    "**Paso a paso:**\n",
    "set(seq):\n",
    "\n",
    "Un set es una estructura de datos que elimina automáticamente los duplicados. Cuando conviertes la lista seq en un conjunto, todos los duplicados desaparecen.\n",
    "\n",
    "**Nota importante: Los conjuntos no mantienen el orden de los elementos, lo que hace necesario el siguiente paso.**\n",
    "\n"
   ]
  },
  {
   "cell_type": "code",
   "execution_count": 75,
   "id": "7208d7a8-d4a2-4551-9453-55c5a1afa16d",
   "metadata": {},
   "outputs": [
    {
     "name": "stdout",
     "output_type": "stream",
     "text": [
      "[1, 2, 3, 4]\n"
     ]
    }
   ],
   "source": [
    "seq = 1, 2, 3, 1, 4\n",
    "def distinct(seq):\n",
    "    return sorted(set(seq), key = seq.index)\n",
    "print(distinct(seq))"
   ]
  },
  {
   "cell_type": "markdown",
   "id": "51b4a458-721f-4ba4-ae79-1c3b92bdc9df",
   "metadata": {},
   "source": [
    "**sorted(set(seq), key=seq.index):**\n",
    "\n",
    "sorted(): Ordena los elementos del conjunto.\n",
    "\n",
    "key=seq.index: Aquí está la clave (literalmente) de la solución. El argumento key le dice a sorted() cómo ordenar los elementos.\n",
    "seq.index es una función que devuelve el índice de la primera aparición de un elemento en la lista original (seq).\n",
    "Así, el sorted() ordena los elementos del conjunto (que eliminó duplicados) en el mismo orden en que aparecieron originalmente en la lista.\n",
    "\n",
    "**En resumen:\n",
    "Se eliminan los duplicados con set(seq).**\n",
    "\n",
    "**Luego, se usa sorted() para ordenar los elementos según su posición original en la lista seq.**\n",
    "\n",
    "Ejemplo:\n",
    "Supón que seq = [3, 1, 2, 3, 4, 1, 2].\n",
    "\n",
    "Primero, set(seq) elimina duplicados: {1, 2, 3, 4} (sin orden).\n",
    "\n",
    "Luego, sorted(set(seq), key=seq.index) ordena los elementos según la posición en la que aparecen por primera vez en seq, devolviendo [3, 1, 2, 4].\n",
    "\n",
    "Es una solución elegante y eficiente que combina varias herramientas de Python de forma concisa."
   ]
  },
  {
   "cell_type": "code",
   "execution_count": null,
   "id": "772bc05b-c6ac-4a02-ad35-ad6652b5cf34",
   "metadata": {},
   "outputs": [],
   "source": []
  },
  {
   "cell_type": "code",
   "execution_count": null,
   "id": "c54c85f8-8b3b-47ae-8190-7ce839c7ed82",
   "metadata": {},
   "outputs": [],
   "source": []
  },
  {
   "cell_type": "code",
   "execution_count": null,
   "id": "e5f0cc47-faf7-4250-b66f-2a92a07ad04a",
   "metadata": {},
   "outputs": [],
   "source": []
  },
  {
   "cell_type": "markdown",
   "id": "54f377db-1ad9-41cc-980b-c1f13bd5873b",
   "metadata": {},
   "source": [
    "## Create a function that returns the sum of the two lowest positive numbers given an array of minimum 4 positive integers. No floats or non-positive integers will be passed.\n",
    "\n",
    "For example, when an array is passed like [19, 5, 42, 2, 77], the output should be 7.\n",
    "\n",
    "[10, 343445353, 3453445, 3453545353453] should return 3453455."
   ]
  },
  {
   "cell_type": "code",
   "execution_count": 95,
   "id": "455d5609-f898-4efb-a25f-6abb0e4fffa7",
   "metadata": {},
   "outputs": [
    {
     "name": "stdout",
     "output_type": "stream",
     "text": [
      "7\n"
     ]
    }
   ],
   "source": [
    "lista = [19, 5, 42, 2, 77]\n",
    "def sumar(lista):\n",
    "    lista.sort()\n",
    "    result = lista[0] + lista[1]\n",
    "    return result\n",
    "print(sumar(lista))"
   ]
  },
  {
   "cell_type": "markdown",
   "id": "67f8da8e-0d22-4464-b118-7e38498d43d9",
   "metadata": {},
   "source": [
    "#### Resolucion + simple en Codewars"
   ]
  },
  {
   "cell_type": "code",
   "execution_count": 1,
   "id": "640162f4-d1c8-4083-97a1-4473df6ea591",
   "metadata": {},
   "outputs": [
    {
     "name": "stdout",
     "output_type": "stream",
     "text": [
      "7\n"
     ]
    }
   ],
   "source": [
    "numbers = 19, 5, 42, 2, 77\n",
    "def sum_two_smallest_numbers(numbers):\n",
    "    return sum(sorted(numbers)[:2])\n",
    "print(sum_two_smallest_numbers(numbers))"
   ]
  },
  {
   "cell_type": "code",
   "execution_count": null,
   "id": "b142bce5-b059-44e7-a7e1-44e3f41825e7",
   "metadata": {},
   "outputs": [],
   "source": []
  },
  {
   "cell_type": "code",
   "execution_count": null,
   "id": "28378f2d-0ad5-4bf2-89c6-58439d083f57",
   "metadata": {},
   "outputs": [],
   "source": []
  },
  {
   "cell_type": "markdown",
   "id": "2ec8c34b-25a6-4b29-ac2f-775a9564ee1e",
   "metadata": {},
   "source": [
    "## Take 2 strings s1 and s2 including only letters from a to z. \n",
    "\n",
    "Return a new sorted string (alphabetical ascending), the longest possible, containing distinct letters - each taken only once - coming from s1 or s2.\n",
    "\n",
    "Ejemplo:\n",
    "\n",
    "a = \"xyaabbbccccdefww\"     ///      b = \"xxxxyyyyabklmopq\"\n",
    "\n",
    "longest(a, b) -> \"abcdefklmopqwxy\"\n",
    "\n",
    "a = \"abcdefghijklmnopqrstuvwxyz\"\n",
    "\n",
    "longest(a, a) -> \"abcdefghijklmnopqrstuvwxyz\""
   ]
  },
  {
   "cell_type": "code",
   "execution_count": 55,
   "id": "a65a21ba-1028-4155-a093-74d717477a19",
   "metadata": {},
   "outputs": [
    {
     "name": "stdout",
     "output_type": "stream",
     "text": [
      "abcdefgklmopqwxy\n"
     ]
    }
   ],
   "source": [
    "s1 = \"gxyaabbbccccdefww\"\n",
    "s2 = \"xxxxyyyyabklmopq\"\n",
    "def long_string(string):\n",
    "    string = list(s1 + s2)\n",
    "    string.sort()\n",
    "    resultado = []\n",
    "    for caracter in string:\n",
    "        if caracter not in resultado: \n",
    "            resultado.append(caracter)\n",
    "    resultado = ''.join(resultado)\n",
    "    return resultado\n",
    "print(long_string(string))"
   ]
  },
  {
   "cell_type": "markdown",
   "id": "e89c6c81-034a-4b60-a408-d9c81827c63b",
   "metadata": {},
   "source": [
    "#### Resolucion + simple en Codewars"
   ]
  },
  {
   "cell_type": "code",
   "execution_count": 56,
   "id": "f6f3d003-8680-41ec-8bb0-c742fae1df08",
   "metadata": {},
   "outputs": [],
   "source": [
    "def longest(a1, a2):\n",
    "    return \"\".join(sorted(set(a1 + a2)))"
   ]
  },
  {
   "cell_type": "code",
   "execution_count": null,
   "id": "e0abe00c-157f-4357-8b18-4bfde44cae37",
   "metadata": {},
   "outputs": [],
   "source": []
  },
  {
   "cell_type": "markdown",
   "id": "6307d9e0-84dd-4c74-936c-c088126a5fa2",
   "metadata": {},
   "source": [
    "## Complete the function that accepts a string parameter, and reverses each word in the string. \n",
    "All spaces in the string should be retained."
   ]
  },
  {
   "cell_type": "markdown",
   "id": "2237c8e6-9673-4282-9c70-7ed8b7069f7b",
   "metadata": {},
   "source": [
    "\"This is an example!\" ==> \"sihT si na !elpmaxe\"\n",
    "\n",
    "\"double  spaces\"      ==> \"elbuod  secaps\""
   ]
  },
  {
   "cell_type": "code",
   "execution_count": 2,
   "id": "208dfaf3-1139-4f9f-b804-badd645f2507",
   "metadata": {},
   "outputs": [
    {
     "name": "stdout",
     "output_type": "stream",
     "text": [
      "aloH im roma\n"
     ]
    }
   ],
   "source": [
    "string = (\"Hola mi amor\")\n",
    "def de_reversa(string):\n",
    "    palabras = string.split(' ')\n",
    "    palabras_reversa = []\n",
    "    for i in palabras:\n",
    "        palabra_reversa = i[::-1]\n",
    "        palabras_reversa.append(palabra_reversa)\n",
    "    resultado = ' '.join(palabras_reversa)    \n",
    "    return resultado\n",
    "print(de_reversa(string))\n",
    "    "
   ]
  },
  {
   "cell_type": "markdown",
   "id": "e946bfaf-4ee9-477e-a30b-e1f223b1736b",
   "metadata": {},
   "source": [
    "#### Resolucion + simple en Codewars"
   ]
  },
  {
   "cell_type": "code",
   "execution_count": 10,
   "id": "02c0eb45-7d46-41b3-8f44-8222782da0eb",
   "metadata": {},
   "outputs": [],
   "source": [
    "def reverse_words(str):\n",
    "  #go for it\n",
    "  newStr = []\n",
    "  for i in str.split(' '):\n",
    "      newStr.append(i[::-1])\n",
    "  return ' '.join(newStr)"
   ]
  },
  {
   "cell_type": "code",
   "execution_count": null,
   "id": "04f2c791-7bbd-4bd1-aa79-8b11d5a6ee90",
   "metadata": {},
   "outputs": [],
   "source": []
  },
  {
   "cell_type": "code",
   "execution_count": null,
   "id": "9b3f6598-fe8e-483f-baef-5ffab54627f8",
   "metadata": {},
   "outputs": [],
   "source": []
  },
  {
   "cell_type": "code",
   "execution_count": null,
   "id": "51f2f151-2f5a-45a4-b636-9f1bf943bdb1",
   "metadata": {},
   "outputs": [],
   "source": []
  },
  {
   "cell_type": "code",
   "execution_count": null,
   "id": "8f67e933-35a9-4a45-b744-3ba23067bf05",
   "metadata": {},
   "outputs": [],
   "source": []
  }
 ],
 "metadata": {
  "kernelspec": {
   "display_name": "Python 3 (ipykernel)",
   "language": "python",
   "name": "python3"
  },
  "language_info": {
   "codemirror_mode": {
    "name": "ipython",
    "version": 3
   },
   "file_extension": ".py",
   "mimetype": "text/x-python",
   "name": "python",
   "nbconvert_exporter": "python",
   "pygments_lexer": "ipython3",
   "version": "3.12.5"
  }
 },
 "nbformat": 4,
 "nbformat_minor": 5
}
