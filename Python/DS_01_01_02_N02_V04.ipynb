{
 "cells": [
  {
   "cell_type": "markdown",
   "metadata": {
    "id": "0TWx1mQysz71"
   },
   "source": [
    "<img src=\"./img/TheBridge_logo_RGB_color.jpg\" width = 500>\n",
    "<img src=\"./img/python.jpg\" width = 500>"
   ]
  },
  {
   "cell_type": "markdown",
   "metadata": {
    "id": "SJZLx68ysz77"
   },
   "source": [
    "# Python Basics I: Print, Comentarios y otros aspectos básicos\n",
    "\n",
    "En este notebook vamos a profundizar un poquito más en el uso de la función print, además de ver cómo usar los comentarios, la importancia del flujo secuencial de ejecución de python y terminaremos con el uso del comando para liberar memoria, `del`."
   ]
  },
  {
   "cell_type": "markdown",
   "metadata": {
    "id": "yQBSE68Asz7_"
   },
   "source": [
    "## Contenidos"
   ]
  },
  {
   "cell_type": "markdown",
   "metadata": {
    "id": "Ri_YEvIFsz7_"
   },
   "source": [
    "* [Print](#Print)\n",
    "* [Comentarios](#Comentarios)\n",
    "* [Flujos de ejecución](#Flujos-de-ejecución)\n",
    "* [Del](#Del)\n"
   ]
  },
  {
   "cell_type": "markdown",
   "metadata": {
    "id": "Sq7AaR0Ksz8A"
   },
   "source": [
    "## Print [al indice](#Contenidos)\n"
   ]
  },
  {
   "cell_type": "markdown",
   "metadata": {
    "id": "VUDSdhRmsz8B"
   },
   "source": [
    "Hasta ahora hemos visto en Jupyter dos tipos de celdas:\n",
    "* **Markdown**: básicamente texto para las explicaciones\n",
    "* **Código**: donde insertamos el código Python y lo ejecutamos\n",
    "\n",
    "Las celdas de código, no solo corren el código y realizan todas las operaciones que le indiquemos, sino que también tienen un output, una salida de ese código. Tenemos dos opciones para ver el output del código, o bien mediante `print`, o poniendo una variable al final de la celda. En este último caso, veremos el valor de esa variable"
   ]
  },
  {
   "cell_type": "code",
   "execution_count": 1,
   "metadata": {
    "id": "bClFVzBrsz8F"
   },
   "outputs": [],
   "source": [
    "ingresos = 1000\n",
    "gastos = 100\n",
    "beneficios = ingresos - gastos"
   ]
  },
  {
   "cell_type": "code",
   "execution_count": 5,
   "metadata": {
    "id": "h0oHArOUsz8G"
   },
   "outputs": [
    {
     "name": "stdout",
     "output_type": "stream",
     "text": [
      "1000\n",
      "100\n",
      "Los beneficios han sido de: \n",
      "900\n"
     ]
    }
   ],
   "source": [
    "print(ingresos)\n",
    "print(gastos)\n",
    "print(\"Los beneficios han sido de: \")\n",
    "print(beneficios)"
   ]
  },
  {
   "cell_type": "markdown",
   "metadata": {
    "id": "Ztq4hPUGsz8H"
   },
   "source": [
    "Si hacemos un print de un texto, podemos concatenar valores de variables mediante `%s`."
   ]
  },
  {
   "cell_type": "code",
   "execution_count": 7,
   "metadata": {
    "id": "9HtC_3Jasz8I"
   },
   "outputs": [
    {
     "name": "stdout",
     "output_type": "stream",
     "text": [
      "los beneficios de junio han sido 900 millones\n"
     ]
    }
   ],
   "source": [
    "mes = \"junio\"\n",
    "print(\"los beneficios de %s han sido %s millones\" %(mes, beneficios))"
   ]
  },
  {
   "cell_type": "code",
   "execution_count": 8,
   "metadata": {},
   "outputs": [
    {
     "name": "stdout",
     "output_type": "stream",
     "text": [
      "Los beneficios de 900 han sido junio millones\n"
     ]
    }
   ],
   "source": [
    "print(\"Los beneficios de %s han sido %s millones\" %(beneficios, mes))"
   ]
  },
  {
   "cell_type": "markdown",
   "metadata": {
    "id": "W_OVzYZpsz8J"
   },
   "source": [
    "Otra opcion si queremos imprimir por pantalla varios strings, es separandolos por comas en el `print`. Fíjate que le añade espacios en la salida cada vez que ponemos un valor nuevo entre comas."
   ]
  },
  {
   "cell_type": "code",
   "execution_count": 13,
   "metadata": {
    "id": "e7GTTG7Asz8K"
   },
   "outputs": [
    {
     "name": "stdout",
     "output_type": "stream",
     "text": [
      "Los beneficios de agosto han sido 900 millones\n"
     ]
    }
   ],
   "source": [
    "mes = \"agosto\"\n",
    "print (\"Los beneficios de\", mes, \"han sido\", beneficios, \"millones\")"
   ]
  },
  {
   "cell_type": "markdown",
   "metadata": {
    "id": "vdj2DkwVsz8K"
   },
   "source": [
    "## Comentarios\n",
    "[al indice](#Contenidos)\n",
    "Se trata de texto que va junto con el código, y que el intérprete de Python ignora por completo. Muy útil para documentar y explicar el código"
   ]
  },
  {
   "cell_type": "code",
   "execution_count": 14,
   "metadata": {
    "id": "tNN4NXBosz8L"
   },
   "outputs": [
    {
     "name": "stdout",
     "output_type": "stream",
     "text": [
      "Esto si lo ejecutara\n"
     ]
    }
   ],
   "source": [
    "# Comentario de linea\n",
    "# print(\"Esto lo ignora\")\n",
    "print(\"Esto si lo ejecutara\")"
   ]
  },
  {
   "cell_type": "code",
   "execution_count": 15,
   "metadata": {
    "id": "xAMl3XMZsz8L"
   },
   "outputs": [
    {
     "name": "stdout",
     "output_type": "stream",
     "text": [
      "Fin del programa\n"
     ]
    }
   ],
   "source": [
    "print(\"Fin del programa\") #Esta linea indica que hemos terminado"
   ]
  },
  {
   "cell_type": "code",
   "execution_count": 19,
   "metadata": {
    "id": "kLfdySz4sz8M"
   },
   "outputs": [
    {
     "name": "stdout",
     "output_type": "stream",
     "text": [
      "Este print si\n"
     ]
    }
   ],
   "source": [
    "'''\n",
    "Esto es un comentario multilinea\n",
    "Puedo usar varias lineas sin tener que repetir el #\n",
    "'''\n",
    "\n",
    "\"\"\"Los comentarios multilinea pueden ir \n",
    "entre comillas dobles, y tampoco se ejecutan o interpretan\n",
    "este print(\"No se va a ejecutar\")\n",
    "\"\"\"\n",
    "print(\"Este print si\")"
   ]
  },
  {
   "cell_type": "markdown",
   "metadata": {
    "id": "YjKKvIcvsz8N"
   },
   "source": [
    "**IMPORTATE**. SIEMPRE comentar el código. Nunca sabes quén lo puede heredar. Te dejo en [este link](https://realpython.com/python-comments-guide/) una guía interesante sobre cómo comentar tu código."
   ]
  },
  {
   "cell_type": "markdown",
   "metadata": {
    "id": "DvY8MqBFsz8P"
   },
   "source": [
    "## Flujos de ejecución\n",
    "[al indice](#Contenidos)\n",
    "Los programas de Python se ejecutan secuencialmente, por lo que el orden en el que escribas las operaciones es determinante"
   ]
  },
  {
   "cell_type": "code",
   "execution_count": 20,
   "metadata": {
    "id": "fQLF5Hi9sz8Q"
   },
   "outputs": [
    {
     "ename": "NameError",
     "evalue": "name 'ventas_junio' is not defined",
     "output_type": "error",
     "traceback": [
      "\u001b[1;31m---------------------------------------------------------------------------\u001b[0m",
      "\u001b[1;31mNameError\u001b[0m                                 Traceback (most recent call last)",
      "Cell \u001b[1;32mIn[20], line 1\u001b[0m\n\u001b[1;32m----> 1\u001b[0m ventas_jun_jul \u001b[38;5;241m=\u001b[39m \u001b[43mventas_junio\u001b[49m \u001b[38;5;241m+\u001b[39m ventas_julio\n\u001b[0;32m      2\u001b[0m ventas_junio \u001b[38;5;241m=\u001b[39m \u001b[38;5;241m100\u001b[39m\n\u001b[0;32m      3\u001b[0m ventas_julio \u001b[38;5;241m=\u001b[39m \u001b[38;5;241m150\u001b[39m\n",
      "\u001b[1;31mNameError\u001b[0m: name 'ventas_junio' is not defined"
     ]
    }
   ],
   "source": [
    "ventas_jun_jul = ventas_junio + ventas_julio\n",
    "ventas_junio = 100\n",
    "ventas_julio = 150"
   ]
  },
  {
   "cell_type": "code",
   "execution_count": 21,
   "metadata": {
    "id": "bHDb4Wu0sz8R"
   },
   "outputs": [
    {
     "ename": "NameError",
     "evalue": "name 'ventas_junio' is not defined",
     "output_type": "error",
     "traceback": [
      "\u001b[1;31m---------------------------------------------------------------------------\u001b[0m",
      "\u001b[1;31mNameError\u001b[0m                                 Traceback (most recent call last)",
      "Cell \u001b[1;32mIn[21], line 1\u001b[0m\n\u001b[1;32m----> 1\u001b[0m \u001b[43mventas_junio\u001b[49m\n",
      "\u001b[1;31mNameError\u001b[0m: name 'ventas_junio' is not defined"
     ]
    }
   ],
   "source": [
    "ventas_junio"
   ]
  },
  {
   "cell_type": "markdown",
   "metadata": {
    "id": "AQad9bd5sz8R"
   },
   "source": [
    "**Da error**, primero tenemos que declarar las ventas, y luego sumarlas.\n"
   ]
  },
  {
   "cell_type": "code",
   "execution_count": 23,
   "metadata": {
    "id": "8eK59bISsz8S"
   },
   "outputs": [],
   "source": [
    "ventas_junio = 100\n",
    "ventas_julio = 150"
   ]
  },
  {
   "cell_type": "code",
   "execution_count": 26,
   "metadata": {},
   "outputs": [
    {
     "name": "stdout",
     "output_type": "stream",
     "text": [
      "Las ventas de junio a julio son 250\n"
     ]
    }
   ],
   "source": [
    "ventas_jun_jul = ventas_junio + ventas_julio\n",
    "print(\"Las ventas de junio a julio son\", ventas_jun_jul)"
   ]
  },
  {
   "cell_type": "code",
   "execution_count": null,
   "metadata": {},
   "outputs": [],
   "source": []
  },
  {
   "cell_type": "markdown",
   "metadata": {
    "id": "RpiNY_DDsz8T"
   },
   "source": [
    "\n",
    "**¿Cuándo acaba una línea de código?**. El salto de línea lo interpreta Python como una nueva instrucción. En muchos lengujes, como Java hay que especificar el fin de la sentencia de código mediante `;`. En Python no es necesario, aunque se puede usar igualmente."
   ]
  },
  {
   "cell_type": "code",
   "execution_count": 27,
   "metadata": {
    "id": "1Y36Th3asz8U"
   },
   "outputs": [],
   "source": [
    "altura = 1.80; peso = 75"
   ]
  },
  {
   "cell_type": "code",
   "execution_count": 31,
   "metadata": {
    "id": "DeNp6TuOsz8V"
   },
   "outputs": [
    {
     "name": "stdout",
     "output_type": "stream",
     "text": [
      "1.8 y 75\n"
     ]
    }
   ],
   "source": [
    "print(altura, \"y\", peso)"
   ]
  },
  {
   "cell_type": "code",
   "execution_count": 32,
   "metadata": {},
   "outputs": [],
   "source": [
    "x,y,z = 12,23,45"
   ]
  },
  {
   "cell_type": "code",
   "execution_count": 33,
   "metadata": {},
   "outputs": [],
   "source": [
    "x = 12\n",
    "y = 23\n",
    "z = 45"
   ]
  },
  {
   "cell_type": "markdown",
   "metadata": {
    "id": "05D06kawsz8V"
   },
   "source": [
    "## Del\n",
    "[al indice](#Contenidos)\n",
    "Es la sentencia que usaremos para borrar una variable. La verdad, no se suelen borrar variables. Vamos desarrollando los programas de Python sin preocuparnos de limpiar aquellas variables que no usamos. Normalmente no borrarlas no suele ser un problema, pero cuando manejamos un gran volumen de datos, podemos sufrir problemas de rendimiento ya que **las variables ocupan memoria**.\n",
    "\n",
    "Cuando las variables son las que hemos visto hasta ahora, no pasa nada, pero si son más pesadas, como por ejemplo datasets de imágenes que ocupan mucho, sí va a venir bien eliminar aquellas que no usemos."
   ]
  },
  {
   "cell_type": "code",
   "execution_count": 34,
   "metadata": {
    "id": "iw3UNr4xsz8W"
   },
   "outputs": [],
   "source": [
    "altura = 1.85\n",
    "del altura"
   ]
  },
  {
   "cell_type": "code",
   "execution_count": 35,
   "metadata": {
    "id": "7GNp56rysz8Y"
   },
   "outputs": [
    {
     "ename": "NameError",
     "evalue": "name 'altura' is not defined",
     "output_type": "error",
     "traceback": [
      "\u001b[1;31m---------------------------------------------------------------------------\u001b[0m",
      "\u001b[1;31mNameError\u001b[0m                                 Traceback (most recent call last)",
      "Cell \u001b[1;32mIn[35], line 1\u001b[0m\n\u001b[1;32m----> 1\u001b[0m \u001b[38;5;28mprint\u001b[39m(\u001b[43maltura\u001b[49m)\n",
      "\u001b[1;31mNameError\u001b[0m: name 'altura' is not defined"
     ]
    }
   ],
   "source": [
    "print(altura)"
   ]
  },
  {
   "cell_type": "code",
   "execution_count": null,
   "metadata": {},
   "outputs": [],
   "source": []
  }
 ],
 "metadata": {
  "colab": {
   "provenance": []
  },
  "kernelspec": {
   "display_name": "Python 3 (ipykernel)",
   "language": "python",
   "name": "python3"
  },
  "language_info": {
   "codemirror_mode": {
    "name": "ipython",
    "version": 3
   },
   "file_extension": ".py",
   "mimetype": "text/x-python",
   "name": "python",
   "nbconvert_exporter": "python",
   "pygments_lexer": "ipython3",
   "version": "3.12.5"
  },
  "nbTranslate": {
   "displayLangs": [
    "*"
   ],
   "hotkey": "alt-t",
   "langInMainMenu": true,
   "sourceLang": "en",
   "targetLang": "fr",
   "useGoogleTranslate": true
  },
  "varInspector": {
   "cols": {
    "lenName": 16,
    "lenType": 16,
    "lenVar": 40
   },
   "kernels_config": {
    "python": {
     "delete_cmd_postfix": "",
     "delete_cmd_prefix": "del ",
     "library": "var_list.py",
     "varRefreshCmd": "print(var_dic_list())"
    },
    "r": {
     "delete_cmd_postfix": ") ",
     "delete_cmd_prefix": "rm(",
     "library": "var_list.r",
     "varRefreshCmd": "cat(var_dic_list()) "
    }
   },
   "types_to_exclude": [
    "module",
    "function",
    "builtin_function_or_method",
    "instance",
    "_Feature"
   ],
   "window_display": false
  }
 },
 "nbformat": 4,
 "nbformat_minor": 4
}
