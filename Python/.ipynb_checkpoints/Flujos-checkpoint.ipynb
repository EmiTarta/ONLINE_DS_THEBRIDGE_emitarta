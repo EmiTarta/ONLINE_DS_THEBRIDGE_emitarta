{
 "cells": [
  {
   "cell_type": "markdown",
   "metadata": {
    "id": "uXXscqCMjmHS"
   },
   "source": [
    "# Python Flujos de Control\n",
    "\n",
    "Hasta ahora hemos visto cómo ejecutar un programa secuencialmente, empieza en la primera línea y acaba en la última. Pero ¿y si queremos que cambien los outputs del programa en función de ciertas condiciones, o si queremos que tome otros caminos en caso de encontrar errores?. Todo esto lo podremos hacer con los flujos de control. Sentencias que encontrarás en todos los lenguajes de programación.\n",
    "\n",
    "\n",
    "1. [Sintaxis de línea](#1.-Sintaxis-de-línea)\n",
    "1. [if/elif/else](#2.-if/elif/else)\n",
    "2. [Bucle for](#3.-Bucle-for)\n",
    "3. [Bucle while](#4.-Bucle-while)\n",
    "4. [Break/continue](#5.-Break/continue)\n",
    "5. [Try/except](#6.-Try/except)\n",
    "6. [Resumen](#7.-Resumen)"
   ]
  },
  {
   "cell_type": "markdown",
   "metadata": {
    "id": "hbWFWMXajmHV",
    "jp-MarkdownHeadingCollapsed": true
   },
   "source": [
    "## 1. Sintaxis de línea\n",
    "La manera en la que Python encapsula todo el código que va dentro de un flujo de control como `if` o `for` es diferente a como se suele hacer en otros lenguajes, en los que se rodea de llaves `{}` o paréntesis `()` todo el contenido del flujo. Con Python no. En Python simplemente hay que añadir una tabulación a cada línea de código que vaya dentro del flujo de control.\n",
    "\n",
    "> ```Python\n",
    "> while condiciones:\n",
    ">     Código dentro de este bucle\n",
    "> ```\n",
    "\n",
    "\n",
    "Si lo dejamos fuera, este código se ejecutará secuencialmente después de que corra el for\n",
    "\n",
    "> ```Python\n",
    "> while condiciones:\n",
    ">\n",
    "> Código fuera de este bucle\n",
    "> ```\n",
    "\n",
    "Veamos un ejemplo. Tenemos una lista de numeros, y queremos ver cuáles son enteros. Para ello los recorremos con un `for` (vermos más en profundiad en este notebook). Vamos iternando uno a uno cada elemento. Luego mediante un `if` comprobamos si es entero. Fíjate que todo lo que va dentro del `for` lleva una tabulación y lo que va dentro del `if` lleva dos tabulaciones, puesto que sus sentencias van tanto dentro del `if`, como dentro del `for`."
   ]
  },
  {
   "cell_type": "code",
   "execution_count": 1,
   "metadata": {
    "colab": {
     "base_uri": "https://localhost:8080/"
    },
    "executionInfo": {
     "elapsed": 372,
     "status": "ok",
     "timestamp": 1721987810261,
     "user": {
      "displayName": "Miguel Ángel Nievas Fuertes",
      "userId": "11397502732317349410"
     },
     "user_tz": -120
    },
    "id": "NC4TEW_OjmHW",
    "outputId": "fb314144-f1e3-4542-b3ea-b0692d952ecb"
   },
   "outputs": [
    {
     "name": "stdout",
     "output_type": "stream",
     "text": [
      "Aprobado\n",
      "Finaliza ejecución\n"
     ]
    }
   ],
   "source": [
    "nota = 7\n",
    "\n",
    "if nota >= 5:\n",
    "    print(\"Aprobado\")\n",
    "else:\n",
    "    print(\"Suspenso\")\n",
    "print(\"Finaliza ejecución\")"
   ]
  },
  {
   "cell_type": "markdown",
   "metadata": {
    "id": "iD3CAoMNjmHX"
   },
   "source": [
    "\n",
    "#### ERRORES ¿Qué ocurre si nos olvidamos de tabular?\n",
    "         \n"
   ]
  },
  {
   "cell_type": "code",
   "execution_count": 3,
   "metadata": {
    "colab": {
     "base_uri": "https://localhost:8080/",
     "height": 106
    },
    "executionInfo": {
     "elapsed": 306,
     "status": "error",
     "timestamp": 1721987848836,
     "user": {
      "displayName": "Miguel Ángel Nievas Fuertes",
      "userId": "11397502732317349410"
     },
     "user_tz": -120
    },
    "id": "c70zKelsjmHY",
    "outputId": "500a7cb5-6520-4acb-e642-f97e539d14ec"
   },
   "outputs": [
    {
     "ename": "IndentationError",
     "evalue": "expected an indented block after 'if' statement on line 3 (185019539.py, line 4)",
     "output_type": "error",
     "traceback": [
      "\u001b[1;36m  Cell \u001b[1;32mIn[3], line 4\u001b[1;36m\u001b[0m\n\u001b[1;33m    print(\"Aprobado\")\u001b[0m\n\u001b[1;37m    ^\u001b[0m\n\u001b[1;31mIndentationError\u001b[0m\u001b[1;31m:\u001b[0m expected an indented block after 'if' statement on line 3\n"
     ]
    }
   ],
   "source": [
    "nota = 7\n",
    "\n",
    "if nota >= 5:\n",
    "print(\"Aprobado\")\n",
    "else:\n",
    "    print(\"Suspenso\")\n",
    "print(\"Finaliza ejecución\")"
   ]
  },
  {
   "cell_type": "code",
   "execution_count": 4,
   "metadata": {
    "colab": {
     "base_uri": "https://localhost:8080/"
    },
    "executionInfo": {
     "elapsed": 281,
     "status": "ok",
     "timestamp": 1721987886837,
     "user": {
      "displayName": "Miguel Ángel Nievas Fuertes",
      "userId": "11397502732317349410"
     },
     "user_tz": -120
    },
    "id": "Kqhg8Ah_jmHY",
    "outputId": "1aa95301-4b3f-445d-88f8-02b1f206fc64"
   },
   "outputs": [
    {
     "name": "stdout",
     "output_type": "stream",
     "text": [
      "Iteración for\n",
      "El numero 4 es un entero\n",
      "Iteración for\n",
      "El numero 6 es un entero\n",
      "Iteración for\n",
      "Iteración for\n",
      "Finaliza ejecución\n"
     ]
    }
   ],
   "source": [
    "numeros = [4, 6, 4.0, 3.0]\n",
    "\n",
    "for num in numeros:\n",
    "    print(\"Iteración for\")\n",
    "    if type(num) == int:\n",
    "        print(\"El numero\", num, \"es un entero\")\n",
    "print(\"Finaliza ejecución\")"
   ]
  },
  {
   "cell_type": "markdown",
   "metadata": {
    "id": "cR6OmqtSjmHY"
   },
   "source": [
    "Ojo, el error no ha dado en el `if`, sino en el `for`. Te señala lo que hay inmediatamente despues de los dos puntos del `for`, ya que considera que ahí debería haber una tabulación. No la hay, y por eso salta el error."
   ]
  },
  {
   "cell_type": "markdown",
   "metadata": {
    "id": "VITobfsLjmHZ",
    "jp-MarkdownHeadingCollapsed": true
   },
   "source": [
    "### Sintaxis\n",
    "Por tanto, toda sentencia `if`, `for`, `while`, `try`, declaración de funciones, de clases, llevan dos puntos. Y después de los dos puntos, tabulado, va todo el contenido de ese bloque. **Siempre**.\n",
    "\n",
    "Si pones los dos puntos y le das a enter, Python automáticamente te tabula todo lo que vayas a escribir a continuación."
   ]
  },
  {
   "cell_type": "markdown",
   "metadata": {
    "id": "VkWfui-CjmHa",
    "jp-MarkdownHeadingCollapsed": true
   },
   "source": [
    "## 2. if/elif/else\n",
    "En función de lo que valgan unas condiciones booleanas, ejecutaremos unas líneas de código, u otras. La sintaxis es muy sencilla:\n",
    "\n",
    "\n",
    "> ```Python\n",
    "> if condiciones:\n",
    ">     Si se cumplen las condiciones, ejecuta este código\n",
    "> else:\n",
    ">     Si no, ejecutas estre otro código\n",
    "> ```\n",
    "    \n",
    "Veamos un ejemplo"
   ]
  },
  {
   "cell_type": "code",
   "execution_count": null,
   "metadata": {
    "colab": {
     "base_uri": "https://localhost:8080/"
    },
    "executionInfo": {
     "elapsed": 311,
     "status": "ok",
     "timestamp": 1721987941640,
     "user": {
      "displayName": "Miguel Ángel Nievas Fuertes",
      "userId": "11397502732317349410"
     },
     "user_tz": -120
    },
    "id": "3tM4RQtwSqxd",
    "outputId": "0f125ff6-6cd7-4a6f-9ba3-ea5b7a311b66"
   },
   "outputs": [
    {
     "data": {
      "text/plain": [
       "False"
      ]
     },
     "execution_count": 9,
     "metadata": {},
     "output_type": "execute_result"
    }
   ],
   "source": [
    "3 == 1"
   ]
  },
  {
   "cell_type": "code",
   "execution_count": null,
   "metadata": {
    "colab": {
     "base_uri": "https://localhost:8080/"
    },
    "executionInfo": {
     "elapsed": 294,
     "status": "ok",
     "timestamp": 1721987973089,
     "user": {
      "displayName": "Miguel Ángel Nievas Fuertes",
      "userId": "11397502732317349410"
     },
     "user_tz": -120
    },
    "id": "80kkJcdLSr9F",
    "outputId": "cc925553-3db1-493c-c59f-7b098b5885aa"
   },
   "outputs": [
    {
     "name": "stdout",
     "output_type": "stream",
     "text": [
      "Es verdadero\n",
      "Finalizado\n"
     ]
    }
   ],
   "source": [
    "if 1 == 1:\n",
    "    print(\"Es verdadero\")\n",
    "else:\n",
    "    print(\"Es falso\")\n",
    "print(\"Finalizado\")"
   ]
  },
  {
   "cell_type": "code",
   "execution_count": 14,
   "metadata": {
    "colab": {
     "base_uri": "https://localhost:8080/"
    },
    "executionInfo": {
     "elapsed": 283,
     "status": "ok",
     "timestamp": 1721988099819,
     "user": {
      "displayName": "Miguel Ángel Nievas Fuertes",
      "userId": "11397502732317349410"
     },
     "user_tz": -120
    },
    "id": "5sr3xnTMjmHa",
    "outputId": "fa7d4501-294e-483c-e064-2f8291a2d414"
   },
   "outputs": [
    {
     "name": "stdout",
     "output_type": "stream",
     "text": [
      "A septiembre\n"
     ]
    }
   ],
   "source": [
    "mi_nota == 3\n",
    "\n",
    "if mi_nota < 5:\n",
    "    print(\"A septiembre\")\n",
    "\n",
    "elif mi_nota > 10:\n",
    "    print(\"Error. Es hasta 10\")\n",
    "\n",
    "elif mi_nota == 3:\n",
    "    print(\"Tu nota es un 3\")\n",
    "\n",
    "else:\n",
    "    print(\"Aprobado\")"
   ]
  },
  {
   "cell_type": "markdown",
   "metadata": {
    "id": "kkmWqln9jmHa"
   },
   "source": [
    "Únicamente se ejecuta la parte de código que consigue un `True` en la condición. `print(\"Aprobado!\")` sólo se imprimirá por pantalla si la nota es mayor o igual a 5."
   ]
  },
  {
   "cell_type": "markdown",
   "metadata": {
    "id": "894XuyvijmHb"
   },
   "source": [
    "**IMPORTANTE**. Todos los `ifs` se ejecutan secuencialmente."
   ]
  },
  {
   "cell_type": "markdown",
   "metadata": {
    "id": "TPvvQdF5jmHb"
   },
   "source": [
    "¿Recuerdas lo que viste con el *Algebra de Boole*? Este es el momento de utilizarlo. Cuando acudimos a varias condiciones dentro de un mismo `if`, tenemos que tener muy claras las operaciones binarias que estamos realizando."
   ]
  },
  {
   "cell_type": "code",
   "execution_count": 16,
   "metadata": {
    "colab": {
     "base_uri": "https://localhost:8080/"
    },
    "executionInfo": {
     "elapsed": 310,
     "status": "ok",
     "timestamp": 1721988224093,
     "user": {
      "displayName": "Miguel Ángel Nievas Fuertes",
      "userId": "11397502732317349410"
     },
     "user_tz": -120
    },
    "id": "Gyfb9UXQjmHb",
    "outputId": "4ed24b12-35d6-45eb-f74e-d879b4eacf8d"
   },
   "outputs": [
    {
     "name": "stdout",
     "output_type": "stream",
     "text": [
      "Ave\n"
     ]
    }
   ],
   "source": [
    "pico = False\n",
    "alas = True\n",
    "sonido = \"Ladrar\"\n",
    "patas = 2\n",
    "\n",
    "if pico or alas:\n",
    "    # True or False = True\n",
    "    print(\"Ave\")\n",
    "\n",
    "elif patas == 4 and sonido == \"Ladrar\":\n",
    "    # True and True = True\n",
    "    print(\"Perro\")\n",
    "\n",
    "else:\n",
    "    print(\"Otro animal\")"
   ]
  },
  {
   "cell_type": "markdown",
   "metadata": {
    "id": "GW0lgDKTjmHc",
    "jp-MarkdownHeadingCollapsed": true
   },
   "source": [
    "*Python >= 3.10*\n",
    "## match case\n",
    "Puedes verlo como el equivalente de la sentencia switch que ya hay en otros lenguajes. Originalmente, Python solo contaba con la sentencia if - else para el manejo de condicionales en el flujo de la aplicación, pero desde Python 3.10 se introdujo la novedad del Structural Pattern Matching y con eso la sentencia match - case.\n",
    "\n",
    "> ```Python\n",
    ">match variable:\n",
    ">\tcase \"value 1\":\n",
    ">\t  x = 15\n",
    ">\tcase \"value 2\":\n",
    ">\t  x = 25\n",
    ">\tcase _:\n",
    ">\t  x = 0\n",
    "> ```\n",
    "\n"
   ]
  },
  {
   "cell_type": "code",
   "execution_count": 17,
   "metadata": {
    "colab": {
     "base_uri": "https://localhost:8080/"
    },
    "executionInfo": {
     "elapsed": 3621,
     "status": "ok",
     "timestamp": 1721988285327,
     "user": {
      "displayName": "Miguel Ángel Nievas Fuertes",
      "userId": "11397502732317349410"
     },
     "user_tz": -120
    },
    "id": "mOhiIjaIjmHc",
    "outputId": "f2e47713-3265-4101-941a-936c254c51aa"
   },
   "outputs": [
    {
     "name": "stdin",
     "output_type": "stream",
     "text": [
      "Ingrese un día de la semana:  MARTES\n"
     ]
    },
    {
     "name": "stdout",
     "output_type": "stream",
     "text": [
      "La tarea para MARTES es: Ir al gimnasio\n"
     ]
    }
   ],
   "source": [
    "day = input(\"Ingrese un día de la semana: \")\n",
    "\n",
    "# Usando match case\n",
    "match day.lower():\n",
    "    case \"lunes\":\n",
    "        task = \"Hacer la compra\"\n",
    "    case \"martes\":\n",
    "        task = \"Ir al gimnasio\"\n",
    "    case \"miércoles\":\n",
    "        task = \"Estudiar Python\"\n",
    "    case \"jueves\":\n",
    "        task = \"Llamar a mamá\"\n",
    "    case \"viernes\":\n",
    "        task = \"Ver una película\"\n",
    "    case \"sábado\":\n",
    "        task = \"Salir con amigos\"\n",
    "    case \"domingo\":\n",
    "        task = \"Relajarse en casa\"\n",
    "    case _:\n",
    "        task = \"Ese día no es válido\"\n",
    "\n",
    "print(f\"La tarea para {day} es: {task}\")"
   ]
  },
  {
   "cell_type": "markdown",
   "metadata": {
    "id": "oxCw23tIjmHc",
    "jp-MarkdownHeadingCollapsed": true
   },
   "source": [
    "## 3. Bucle for\n",
    "Gracias a los bucles podemos ejecutar código repetitivo, de manera bastante automática. Son muy útiles para que nuestro código no sea redundante, y también para aplicar operaciones cuando manejamos iterables. Un iterable no es más que una colección de objetos (una lista es un iterable) que podremos ir recorriendo uno a uno con el bucle `for`, y aplicar operaciones a cada elemento.\n",
    "\n",
    "La sintaxis de los bucles `for` es la siguiente:\n",
    "\n",
    "```Python\n",
    "for var_ejecucion in limites ejecución:\n",
    "    codigo del for...\n",
    "```\n",
    "    \n",
    "    \n",
    "* **Límites de ejecución**: La cantidad de veces que queremos que se ejecute un `for`. Esto es así porque si no se ejecutarían hasta el infinito. Y además, tienen una variable de ejecución que se va actualizando. Por ejemplo del 1 al 10. Primero valdría 1, luego 2...así hasta 10.\n",
    "\n",
    "\n",
    "* **Variable de ejecución**: dentro del for habrá una variable que se irá actualizando con cada ejecución. Si se ejecuta 10 veces, primero la variable valdrá 1, luego 2, y así hasta 10.\n",
    "\n"
   ]
  },
  {
   "cell_type": "markdown",
   "metadata": {
    "id": "2skXSWFojmHc"
   },
   "source": [
    "Mejor vemos un ejemplo para entenderlo. Tienes las notas de tres alumnos en una lista, y quieres imprimir por pantalla las notas"
   ]
  },
  {
   "cell_type": "code",
   "execution_count": null,
   "metadata": {
    "colab": {
     "base_uri": "https://localhost:8080/"
    },
    "executionInfo": {
     "elapsed": 300,
     "status": "ok",
     "timestamp": 1721988604037,
     "user": {
      "displayName": "Miguel Ángel Nievas Fuertes",
      "userId": "11397502732317349410"
     },
     "user_tz": -120
    },
    "id": "ZOEADKA8Tt6m",
    "outputId": "a57d516e-77fc-4053-800d-50be7991167a"
   },
   "outputs": [
    {
     "name": "stdout",
     "output_type": "stream",
     "text": [
      "3\n",
      "6\n",
      "9\n",
      "10\n"
     ]
    }
   ],
   "source": [
    "notas = [3, 6, 9, 10]\n",
    "for nota in notas:\n",
    "    print(nota)"
   ]
  },
  {
   "cell_type": "code",
   "execution_count": null,
   "metadata": {
    "colab": {
     "base_uri": "https://localhost:8080/"
    },
    "executionInfo": {
     "elapsed": 300,
     "status": "ok",
     "timestamp": 1721988663124,
     "user": {
      "displayName": "Miguel Ángel Nievas Fuertes",
      "userId": "11397502732317349410"
     },
     "user_tz": -120
    },
    "id": "61YOaP6tjmHc",
    "outputId": "a4ac53ff-2169-4ef4-f372-127c7dc41548"
   },
   "outputs": [
    {
     "name": "stdout",
     "output_type": "stream",
     "text": [
      "3\n",
      "6\n",
      "9\n",
      "10\n"
     ]
    }
   ],
   "source": [
    "notas = [3, 6, 9, 10]\n",
    "\n",
    "print(notas[0])\n",
    "print(notas[1])\n",
    "print(notas[2])\n",
    "print(notas[3])"
   ]
  },
  {
   "cell_type": "code",
   "execution_count": null,
   "metadata": {
    "colab": {
     "base_uri": "https://localhost:8080/"
    },
    "executionInfo": {
     "elapsed": 294,
     "status": "ok",
     "timestamp": 1721988679845,
     "user": {
      "displayName": "Miguel Ángel Nievas Fuertes",
      "userId": "11397502732317349410"
     },
     "user_tz": -120
    },
    "id": "mW2vOdCMjmHd",
    "outputId": "c31d8318-a486-48ec-bad8-8662a15ffbfb"
   },
   "outputs": [
    {
     "name": "stdout",
     "output_type": "stream",
     "text": [
      "Suspenso\n",
      "Aprobado\n",
      "Aprobado\n",
      "Aprobado\n"
     ]
    }
   ],
   "source": [
    "if notas[0] >= 5:\n",
    "    print(\"Aprobado\")\n",
    "else:\n",
    "    print(\"Suspenso\")\n",
    "\n",
    "if notas[1] >= 5:\n",
    "    print(\"Aprobado\")\n",
    "else:\n",
    "    print(\"Suspenso\")\n",
    "\n",
    "if notas[2] >= 5:\n",
    "    print(\"Aprobado\")\n",
    "else:\n",
    "    print(\"Suspenso\")\n",
    "\n",
    "if notas[3] >= 5:\n",
    "    print(\"Aprobado\")\n",
    "else:\n",
    "    print(\"Suspenso\")\n"
   ]
  },
  {
   "cell_type": "code",
   "execution_count": null,
   "metadata": {
    "colab": {
     "base_uri": "https://localhost:8080/"
    },
    "executionInfo": {
     "elapsed": 368,
     "status": "ok",
     "timestamp": 1721838496379,
     "user": {
      "displayName": "Miguel Ángel Nievas Fuertes",
      "userId": "11397502732317349410"
     },
     "user_tz": -120
    },
    "id": "jozHbJTfjmHd",
    "outputId": "9c35adba-89cb-4a65-d1b2-275580ead118"
   },
   "outputs": [
    {
     "data": {
      "text/plain": [
       "[3, 6, 9, 10]"
      ]
     },
     "execution_count": 152,
     "metadata": {},
     "output_type": "execute_result"
    }
   ],
   "source": [
    "notas"
   ]
  },
  {
   "cell_type": "code",
   "execution_count": null,
   "metadata": {
    "colab": {
     "base_uri": "https://localhost:8080/"
    },
    "executionInfo": {
     "elapsed": 320,
     "status": "ok",
     "timestamp": 1721988753662,
     "user": {
      "displayName": "Miguel Ángel Nievas Fuertes",
      "userId": "11397502732317349410"
     },
     "user_tz": -120
    },
    "id": "Sc3dBLkyjmHd",
    "outputId": "cba90e00-6510-4f42-c79d-e812d7d92a99"
   },
   "outputs": [
    {
     "name": "stdout",
     "output_type": "stream",
     "text": [
      "Recorriendo nota 3\n",
      "Suspenso\n",
      "Recorriendo nota 6\n",
      "Aprobado\n",
      "Recorriendo nota 9\n",
      "Aprobado\n",
      "Recorriendo nota 10\n",
      "Aprobado\n"
     ]
    }
   ],
   "source": [
    "for nota in notas: # nota = notas[0...]\n",
    "    print(\"Recorriendo nota\", nota)\n",
    "    if nota >= 5:\n",
    "        print(\"Aprobado\")\n",
    "    else:\n",
    "        print(\"Suspenso\")"
   ]
  },
  {
   "cell_type": "markdown",
   "metadata": {
    "id": "SY4QPDPpjmHd"
   },
   "source": [
    "Genial, pero qué ocurre si ahora tienes 30 notas, o simplemente quieres que tu programa no dependa de cuantas notas tienes, unas veces son 30, otras 20..."
   ]
  },
  {
   "cell_type": "code",
   "execution_count": null,
   "metadata": {
    "colab": {
     "base_uri": "https://localhost:8080/"
    },
    "executionInfo": {
     "elapsed": 301,
     "status": "ok",
     "timestamp": 1721988778052,
     "user": {
      "displayName": "Miguel Ángel Nievas Fuertes",
      "userId": "11397502732317349410"
     },
     "user_tz": -120
    },
    "id": "iShkJqBNjmHe",
    "outputId": "5b957bf4-ce71-4930-d993-2c829d0b979b"
   },
   "outputs": [
    {
     "name": "stdout",
     "output_type": "stream",
     "text": [
      "[4, 5, 7, 3, 4, 6, 5, 5, 4, 5, 5, 6]\n"
     ]
    }
   ],
   "source": [
    "notas_clase = [4,5,7,3,4,6,5,5,4,5,5,6]\n",
    "print(notas_clase)"
   ]
  },
  {
   "cell_type": "code",
   "execution_count": null,
   "metadata": {
    "colab": {
     "base_uri": "https://localhost:8080/"
    },
    "executionInfo": {
     "elapsed": 311,
     "status": "ok",
     "timestamp": 1721988789980,
     "user": {
      "displayName": "Miguel Ángel Nievas Fuertes",
      "userId": "11397502732317349410"
     },
     "user_tz": -120
    },
    "id": "gm2qlUMwjmHe",
    "outputId": "be3378fd-2c07-4478-f141-5a2da38477f3"
   },
   "outputs": [
    {
     "name": "stdout",
     "output_type": "stream",
     "text": [
      "Suspenso con: 4\n",
      "Aprobado con: 5\n",
      "Aprobado con: 7\n",
      "Suspenso con: 3\n",
      "Suspenso con: 4\n",
      "Aprobado con: 6\n",
      "Aprobado con: 5\n",
      "Aprobado con: 5\n",
      "Suspenso con: 4\n",
      "Aprobado con: 5\n",
      "Aprobado con: 5\n",
      "Aprobado con: 6\n"
     ]
    }
   ],
   "source": [
    "for nota in notas_clase:\n",
    "    if nota >= 5:\n",
    "        print(\"Aprobado con:\", nota)\n",
    "    else:\n",
    "        print(\"Suspenso con:\", nota)"
   ]
  },
  {
   "cell_type": "code",
   "execution_count": null,
   "metadata": {
    "colab": {
     "base_uri": "https://localhost:8080/"
    },
    "executionInfo": {
     "elapsed": 292,
     "status": "ok",
     "timestamp": 1721988826178,
     "user": {
      "displayName": "Miguel Ángel Nievas Fuertes",
      "userId": "11397502732317349410"
     },
     "user_tz": -120
    },
    "id": "GoyORlIiT7Uf",
    "outputId": "5b5f6e1d-2792-4383-bcb4-63ea947afb84"
   },
   "outputs": [
    {
     "name": "stdout",
     "output_type": "stream",
     "text": [
      "comienza iteración\n",
      "P\n",
      "comienza iteración\n",
      "y\n",
      "comienza iteración\n",
      "t\n",
      "comienza iteración\n",
      "h\n",
      "comienza iteración\n",
      "o\n",
      "comienza iteración\n",
      "n\n"
     ]
    }
   ],
   "source": [
    "# Fijate que un String también es un iterable\n",
    "\n",
    "for letra in \"Python\":\n",
    "    print(\"comienza iteración\")\n",
    "    print(letra)"
   ]
  },
  {
   "cell_type": "code",
   "execution_count": 18,
   "metadata": {
    "colab": {
     "base_uri": "https://localhost:8080/"
    },
    "executionInfo": {
     "elapsed": 274,
     "status": "ok",
     "timestamp": 1721988898535,
     "user": {
      "displayName": "Miguel Ángel Nievas Fuertes",
      "userId": "11397502732317349410"
     },
     "user_tz": -120
    },
    "id": "eOUTRrzhjmHe",
    "outputId": "e9d66844-5050-4510-b6aa-1a1aef7e2c9f"
   },
   "outputs": [
    {
     "name": "stdout",
     "output_type": "stream",
     "text": [
      "Lunes\n",
      "L\n",
      "u\n",
      "n\n",
      "e\n",
      "s\n",
      "----------------------------------------------------------------------------------------------------\n",
      "Martes\n",
      "M\n",
      "a\n",
      "r\n",
      "t\n",
      "e\n",
      "s\n",
      "----------------------------------------------------------------------------------------------------\n",
      "Miércoles\n",
      "M\n",
      "i\n",
      "é\n",
      "r\n",
      "c\n",
      "o\n",
      "l\n",
      "e\n",
      "s\n",
      "----------------------------------------------------------------------------------------------------\n",
      "Jueves\n",
      "J\n",
      "u\n",
      "e\n",
      "v\n",
      "e\n",
      "s\n",
      "----------------------------------------------------------------------------------------------------\n",
      "Viernes\n",
      "V\n",
      "i\n",
      "e\n",
      "r\n",
      "n\n",
      "e\n",
      "s\n",
      "----------------------------------------------------------------------------------------------------\n",
      "Sábado\n",
      "S\n",
      "á\n",
      "b\n",
      "a\n",
      "d\n",
      "o\n",
      "----------------------------------------------------------------------------------------------------\n",
      "Domingo\n",
      "D\n",
      "o\n",
      "m\n",
      "i\n",
      "n\n",
      "g\n",
      "o\n",
      "----------------------------------------------------------------------------------------------------\n"
     ]
    }
   ],
   "source": [
    "\n",
    "dias_semana = [\"Lunes\", \"Martes\", \"Miércoles\", \"Jueves\", \"Viernes\", \"Sábado\", \"Domingo\"]\n",
    "\n",
    "for dia in dias_semana:\n",
    "    print(dia)\n",
    "    for letra in dia:\n",
    "        print(letra)\n",
    "    print(\"-\"*100)"
   ]
  },
  {
   "cell_type": "markdown",
   "metadata": {
    "id": "QTv1NJQMjmHe"
   },
   "source": [
    "Todo objeto que sea **iterable**, lo podrás recorrer en un `for`. Veremos los iterables más en detalle en las colecciones."
   ]
  },
  {
   "cell_type": "markdown",
   "metadata": {
    "id": "ldN7YFvkjmHe"
   },
   "source": [
    "El bucle for resulta de gran utilidad para **aplicar operaciones a cada elemento**. Hasta ahora solo hemos impreso items por pantalla, pero ¿y si queremos subir la nota de todos los alumnos un punto extra? No puedo hacer `lista + 1`. Tendré que iterar/recorrer cada elemento y aplicarle la operación."
   ]
  },
  {
   "cell_type": "code",
   "execution_count": 27,
   "metadata": {
    "id": "4g8juzXdjmHi"
   },
   "outputs": [],
   "source": [
    "import time"
   ]
  },
  {
   "cell_type": "code",
   "execution_count": null,
   "metadata": {
    "id": "nyLPMIdGjmHi"
   },
   "outputs": [],
   "source": [
    "notas_clase = [4,5,7]\n",
    "entregas = [False,True,True]"
   ]
  },
  {
   "cell_type": "code",
   "execution_count": 25,
   "metadata": {
    "colab": {
     "base_uri": "https://localhost:8080/"
    },
    "executionInfo": {
     "elapsed": 288,
     "status": "ok",
     "timestamp": 1721988936016,
     "user": {
      "displayName": "Miguel Ángel Nievas Fuertes",
      "userId": "11397502732317349410"
     },
     "user_tz": -120
    },
    "id": "WVNZsdjGjmHi",
    "outputId": "f19c99bd-8bba-4256-8cc1-4b646870f1cb"
   },
   "outputs": [
    {
     "data": {
      "text/plain": [
       "1"
      ]
     },
     "execution_count": 25,
     "metadata": {},
     "output_type": "execute_result"
    }
   ],
   "source": [
    "nota = 5\n",
    "notas_clase.index(nota)"
   ]
  },
  {
   "cell_type": "code",
   "execution_count": 26,
   "metadata": {
    "colab": {
     "base_uri": "https://localhost:8080/"
    },
    "executionInfo": {
     "elapsed": 2,
     "status": "ok",
     "timestamp": 1721988937235,
     "user": {
      "displayName": "Miguel Ángel Nievas Fuertes",
      "userId": "11397502732317349410"
     },
     "user_tz": -120
    },
    "id": "3xvvVVxnjmHi",
    "outputId": "a3558b6c-b919-4ea1-f24d-21c0c943dcd1"
   },
   "outputs": [
    {
     "data": {
      "text/plain": [
       "True"
      ]
     },
     "execution_count": 26,
     "metadata": {},
     "output_type": "execute_result"
    }
   ],
   "source": [
    "entregas[notas_clase.index(nota)]"
   ]
  },
  {
   "cell_type": "code",
   "execution_count": 19,
   "metadata": {
    "colab": {
     "base_uri": "https://localhost:8080/"
    },
    "executionInfo": {
     "elapsed": 301,
     "status": "ok",
     "timestamp": 1721988967603,
     "user": {
      "displayName": "Miguel Ángel Nievas Fuertes",
      "userId": "11397502732317349410"
     },
     "user_tz": -120
    },
    "id": "9TXLIN0mjmHj",
    "outputId": "003236f8-507c-48cb-8001-20a211148cd8",
    "tags": []
   },
   "outputs": [
    {
     "name": "stdout",
     "output_type": "stream",
     "text": [
      "iterando con la nota: 4\n",
      "Cargando siguiente nota\n",
      "iterando con la nota: 5\n",
      "Cargando siguiente nota\n",
      "iterando con la nota: 7\n",
      "Cargando siguiente nota\n",
      "[3, 6, 8]\n"
     ]
    }
   ],
   "source": [
    "notas_clase = [4,5,7]\n",
    "notas_clase_actualizada = []\n",
    "entregas = [False,True,True]\n",
    "\n",
    "for nota in notas_clase:\n",
    "    print(\"iterando con la nota:\", nota)\n",
    "    if entregas[notas_clase.index(nota)]:\n",
    "        notas_clase_actualizada.append(nota + 1)\n",
    "    else:\n",
    "        notas_clase_actualizada.append(nota - 1)\n",
    "    print(\"Cargando siguiente nota\")\n",
    "\n",
    "print(notas_clase_actualizada)"
   ]
  },
  {
   "cell_type": "markdown",
   "metadata": {
    "id": "U3dFOIxljmHj"
   },
   "source": [
    "Dentro de un bucle `for`, podremos anidar más bucles. Esto resulta útil si queremos calcular combinaciones de iterables, por ejemplo, si quiero imprimir por pantalla todas las coordenadas de un tablero de 4x4."
   ]
  },
  {
   "cell_type": "code",
   "execution_count": null,
   "metadata": {
    "colab": {
     "base_uri": "https://localhost:8080/"
    },
    "executionInfo": {
     "elapsed": 289,
     "status": "ok",
     "timestamp": 1721988976899,
     "user": {
      "displayName": "Miguel Ángel Nievas Fuertes",
      "userId": "11397502732317349410"
     },
     "user_tz": -120
    },
    "id": "3_BVFdTOjmHj",
    "outputId": "4389809e-8cf1-44ae-a56e-41904cb749eb"
   },
   "outputs": [
    {
     "data": {
      "text/plain": [
       "[1, 2, 3]"
      ]
     },
     "execution_count": 35,
     "metadata": {},
     "output_type": "execute_result"
    }
   ],
   "source": [
    "list(range(1, 4))"
   ]
  },
  {
   "cell_type": "code",
   "execution_count": 20,
   "metadata": {
    "colab": {
     "base_uri": "https://localhost:8080/"
    },
    "executionInfo": {
     "elapsed": 303,
     "status": "ok",
     "timestamp": 1721989008267,
     "user": {
      "displayName": "Miguel Ángel Nievas Fuertes",
      "userId": "11397502732317349410"
     },
     "user_tz": -120
    },
    "id": "WULvQNu7jmHk",
    "outputId": "f7e3c99c-0901-46c6-9b99-d61d679c2f3c",
    "tags": []
   },
   "outputs": [
    {
     "name": "stdout",
     "output_type": "stream",
     "text": [
      "Coordenada: 1, 1\n",
      "Coordenada: 1, 2\n",
      "Coordenada: 1, 3\n",
      "Coordenada: 2, 1\n",
      "Coordenada: 2, 2\n",
      "Casilla central\n",
      "Coordenada: 2, 3\n",
      "Coordenada: 3, 1\n",
      "Coordenada: 3, 2\n",
      "Coordenada: 3, 3\n"
     ]
    }
   ],
   "source": [
    "# Tablero 3 en raya\n",
    "for i in range(1, 4):\n",
    "\n",
    "    for j in range(1, 4):\n",
    "        print(f'Coordenada: {i}, {j}')\n",
    "        # time.sleep(2)\n",
    "        if i == 2 and j == 2:\n",
    "            print(\"Casilla central\")"
   ]
  },
  {
   "cell_type": "markdown",
   "metadata": {
    "id": "XbrQLbjOjmHk"
   },
   "source": [
    "### Función range\n",
    "Es muy común usar la función `range()` en las condiciones de un bucle. Esta función puede funcionar con un único argumento numérico y su output es un **iterable**, comprendido entre el 0 y el número introducido como argumento.\n",
    "\n",
    "Verás en [la documentación](https://www.w3schools.com/python/ref_func_range.asp) que `range()` tiene más posibilidades, combinando sus argumentos."
   ]
  },
  {
   "cell_type": "code",
   "execution_count": 28,
   "metadata": {
    "colab": {
     "base_uri": "https://localhost:8080/"
    },
    "executionInfo": {
     "elapsed": 333,
     "status": "ok",
     "timestamp": 1721838835278,
     "user": {
      "displayName": "Miguel Ángel Nievas Fuertes",
      "userId": "11397502732317349410"
     },
     "user_tz": -120
    },
    "id": "7qF22UcxjmHk",
    "outputId": "c9f2f26c-3dcb-4888-8d1b-ec2e290ef0de"
   },
   "outputs": [
    {
     "data": {
      "text/plain": [
       "[1, 2, 3, 4, 5]"
      ]
     },
     "execution_count": 28,
     "metadata": {},
     "output_type": "execute_result"
    }
   ],
   "source": [
    "list(range(1, 6))"
   ]
  },
  {
   "cell_type": "code",
   "execution_count": 29,
   "metadata": {
    "colab": {
     "base_uri": "https://localhost:8080/"
    },
    "executionInfo": {
     "elapsed": 338,
     "status": "ok",
     "timestamp": 1721838837140,
     "user": {
      "displayName": "Miguel Ángel Nievas Fuertes",
      "userId": "11397502732317349410"
     },
     "user_tz": -120
    },
    "id": "ChbRpUzZjmHk",
    "outputId": "578b0a45-4f07-499d-d01b-c138d28d6227"
   },
   "outputs": [
    {
     "name": "stdout",
     "output_type": "stream",
     "text": [
      "[0, 1, 2, 3, 4, 5]\n",
      "[0, 1, 2, 3, 4, 5]\n",
      "[0, 2, 4]\n",
      "[2, 3, 4, 5]\n",
      "[10, 8, 6, 4, 2, 0]\n"
     ]
    }
   ],
   "source": [
    "print(list(range(6)))\n",
    "print(list(range(0, 6, 1)))\n",
    "print(list(range(0, 6, 2)))\n",
    "print(list(range(2, 6, 1)))\n",
    "print(list(range(10, -1, -2)))"
   ]
  },
  {
   "cell_type": "markdown",
   "metadata": {
    "id": "XqSAd7zQjmHl"
   },
   "source": [
    "En ocasiones nos interesa iterar sobre la posición que tiene cada elemento dentro de un iterable. Para ello podemos combinar `range` con `len` dentro de las condiciones del bucle"
   ]
  },
  {
   "cell_type": "code",
   "execution_count": 30,
   "metadata": {
    "colab": {
     "base_uri": "https://localhost:8080/"
    },
    "executionInfo": {
     "elapsed": 307,
     "status": "ok",
     "timestamp": 1721838841294,
     "user": {
      "displayName": "Miguel Ángel Nievas Fuertes",
      "userId": "11397502732317349410"
     },
     "user_tz": -120
    },
    "id": "IZeKwyZ1jmHl",
    "outputId": "ddd46cde-f974-4851-f56a-65e37f594222"
   },
   "outputs": [
    {
     "data": {
      "text/plain": [
       "[0, 1, 2]"
      ]
     },
     "execution_count": 30,
     "metadata": {},
     "output_type": "execute_result"
    }
   ],
   "source": [
    "list(range(3))"
   ]
  },
  {
   "cell_type": "code",
   "execution_count": null,
   "metadata": {
    "colab": {
     "base_uri": "https://localhost:8080/"
    },
    "executionInfo": {
     "elapsed": 421,
     "status": "ok",
     "timestamp": 1721989039370,
     "user": {
      "displayName": "Miguel Ángel Nievas Fuertes",
      "userId": "11397502732317349410"
     },
     "user_tz": -120
    },
    "id": "6iUFiirjjmHl",
    "outputId": "4ebd726b-dd3b-464a-a280-dac42699d1b2"
   },
   "outputs": [
    {
     "data": {
      "text/plain": [
       "3"
      ]
     },
     "execution_count": 37,
     "metadata": {},
     "output_type": "execute_result"
    }
   ],
   "source": [
    "colores = ['rojo', 'verde', 'azul']\n",
    "len(colores)"
   ]
  },
  {
   "cell_type": "code",
   "execution_count": null,
   "metadata": {
    "colab": {
     "base_uri": "https://localhost:8080/"
    },
    "executionInfo": {
     "elapsed": 375,
     "status": "ok",
     "timestamp": 1721989043874,
     "user": {
      "displayName": "Miguel Ángel Nievas Fuertes",
      "userId": "11397502732317349410"
     },
     "user_tz": -120
    },
    "id": "V3TRvfmdjmHl",
    "outputId": "2ece4b80-6585-4604-f6ed-9f86568b18f5"
   },
   "outputs": [
    {
     "name": "stdout",
     "output_type": "stream",
     "text": [
      "rojo\n",
      "verde\n",
      "azul\n"
     ]
    }
   ],
   "source": [
    "for color in colores:\n",
    "    print(color)"
   ]
  },
  {
   "cell_type": "code",
   "execution_count": null,
   "metadata": {
    "colab": {
     "base_uri": "https://localhost:8080/"
    },
    "executionInfo": {
     "elapsed": 286,
     "status": "ok",
     "timestamp": 1721989055248,
     "user": {
      "displayName": "Miguel Ángel Nievas Fuertes",
      "userId": "11397502732317349410"
     },
     "user_tz": -120
    },
    "id": "BT5JFx44jmHl",
    "outputId": "4c334dcc-1c3d-4c3e-b76d-218e7af397f3"
   },
   "outputs": [
    {
     "data": {
      "text/plain": [
       "[0, 1, 2]"
      ]
     },
     "execution_count": 39,
     "metadata": {},
     "output_type": "execute_result"
    }
   ],
   "source": [
    "list(range(len(colores)))"
   ]
  },
  {
   "cell_type": "code",
   "execution_count": null,
   "metadata": {
    "colab": {
     "base_uri": "https://localhost:8080/",
     "height": 35
    },
    "executionInfo": {
     "elapsed": 330,
     "status": "ok",
     "timestamp": 1721838874452,
     "user": {
      "displayName": "Miguel Ángel Nievas Fuertes",
      "userId": "11397502732317349410"
     },
     "user_tz": -120
    },
    "id": "7wXZ4EB8jmHl",
    "outputId": "af9bff7e-3fd3-40a2-99a3-93c1d8b38978"
   },
   "outputs": [
    {
     "data": {
      "application/vnd.google.colaboratory.intrinsic+json": {
       "type": "string"
      },
      "text/plain": [
       "'azul'"
      ]
     },
     "execution_count": 168,
     "metadata": {},
     "output_type": "execute_result"
    }
   ],
   "source": [
    "colores[2]"
   ]
  },
  {
   "cell_type": "code",
   "execution_count": null,
   "metadata": {
    "colab": {
     "base_uri": "https://localhost:8080/"
    },
    "executionInfo": {
     "elapsed": 304,
     "status": "ok",
     "timestamp": 1721989082683,
     "user": {
      "displayName": "Miguel Ángel Nievas Fuertes",
      "userId": "11397502732317349410"
     },
     "user_tz": -120
    },
    "id": "UNoWpWOxjmHm",
    "outputId": "53707239-73ef-4895-8f82-6953b213e4ad"
   },
   "outputs": [
    {
     "name": "stdout",
     "output_type": "stream",
     "text": [
      "0 rojo\n",
      "1 verde\n",
      "2 azul\n"
     ]
    }
   ],
   "source": [
    "colores = ['rojo', 'verde', 'azul']\n",
    "\n",
    "for i in range(len(colores)):\n",
    "    print(i, colores[i])"
   ]
  },
  {
   "cell_type": "markdown",
   "metadata": {
    "id": "hlAdCiHBjmHm"
   },
   "source": [
    "### Función enumerate\n",
    "¿Y si dentro del bucle necesitamos tanto el elemento del iterable, como su índice? En [la documentación](https://www.w3schools.com/python/ref_func_enumerate.asp) verás que puedes elegir desde qué elemento de la lista quieres empezar."
   ]
  },
  {
   "cell_type": "code",
   "execution_count": null,
   "metadata": {
    "colab": {
     "base_uri": "https://localhost:8080/"
    },
    "executionInfo": {
     "elapsed": 266,
     "status": "ok",
     "timestamp": 1721989095611,
     "user": {
      "displayName": "Miguel Ángel Nievas Fuertes",
      "userId": "11397502732317349410"
     },
     "user_tz": -120
    },
    "id": "QDMkWiEwjmHm",
    "outputId": "224c94da-602c-498b-9f3d-c0d9f2465f68"
   },
   "outputs": [
    {
     "data": {
      "text/plain": [
       "[(0, 'Pedro'), (1, 'Mariano'), (2, 'Jose Luis')]"
      ]
     },
     "execution_count": 42,
     "metadata": {},
     "output_type": "execute_result"
    }
   ],
   "source": [
    "names = [\"Pedro\", \"Mariano\", \"Jose Luis\"]\n",
    "list(enumerate(names))"
   ]
  },
  {
   "cell_type": "code",
   "execution_count": null,
   "metadata": {
    "colab": {
     "base_uri": "https://localhost:8080/"
    },
    "executionInfo": {
     "elapsed": 300,
     "status": "ok",
     "timestamp": 1721989119998,
     "user": {
      "displayName": "Miguel Ángel Nievas Fuertes",
      "userId": "11397502732317349410"
     },
     "user_tz": -120
    },
    "id": "iIFSwWgJjmHn",
    "outputId": "625b86c2-d388-41ad-9f74-6c4cd375cd0b"
   },
   "outputs": [
    {
     "name": "stdout",
     "output_type": "stream",
     "text": [
      "Nombre 0: Pedro\n",
      "0\n",
      "Pedro\n",
      "Nombre 1: Mariano\n",
      "1\n",
      "Mariano\n",
      "Nombre 2: Jose Luis\n",
      "2\n",
      "Jose Luis\n"
     ]
    }
   ],
   "source": [
    "for index, name in enumerate(names):\n",
    "    print(f\"Nombre {index}: {name}\")\n",
    "    print(index)\n",
    "    print(name)"
   ]
  },
  {
   "cell_type": "markdown",
   "metadata": {
    "id": "3H-Vd5hcjmHo"
   },
   "source": [
    "<table align=\"left\">\n",
    " <tr><td width=\"80\"><img src=\"./img/error.png\" style=\"width:auto;height:auto\"></td>\n",
    "     <td style=\"text-align:left\">\n",
    "         <h3>ERRORES en los rangos</h3>\n",
    "         \n",
    " </td></tr>\n",
    "</table>"
   ]
  },
  {
   "cell_type": "markdown",
   "metadata": {
    "id": "pFmI1PqbjmHo"
   },
   "source": [
    "Mucho cuidado al escribir las condiciones del bucle. Lo primero, porque podríamos tener condiciones infinitas de ejecución que ni nosotros, ni nuestro ordenador lo deseamos. Y lo segundo porque si intentamos acceder a un índice de nuestro iterable que no existe, saltará un error. Veamos ejemplo"
   ]
  },
  {
   "cell_type": "code",
   "execution_count": null,
   "metadata": {
    "colab": {
     "base_uri": "https://localhost:8080/"
    },
    "executionInfo": {
     "elapsed": 259,
     "status": "ok",
     "timestamp": 1721989143462,
     "user": {
      "displayName": "Miguel Ángel Nievas Fuertes",
      "userId": "11397502732317349410"
     },
     "user_tz": -120
    },
    "id": "xdsi-bYjjmHo",
    "outputId": "44a981d1-0e9c-4dde-9196-026fdeaa0840"
   },
   "outputs": [
    {
     "data": {
      "text/plain": [
       "[0, 1, 2, 3]"
      ]
     },
     "execution_count": 44,
     "metadata": {},
     "output_type": "execute_result"
    }
   ],
   "source": [
    "list(range(4))"
   ]
  },
  {
   "cell_type": "code",
   "execution_count": null,
   "metadata": {
    "colab": {
     "base_uri": "https://localhost:8080/",
     "height": 158
    },
    "executionInfo": {
     "elapsed": 284,
     "status": "error",
     "timestamp": 1721989147123,
     "user": {
      "displayName": "Miguel Ángel Nievas Fuertes",
      "userId": "11397502732317349410"
     },
     "user_tz": -120
    },
    "id": "RuF6dC9fjmHo",
    "outputId": "a82cab8e-25e5-4251-ea8f-e0061a631fe3"
   },
   "outputs": [
    {
     "ename": "IndexError",
     "evalue": "list index out of range",
     "output_type": "error",
     "traceback": [
      "\u001b[0;31m---------------------------------------------------------------------------\u001b[0m",
      "\u001b[0;31mIndexError\u001b[0m                                Traceback (most recent call last)",
      "\u001b[0;32m<ipython-input-45-5be09a047358>\u001b[0m in \u001b[0;36m<cell line: 2>\u001b[0;34m()\u001b[0m\n\u001b[1;32m      1\u001b[0m \u001b[0mnames\u001b[0m \u001b[0;34m=\u001b[0m \u001b[0;34m[\u001b[0m\u001b[0;34m\"Pedro\"\u001b[0m\u001b[0;34m,\u001b[0m \u001b[0;34m\"Mariano\"\u001b[0m\u001b[0;34m,\u001b[0m \u001b[0;34m\"Jose Luis\"\u001b[0m\u001b[0;34m]\u001b[0m\u001b[0;34m\u001b[0m\u001b[0;34m\u001b[0m\u001b[0m\n\u001b[0;32m----> 2\u001b[0;31m \u001b[0mnames\u001b[0m\u001b[0;34m[\u001b[0m\u001b[0;36m3\u001b[0m\u001b[0;34m]\u001b[0m\u001b[0;34m\u001b[0m\u001b[0;34m\u001b[0m\u001b[0m\n\u001b[0m",
      "\u001b[0;31mIndexError\u001b[0m: list index out of range"
     ]
    }
   ],
   "source": [
    "names = [\"Pedro\", \"Mariano\", \"Jose Luis\"]\n",
    "names[3]"
   ]
  },
  {
   "cell_type": "code",
   "execution_count": null,
   "metadata": {
    "colab": {
     "base_uri": "https://localhost:8080/",
     "height": 228
    },
    "executionInfo": {
     "elapsed": 314,
     "status": "error",
     "timestamp": 1721989165008,
     "user": {
      "displayName": "Miguel Ángel Nievas Fuertes",
      "userId": "11397502732317349410"
     },
     "user_tz": -120
    },
    "id": "MQgy5IJPjmHo",
    "outputId": "87f4ffd1-b4ea-475a-ffb1-2ca4299dac50"
   },
   "outputs": [
    {
     "name": "stdout",
     "output_type": "stream",
     "text": [
      "0 Pedro\n",
      "1 Mariano\n",
      "2 Jose Luis\n"
     ]
    },
    {
     "ename": "IndexError",
     "evalue": "list index out of range",
     "output_type": "error",
     "traceback": [
      "\u001b[0;31m---------------------------------------------------------------------------\u001b[0m",
      "\u001b[0;31mIndexError\u001b[0m                                Traceback (most recent call last)",
      "\u001b[0;32m<ipython-input-46-7edb42d5f667>\u001b[0m in \u001b[0;36m<cell line: 3>\u001b[0;34m()\u001b[0m\n\u001b[1;32m      2\u001b[0m \u001b[0;34m\u001b[0m\u001b[0m\n\u001b[1;32m      3\u001b[0m \u001b[0;32mfor\u001b[0m \u001b[0mi\u001b[0m \u001b[0;32min\u001b[0m \u001b[0mrange\u001b[0m\u001b[0;34m(\u001b[0m\u001b[0;36m4\u001b[0m\u001b[0;34m)\u001b[0m\u001b[0;34m:\u001b[0m\u001b[0;34m\u001b[0m\u001b[0;34m\u001b[0m\u001b[0m\n\u001b[0;32m----> 4\u001b[0;31m     \u001b[0mprint\u001b[0m\u001b[0;34m(\u001b[0m\u001b[0mi\u001b[0m\u001b[0;34m,\u001b[0m \u001b[0mnames\u001b[0m\u001b[0;34m[\u001b[0m\u001b[0mi\u001b[0m\u001b[0;34m]\u001b[0m\u001b[0;34m)\u001b[0m\u001b[0;34m\u001b[0m\u001b[0;34m\u001b[0m\u001b[0m\n\u001b[0m",
      "\u001b[0;31mIndexError\u001b[0m: list index out of range"
     ]
    }
   ],
   "source": [
    "names = [\"Pedro\", \"Mariano\", \"Jose Luis\"]\n",
    "\n",
    "for i in range(4):\n",
    "    print(i, names[i])"
   ]
  },
  {
   "cell_type": "markdown",
   "metadata": {
    "id": "bN-ActKojmHo"
   },
   "source": [
    "Es por ello que se recomienda dejar el código lo más \"en automático\" posible. Poner en el range la longitud del iterable no es una buena práctica, ¿Y si mañana el iterable tiene menos nombres? saltará error. ¿Y si tiene más? No los tendremos en cuenta en el for. Por ello es mejor usar `len`."
   ]
  },
  {
   "cell_type": "markdown",
   "metadata": {
    "id": "EVkUfZabjmHp"
   },
   "source": [
    "## 4. Bucle while\n",
    "Se trata de otra manera de implementar un bucle en programación. Los bucles tienen que ir siempre limitados. En el caso del `for`, le poníamos un número concreto de ejecuciones, según el iterable que estuviésemos recorriendo. Para el `while` es algo diferente. Tiene una **condición de ejecución**, que mientras que se cumpla (`True`), seguirá ejecutando una y otra vez. Por otro lado, el bucle tiene una **variable de ejecucón**, al igual que en el `for`, que se irá actualizando con cada vuelta, y es esa variable la que determina cuándo acaba el bucle.\n",
    "\n",
    "> ```Python\n",
    "> while condición:\n",
    ">     Ejecuta este código mientras se siga cumpliendo la condición\n",
    "> ```"
   ]
  },
  {
   "cell_type": "markdown",
   "metadata": {
    "id": "ibQISzY6jmHq"
   },
   "source": [
    "**Cuidado** con estos bucles ya que es muy fácil olvidarnos de actualiza la variable de ejecución, o equivocarnos en la condición de ejecución. Si esto ocurre el código se quedará corriendo hasta que detengamos el kernel (botón *interrupt the kernel*, arriba al lado del Run)\n",
    "\n",
    "Veamos un ejemplo."
   ]
  },
  {
   "cell_type": "code",
   "execution_count": 46,
   "metadata": {
    "id": "x6dh8Sc9jmHq"
   },
   "outputs": [],
   "source": [
    "import time"
   ]
  },
  {
   "cell_type": "code",
   "execution_count": 48,
   "metadata": {
    "colab": {
     "base_uri": "https://localhost:8080/"
    },
    "executionInfo": {
     "elapsed": 5316,
     "status": "ok",
     "timestamp": 1721989295559,
     "user": {
      "displayName": "Miguel Ángel Nievas Fuertes",
      "userId": "11397502732317349410"
     },
     "user_tz": -120
    },
    "id": "gyjb3yLIjmHq",
    "outputId": "c5243271-1a53-411b-c971-0f49ce70ab2c"
   },
   "outputs": [
    {
     "name": "stdout",
     "output_type": "stream",
     "text": [
      "0\n",
      "1\n",
      "2\n",
      "3\n",
      "4\n",
      "5\n",
      "Fin programa\n"
     ]
    }
   ],
   "source": [
    "i = 0\n",
    "while i < 5:\n",
    "    print(i)\n",
    "    i = i + 1 # i += 1\n",
    "print(i)\n",
    "print(\"Fin programa\")"
   ]
  },
  {
   "cell_type": "code",
   "execution_count": null,
   "metadata": {
    "colab": {
     "base_uri": "https://localhost:8080/",
     "height": 332
    },
    "executionInfo": {
     "elapsed": 13010,
     "status": "error",
     "timestamp": 1721989369620,
     "user": {
      "displayName": "Miguel Ángel Nievas Fuertes",
      "userId": "11397502732317349410"
     },
     "user_tz": -120
    },
    "id": "_nltyMpijmHq",
    "outputId": "67f5b586-f33e-4bb2-8aa5-7670baf35a01"
   },
   "outputs": [
    {
     "name": "stdout",
     "output_type": "stream",
     "text": [
      "0\n",
      "0\n",
      "0\n",
      "0\n",
      "0\n",
      "0\n",
      "0\n"
     ]
    },
    {
     "ename": "KeyboardInterrupt",
     "evalue": "",
     "output_type": "error",
     "traceback": [
      "\u001b[0;31m---------------------------------------------------------------------------\u001b[0m",
      "\u001b[0;31mKeyboardInterrupt\u001b[0m                         Traceback (most recent call last)",
      "\u001b[0;32m<ipython-input-49-bab528e82ec7>\u001b[0m in \u001b[0;36m<cell line: 3>\u001b[0;34m()\u001b[0m\n\u001b[1;32m      3\u001b[0m \u001b[0;32mwhile\u001b[0m \u001b[0mi\u001b[0m \u001b[0;34m<\u001b[0m \u001b[0;36m5\u001b[0m\u001b[0;34m:\u001b[0m\u001b[0;34m\u001b[0m\u001b[0;34m\u001b[0m\u001b[0m\n\u001b[1;32m      4\u001b[0m     \u001b[0mprint\u001b[0m\u001b[0;34m(\u001b[0m\u001b[0mi\u001b[0m\u001b[0;34m)\u001b[0m\u001b[0;34m\u001b[0m\u001b[0;34m\u001b[0m\u001b[0m\n\u001b[0;32m----> 5\u001b[0;31m     \u001b[0mtime\u001b[0m\u001b[0;34m.\u001b[0m\u001b[0msleep\u001b[0m\u001b[0;34m(\u001b[0m\u001b[0;36m2\u001b[0m\u001b[0;34m)\u001b[0m\u001b[0;34m\u001b[0m\u001b[0;34m\u001b[0m\u001b[0m\n\u001b[0m\u001b[1;32m      6\u001b[0m \u001b[0;34m\u001b[0m\u001b[0m\n\u001b[1;32m      7\u001b[0m \u001b[0mprint\u001b[0m\u001b[0;34m(\u001b[0m\u001b[0;34m\"Fin programa\"\u001b[0m\u001b[0;34m)\u001b[0m\u001b[0;34m\u001b[0m\u001b[0;34m\u001b[0m\u001b[0m\n",
      "\u001b[0;31mKeyboardInterrupt\u001b[0m: "
     ]
    }
   ],
   "source": [
    "i = 0\n",
    "\n",
    "while i < 5:\n",
    "    print(i)\n",
    "    time.sleep(2)\n",
    "\n",
    "print(\"Fin programa\")"
   ]
  },
  {
   "cell_type": "markdown",
   "metadata": {
    "id": "tq2s50xYjmHq"
   },
   "source": [
    "La manera más habitual de implementar estos bucles es:\n",
    "1. Declaro la **variable de ejecución fuera del bucle**\n",
    "2. Establezco una **condición de ejecución** para determinar cuándo queremos que se pare el bucle.\n",
    "3. **Actualizo la variable de ejecución** en cada iteración del bucle.\n"
   ]
  },
  {
   "cell_type": "markdown",
   "metadata": {
    "id": "trrFBgTgjmHq"
   },
   "source": [
    "<table align=\"left\">\n",
    " <tr><td width=\"80\"><img src=\"./img/ejercicio.png\" style=\"width:auto;height:auto\"></td>\n",
    "     <td style=\"text-align:left\">\n",
    "         <h3>Ejercicio bucle while</h3>\n",
    "\n",
    "Mediante un bucle while, calcula cuántas veces deberíamos doblar un folio de papel para alcanzar un grosor de 5 metros, considerando el grosor del folio de 1 milímetro\n",
    "         \n",
    " </td></tr>\n",
    "</table>"
   ]
  },
  {
   "cell_type": "code",
   "execution_count": null,
   "metadata": {
    "colab": {
     "base_uri": "https://localhost:8080/"
    },
    "executionInfo": {
     "elapsed": 13366,
     "status": "ok",
     "timestamp": 1721989443641,
     "user": {
      "displayName": "Miguel Ángel Nievas Fuertes",
      "userId": "11397502732317349410"
     },
     "user_tz": -120
    },
    "id": "VD2Jjko_jmHq",
    "outputId": "61dc7869-12f0-44d7-c48c-bdb4581b9486"
   },
   "outputs": [
    {
     "name": "stdout",
     "output_type": "stream",
     "text": [
      "grosor 2\n",
      "dobles 1\n",
      "grosor 4\n",
      "dobles 2\n",
      "grosor 8\n",
      "dobles 3\n",
      "grosor 16\n",
      "dobles 4\n",
      "grosor 32\n",
      "dobles 5\n",
      "grosor 64\n",
      "dobles 6\n",
      "grosor 128\n",
      "dobles 7\n",
      "grosor 256\n",
      "dobles 8\n",
      "grosor 512\n",
      "dobles 9\n",
      "grosor 1024\n",
      "dobles 10\n",
      "grosor 2048\n",
      "dobles 11\n",
      "grosor 4096\n",
      "dobles 12\n",
      "grosor 8192\n",
      "dobles 13\n",
      "Terminado, el nº de veces que hemos doblado ha sido de 13 y el grosor total alcanzado es de 8192\n"
     ]
    }
   ],
   "source": [
    "grosor = 1\n",
    "dobles = 0\n",
    "\n",
    "while grosor < 5000:\n",
    "    grosor = grosor * 2\n",
    "    dobles = dobles + 1\n",
    "    print('grosor', grosor)\n",
    "    print('dobles', dobles)\n",
    "    time.sleep(1)\n",
    "\n",
    "print(\"Terminado, el nº de veces que hemos doblado ha sido de\", dobles, \"y el grosor total alcanzado es de\", grosor)"
   ]
  },
  {
   "cell_type": "markdown",
   "metadata": {
    "id": "hWGBMN2QjmHr"
   },
   "source": [
    "## 5. Break/continue\n",
    "Son dos sentencias que podemo usar dentro de los bucles para evitar ejecutar código de más.\n",
    "\n",
    "### Break\n",
    "Se usa cuando queremos salir del bucle forzadamente. Imagina que eres una tienda y estás buscando con un for si al menos uno de los pedidos era un abrigo. Si has tenido 1000 pedidos, vas a tener que iterar sobre todos y mediante un `if`, comprobar si es un abrigo. Ahora bien, si el abrigo es el primer elemento de la lista, el `for` va a recorrer igualmente los otros 999 elementos, cuando no es necesario. Con un `break` podremos salirnos del bucle y continuar con el programa."
   ]
  },
  {
   "cell_type": "code",
   "execution_count": null,
   "metadata": {
    "colab": {
     "base_uri": "https://localhost:8080/"
    },
    "executionInfo": {
     "elapsed": 318,
     "status": "ok",
     "timestamp": 1721989486036,
     "user": {
      "displayName": "Miguel Ángel Nievas Fuertes",
      "userId": "11397502732317349410"
     },
     "user_tz": -120
    },
    "id": "wjv1vJamjmHr",
    "outputId": "bca34136-2801-4818-fcb6-7a6ec229d14d"
   },
   "outputs": [
    {
     "name": "stdout",
     "output_type": "stream",
     "text": [
      "1\n",
      "2\n",
      "3\n"
     ]
    }
   ],
   "source": [
    "for i in [1,2,3,4]:\n",
    "    print(i)\n",
    "    if i > 2:\n",
    "        break\n"
   ]
  },
  {
   "cell_type": "code",
   "execution_count": null,
   "metadata": {
    "colab": {
     "base_uri": "https://localhost:8080/"
    },
    "executionInfo": {
     "elapsed": 350,
     "status": "ok",
     "timestamp": 1721989511374,
     "user": {
      "displayName": "Miguel Ángel Nievas Fuertes",
      "userId": "11397502732317349410"
     },
     "user_tz": -120
    },
    "id": "vZ-1Kyp3jmHr",
    "outputId": "1b7b3f95-9578-4b12-f9c4-f842ba878bf8"
   },
   "outputs": [
    {
     "name": "stdout",
     "output_type": "stream",
     "text": [
      "s\n",
      "t\n",
      "r\n",
      "Fin\n"
     ]
    }
   ],
   "source": [
    "for val in \"string\":\n",
    "    if val == \"i\":\n",
    "        break\n",
    "\n",
    "    print(val)\n",
    "\n",
    "print(\"Fin\")"
   ]
  },
  {
   "cell_type": "markdown",
   "metadata": {
    "id": "DGwbiP3qjmHr"
   },
   "source": [
    "### Continue\n",
    "Esta sentencia se usa dentro de un bucle para indicarle que continue con el siguiente elemento del iterable. Al igual que con el `break`, nos sirve para evitar que se ejecute código de más. Volviendo al ejemplo anterior, si después de comprobar que tenemos un abrigo, hay 200 líneas más de código que se utiliza en otros casos, con un `continue` evitamos que se ejecute todo eso, hacemos lo que tengamos que hacer con el abrigo, y le decimos al bucle que pase al siguiente elemento, e ignore el resto del código.\n"
   ]
  },
  {
   "cell_type": "code",
   "execution_count": null,
   "metadata": {
    "colab": {
     "base_uri": "https://localhost:8080/"
    },
    "executionInfo": {
     "elapsed": 286,
     "status": "ok",
     "timestamp": 1721989555812,
     "user": {
      "displayName": "Miguel Ángel Nievas Fuertes",
      "userId": "11397502732317349410"
     },
     "user_tz": -120
    },
    "id": "2HdqO2gtjmHr",
    "outputId": "e070884e-2820-42af-80d3-6a3c220f3566"
   },
   "outputs": [
    {
     "name": "stdout",
     "output_type": "stream",
     "text": [
      "s\n",
      "t\n",
      "r\n",
      "n\n",
      "g\n",
      "Fin\n"
     ]
    }
   ],
   "source": [
    "for val in \"string\":\n",
    "    if val == \"i\":\n",
    "        continue\n",
    "        # print(\"hola\")\n",
    "\n",
    "    print(val)\n",
    "\n",
    "\n",
    "print(\"Fin\")"
   ]
  },
  {
   "cell_type": "markdown",
   "metadata": {
    "id": "ugenppN9jmHs"
   },
   "source": [
    "**Los bucles `for` y `while`, así como `break` y `continue`, son sentencias complicadas de entender, y si es la primera vez que programas te va a suponer un cambio en la manera de pensar y de solucionar problemas, por ello te recomiendo que cojas papel y boli y hagas los primeros ejercicios de bucles viendo las iteraciones una a una y calculando manualmente todas las opeaciones de dentro del bucle.**"
   ]
  },
  {
   "cell_type": "markdown",
   "metadata": {
    "id": "UJBUnYpYjmHs"
   },
   "source": [
    "## 6. Try/except\n",
    "¿Qué ocurre cuando hay un error en nuestro código? Se para toda la ejecución. Por muy buenos programadores que seamos, hay que contar siempre con que puede haber errores. Podemos llegar a controlarlos con sentencias `if/else`, por ejemplo si no sabemos muy bien los tipos de los datos, `if type(data) == float:` haces algo con floats, `else` haces otra cosa con otro tipo de datos, pero lo mejor es usar `try/except`.\n",
    "\n",
    "Ahora bien, si intuimos que el comportamiento de nuestro código puede ser algo impredecible, en programación podemos usar las sentencias `try/except` para capturar ese error, tomar decisiones, y que el código pueda continuar ejecutándose.\n",
    "\n",
    "La sintaxis es la siguiente:\n",
    "\n",
    "> ```Python\n",
    "> try:\n",
    ">     Código que puede contener errores\n",
    "> except:\n",
    ">     Qué hacer si nos encontramos con un error\n",
    "> ```"
   ]
  },
  {
   "cell_type": "code",
   "execution_count": null,
   "metadata": {
    "colab": {
     "base_uri": "https://localhost:8080/",
     "height": 158
    },
    "executionInfo": {
     "elapsed": 315,
     "status": "error",
     "timestamp": 1721989643136,
     "user": {
      "displayName": "Miguel Ángel Nievas Fuertes",
      "userId": "11397502732317349410"
     },
     "user_tz": -120
    },
    "id": "Kdd5wwPPjmHs",
    "outputId": "63a2aa9f-c7e7-405e-9976-85bb7a22c11c"
   },
   "outputs": [
    {
     "ename": "NameError",
     "evalue": "name 'variable_' is not defined",
     "output_type": "error",
     "traceback": [
      "\u001b[0;31m---------------------------------------------------------------------------\u001b[0m",
      "\u001b[0;31mNameError\u001b[0m                                 Traceback (most recent call last)",
      "\u001b[0;32m<ipython-input-54-e83e41f6d855>\u001b[0m in \u001b[0;36m<cell line: 1>\u001b[0;34m()\u001b[0m\n\u001b[0;32m----> 1\u001b[0;31m \u001b[0mprint\u001b[0m\u001b[0;34m(\u001b[0m\u001b[0mvariable_\u001b[0m\u001b[0;34m)\u001b[0m\u001b[0;34m\u001b[0m\u001b[0;34m\u001b[0m\u001b[0m\n\u001b[0m\u001b[1;32m      2\u001b[0m \u001b[0mprint\u001b[0m\u001b[0;34m(\u001b[0m\u001b[0;34m\"AAA\"\u001b[0m\u001b[0;34m)\u001b[0m\u001b[0;34m\u001b[0m\u001b[0;34m\u001b[0m\u001b[0m\n",
      "\u001b[0;31mNameError\u001b[0m: name 'variable_' is not defined"
     ]
    }
   ],
   "source": [
    "print(variable_)\n",
    "print(\"AAA\")"
   ]
  },
  {
   "cell_type": "code",
   "execution_count": null,
   "metadata": {
    "colab": {
     "base_uri": "https://localhost:8080/"
    },
    "executionInfo": {
     "elapsed": 291,
     "status": "ok",
     "timestamp": 1721989680971,
     "user": {
      "displayName": "Miguel Ángel Nievas Fuertes",
      "userId": "11397502732317349410"
     },
     "user_tz": -120
    },
    "id": "ggfQSYGujmHs",
    "outputId": "4091e765-989b-49a4-c2a1-ff30f1d56559"
   },
   "outputs": [
    {
     "name": "stdout",
     "output_type": "stream",
     "text": [
      "El codigo tiene errores\n",
      "Se ejecuta igualmente\n",
      "AAA\n"
     ]
    }
   ],
   "source": [
    "try:\n",
    "    print(variable_)\n",
    "except :\n",
    "    print(\"El codigo tiene errores\")\n",
    "    print(\"Se ejecuta igualmente\")\n",
    "\n",
    "print(\"AAA\")"
   ]
  },
  {
   "cell_type": "code",
   "execution_count": null,
   "metadata": {
    "colab": {
     "base_uri": "https://localhost:8080/",
     "height": 176
    },
    "executionInfo": {
     "elapsed": 310,
     "status": "error",
     "timestamp": 1721989708964,
     "user": {
      "displayName": "Miguel Ángel Nievas Fuertes",
      "userId": "11397502732317349410"
     },
     "user_tz": -120
    },
    "id": "fvBjwDjsjmHt",
    "outputId": "1461f516-fdcd-4089-a5de-1a51775ab92c"
   },
   "outputs": [
    {
     "ename": "IndexError",
     "evalue": "list index out of range",
     "output_type": "error",
     "traceback": [
      "\u001b[0;31m---------------------------------------------------------------------------\u001b[0m",
      "\u001b[0;31mIndexError\u001b[0m                                Traceback (most recent call last)",
      "\u001b[0;32m<ipython-input-56-fd343718116b>\u001b[0m in \u001b[0;36m<cell line: 2>\u001b[0;34m()\u001b[0m\n\u001b[1;32m      1\u001b[0m \u001b[0mlista\u001b[0m \u001b[0;34m=\u001b[0m \u001b[0;34m[\u001b[0m\u001b[0;36m1\u001b[0m\u001b[0;34m,\u001b[0m\u001b[0;36m2\u001b[0m\u001b[0;34m,\u001b[0m\u001b[0;36m3\u001b[0m\u001b[0;34m]\u001b[0m\u001b[0;34m\u001b[0m\u001b[0;34m\u001b[0m\u001b[0m\n\u001b[0;32m----> 2\u001b[0;31m \u001b[0mprint\u001b[0m\u001b[0;34m(\u001b[0m\u001b[0mlista\u001b[0m\u001b[0;34m[\u001b[0m\u001b[0;36m5\u001b[0m\u001b[0;34m]\u001b[0m\u001b[0;34m)\u001b[0m\u001b[0;34m\u001b[0m\u001b[0;34m\u001b[0m\u001b[0m\n\u001b[0m\u001b[1;32m      3\u001b[0m \u001b[0mprint\u001b[0m\u001b[0;34m(\u001b[0m\u001b[0;34m\"Hola mundo\"\u001b[0m\u001b[0;34m)\u001b[0m\u001b[0;34m\u001b[0m\u001b[0;34m\u001b[0m\u001b[0m\n",
      "\u001b[0;31mIndexError\u001b[0m: list index out of range"
     ]
    }
   ],
   "source": [
    "lista = [1,2,3]\n",
    "print(lista[5])\n",
    "print(\"Hola mundo\")"
   ]
  },
  {
   "cell_type": "code",
   "execution_count": null,
   "metadata": {
    "colab": {
     "base_uri": "https://localhost:8080/"
    },
    "executionInfo": {
     "elapsed": 298,
     "status": "ok",
     "timestamp": 1721989721312,
     "user": {
      "displayName": "Miguel Ángel Nievas Fuertes",
      "userId": "11397502732317349410"
     },
     "user_tz": -120
    },
    "id": "FoM-B8tojmHt",
    "outputId": "ff9ba270-0ea6-415a-e9e5-595e787fe8e6"
   },
   "outputs": [
    {
     "name": "stdout",
     "output_type": "stream",
     "text": [
      "list index out of range\n",
      "AAA\n",
      "BBB\n"
     ]
    }
   ],
   "source": [
    "lista = [1,2,3]\n",
    "\n",
    "try:\n",
    "    print(lista[5])\n",
    "except Exception as e:\n",
    "    print(e)\n",
    "    print('AAA')\n",
    "print('BBB')"
   ]
  },
  {
   "cell_type": "markdown",
   "metadata": {
    "id": "bM1uqcy1jmHt"
   },
   "source": [
    "Hay un error en el código, pero no para el programa.\n",
    "\n",
    "Podemos ser un poco más específicos con los errores, y en función del tipo de error que nos de, tomaremos diferentes caminos"
   ]
  },
  {
   "cell_type": "markdown",
   "metadata": {
    "id": "RpUAahhAjmHt"
   },
   "source": [
    "## 7. Resumen"
   ]
  },
  {
   "cell_type": "code",
   "execution_count": null,
   "metadata": {
    "id": "CFY3qzVRjmHt"
   },
   "outputs": [],
   "source": [
    "# If/elif/else\n",
    "mi_nota_de_examen = 7\n",
    "\n",
    "if mi_nota_de_examen < 5 :\n",
    "    print(\"A septiembre :(\")\n",
    "\n",
    "elif mi_nota_de_examen < 6 :\n",
    "    print(\"Suficiente\")\n",
    "\n",
    "elif mi_nota_de_examen < 7 :\n",
    "    print(\"Bien\")\n",
    "\n",
    "elif mi_nota_de_examen < 9 :\n",
    "    print(\"Notable\")\n",
    "\n",
    "else:\n",
    "    print(\"Sobresaliente\")\n",
    "\n",
    "\n",
    "# Bucle for\n",
    "dias_semana = [\"Lunes\", \"Martes\", \"Miércoles\", \"Jueves\", \"Viernes\", \"Sábado\", \"Domingo\"]\n",
    "\n",
    "for dia in dias_semana:\n",
    "    print(dia)\n",
    "\n",
    "\n",
    "# Bucle while\n",
    "i = 0\n",
    "\n",
    "while(i < 5):\n",
    "    print(i)\n",
    "    i = i + 1\n",
    "\n",
    "\n",
    "# Break y continue\n",
    "for val in \"string\":\n",
    "    if val == \"i\":\n",
    "        break\n",
    "    print(val)\n",
    "\n",
    "print(\"Fin\")\n",
    "\n",
    "\n",
    "# Try/except\n",
    "try:\n",
    "  print(variable_)\n",
    "except:\n",
    "  print(\"El codigo tiene errores porque la variable 'variable_' no existe\")\n",
    "\n",
    "print(\"Continuo con el programa\")"
   ]
  }
 ],
 "metadata": {
  "colab": {
   "provenance": []
  },
  "kernelspec": {
   "display_name": "Python 3 (ipykernel)",
   "language": "python",
   "name": "python3"
  },
  "language_info": {
   "codemirror_mode": {
    "name": "ipython",
    "version": 3
   },
   "file_extension": ".py",
   "mimetype": "text/x-python",
   "name": "python",
   "nbconvert_exporter": "python",
   "pygments_lexer": "ipython3",
   "version": "3.12.5"
  },
  "vscode": {
   "interpreter": {
    "hash": "90139cb9a825bf3d63f6f6704e828dbd1ff7edbd4d0c6e906a71235d6efc74af"
   }
  }
 },
 "nbformat": 4,
 "nbformat_minor": 4
}
