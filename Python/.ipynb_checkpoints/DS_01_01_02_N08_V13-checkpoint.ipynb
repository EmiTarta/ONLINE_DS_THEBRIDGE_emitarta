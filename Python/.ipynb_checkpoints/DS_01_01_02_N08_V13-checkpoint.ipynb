{
 "cells": [
  {
   "cell_type": "markdown",
   "metadata": {},
   "source": [
    "<img src = \"./img/TheBridge_logo_RGB_color.jpg\" width = 500><img src = \"./img/python.jpg\" width = 500>"
   ]
  },
  {
   "cell_type": "markdown",
   "metadata": {},
   "source": [
    "# Python Basics I"
   ]
  },
  {
   "cell_type": "markdown",
   "metadata": {},
   "source": [
    "## Contenidos"
   ]
  },
  {
   "cell_type": "markdown",
   "metadata": {},
   "source": [
    "* [Listas](#Listas)\n"
   ]
  },
  {
   "cell_type": "markdown",
   "metadata": {},
   "source": [
    "## Listas\n",
    "[al indice](#Contenidos)  \n",
    "Se trata de otro de los tipos de datos de Python más usados. Dentro de las colecciones, que veremos más adelante, la lista es la colección que normalmente se le da más uso. **Nos permiten almacenar conjuntos de variables u objetos**, y son elementos de lo más versátiles puesto que podemos almacenar objetos de distintos tipos, modificarlos, eliminarlos, meter listas dentro de listas... Sus dos caractrísticas principales son:\n",
    "* **Mutables**: una vez se ha creado la lista, se puede modificar\n",
    "* **Ordenada**: Los elementos tienen un cierto orden, lo que nos permite acceder al elemento que queramos teniendo en cuenta tal orden\n",
    "\n",
    "En cuanto a su sintaxis, cuando declaremos la lista simplemente hay que separar cada elemento con comas, y rodearlo todo con corchetes."
   ]
  },
  {
   "cell_type": "code",
   "execution_count": 1,
   "metadata": {},
   "outputs": [
    {
     "name": "stdout",
     "output_type": "stream",
     "text": [
      "[1, 3, 5, 6]\n",
      "<class 'list'>\n"
     ]
    }
   ],
   "source": [
    "# Lista de numeros \n",
    "numeros = [1, 3, 5, 6]\n",
    "print(numeros)\n",
    "print(type(numeros))"
   ]
  },
  {
   "cell_type": "code",
   "execution_count": 2,
   "metadata": {},
   "outputs": [
    {
     "name": "stdout",
     "output_type": "stream",
     "text": [
      "['Esto', 'es', 'una', 'lista']\n"
     ]
    }
   ],
   "source": [
    "# Lista de strings\n",
    "strings = [\"Esto\", \"es\", \"una\", \"lista\"]\n",
    "print(strings)"
   ]
  },
  {
   "cell_type": "code",
   "execution_count": 3,
   "metadata": {},
   "outputs": [
    {
     "name": "stdout",
     "output_type": "stream",
     "text": [
      "[True, False, True, True, False]\n"
     ]
    }
   ],
   "source": [
    "# Lista de booleanos\n",
    "booleanos = [True, False, not False, True or False, False and False]\n",
    "print(booleanos)"
   ]
  },
  {
   "cell_type": "code",
   "execution_count": 7,
   "metadata": {},
   "outputs": [
    {
     "name": "stdout",
     "output_type": "stream",
     "text": [
      "['Esto es', 12, -34.5, True, False, 'lista']\n",
      "<class 'list'>\n"
     ]
    }
   ],
   "source": [
    "#Lista de tipos mezclados\n",
    "mix = [\"Esto es\", 12, -34.5, True, False, \"lista\"]\n",
    "print(mix)\n",
    "print(type(mix))"
   ]
  },
  {
   "cell_type": "code",
   "execution_count": 9,
   "metadata": {},
   "outputs": [
    {
     "name": "stdout",
     "output_type": "stream",
     "text": [
      "['Gola', '12', 23, [23, True, False]]\n",
      "<class 'list'>\n"
     ]
    }
   ],
   "source": [
    "#Listas dentro de listas\n",
    "listas = [\"Gola\", \"12\", 23, [23, True, False]]\n",
    "print(listas)\n",
    "print(type(listas))"
   ]
  },
  {
   "cell_type": "code",
   "execution_count": 11,
   "metadata": {},
   "outputs": [
    {
     "name": "stdout",
     "output_type": "stream",
     "text": [
      "4\n",
      "6\n"
     ]
    }
   ],
   "source": [
    "print(len(listas))\n",
    "print(len(mix))"
   ]
  },
  {
   "cell_type": "code",
   "execution_count": 14,
   "metadata": {},
   "outputs": [
    {
     "name": "stdout",
     "output_type": "stream",
     "text": [
      "['Esto es', 12, -34.5, True, False, 'lista', 'Gola', '12', 23, [23, True, False]]\n",
      "<class 'list'>\n"
     ]
    }
   ],
   "source": [
    "concatenacion = mix + listas\n",
    "print(concatenacion)\n",
    "print(type(concatenacion))"
   ]
  },
  {
   "cell_type": "code",
   "execution_count": 16,
   "metadata": {},
   "outputs": [
    {
     "name": "stdout",
     "output_type": "stream",
     "text": [
      "['Gola', '12', 23, [23, True, False], 'Esto es', 12, -34.5, True, False, 'lista']\n",
      "<class 'list'>\n"
     ]
    }
   ],
   "source": [
    "concatenacion_2 = listas + mix\n",
    "print(concatenacion_2)\n",
    "print(type(concatenacion_2))"
   ]
  },
  {
   "cell_type": "markdown",
   "metadata": {},
   "source": [
    "**NOTA**: ¿Ves por qué los decimales en Python siempre van con puntos y no con comas? Con las colecciones el intérprete de Python se volvería loco.\n",
    "\n",
    "Podemos ver tambien el tipo de la lista"
   ]
  },
  {
   "cell_type": "code",
   "execution_count": 17,
   "metadata": {},
   "outputs": [
    {
     "data": {
      "text/plain": [
       "list"
      ]
     },
     "execution_count": 17,
     "metadata": {},
     "output_type": "execute_result"
    }
   ],
   "source": [
    "type(mix)"
   ]
  },
  {
   "cell_type": "markdown",
   "metadata": {},
   "source": [
    "Calcular la longitud de la misma mediante el método *built-in* ya visto: `len()`"
   ]
  },
  {
   "cell_type": "code",
   "execution_count": 18,
   "metadata": {},
   "outputs": [
    {
     "data": {
      "text/plain": [
       "6"
      ]
     },
     "execution_count": 18,
     "metadata": {},
     "output_type": "execute_result"
    }
   ],
   "source": [
    "len(mix)"
   ]
  },
  {
   "cell_type": "markdown",
   "metadata": {},
   "source": [
    "Accedemos a los elemenos de la lista mediante corchetes `[]`\n",
    "\n",
    "**Importante**. El primer elemento es el 0"
   ]
  },
  {
   "cell_type": "code",
   "execution_count": 23,
   "metadata": {},
   "outputs": [
    {
     "name": "stdout",
     "output_type": "stream",
     "text": [
      "esto\n",
      "nuevo elemento\n",
      "patata\n"
     ]
    }
   ],
   "source": [
    "lista_ejemplo = [\"esto\",2,3,\"patata\", \"nuevo elemento\"]\n",
    "print(lista_ejemplo[0])\n",
    "print(lista_ejemplo[-1])\n",
    "print(lista_ejemplo[-2])"
   ]
  },
  {
   "cell_type": "markdown",
   "metadata": {},
   "source": [
    "### Metodos en Listas\n",
    "Para el tipo de objeto lista, también hay una serie de métodos catacterísticos que nos permiten operar con ellas: añadir valores, quitarlos, indexado, filtrado, etc... En [este enlace](https://www.w3schools.com/python/python_ref_list.asp) puedes encontrar todos los métodos que podrás usar con listas."
   ]
  },
  {
   "cell_type": "code",
   "execution_count": 36,
   "metadata": {},
   "outputs": [
    {
     "name": "stdout",
     "output_type": "stream",
     "text": [
      "['Fisica', 'quimica', 'Matematicas', 'Literatura', 'Filosofia']\n",
      "['Fisica', 'Gimnasia', 'quimica', 'Matematicas', 'Literatura', 'Filosofia']\n",
      "['Fisica', 'quimica', 'Matematicas', 'Literatura', 'Filosofia']\n",
      "['Fisica', 'quimica', 'Matematicas', 'Literatura']\n",
      "['Fisica', 'Literatura', 'Matematicas', 'quimica']\n"
     ]
    }
   ],
   "source": [
    "asignaturas = [\"Fisica\", \"quimica\", \"Matematicas\", \"Literatura\"]\n",
    "\n",
    "#Anadir un elemento a una lista\n",
    "asignaturas.append(\"Filosofia\")\n",
    "print(asignaturas)\n",
    "\n",
    "#Anadir elementos en una posicion determinada\n",
    "asignaturas.insert(1, \"Gimnasia\")\n",
    "print(asignaturas)\n",
    "\n",
    "#Quitar elementos\n",
    "#asignaturas.clear()\n",
    "#print(asignaturas) \n",
    "\n",
    "#Quitar elementos segun su posicion determinada\n",
    "asignaturas.pop(1)\n",
    "print(asignaturas)\n",
    "\n",
    "#Quitar un elemento por su valor\n",
    "asignaturas.remove(\"Filosofia\")\n",
    "print(asignaturas)\n",
    "\n",
    "#asignaturas.remove(\"Cine\")\n",
    "\n",
    "#asignaturas.pop(123)\n",
    "\n",
    "#Ordenar la lista\n",
    "asignaturas.sort()\n",
    "print(asignaturas)"
   ]
  },
  {
   "cell_type": "code",
   "execution_count": null,
   "metadata": {},
   "outputs": [],
   "source": []
  },
  {
   "cell_type": "code",
   "execution_count": null,
   "metadata": {},
   "outputs": [],
   "source": []
  }
 ],
 "metadata": {
  "kernelspec": {
   "display_name": "Python 3 (ipykernel)",
   "language": "python",
   "name": "python3"
  },
  "language_info": {
   "codemirror_mode": {
    "name": "ipython",
    "version": 3
   },
   "file_extension": ".py",
   "mimetype": "text/x-python",
   "name": "python",
   "nbconvert_exporter": "python",
   "pygments_lexer": "ipython3",
   "version": "3.12.5"
  }
 },
 "nbformat": 4,
 "nbformat_minor": 4
}
