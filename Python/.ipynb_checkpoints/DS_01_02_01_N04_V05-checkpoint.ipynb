{
 "cells": [
  {
   "cell_type": "markdown",
   "metadata": {},
   "source": [
    "## Colecciones Python: Sets\n"
   ]
  },
  {
   "cell_type": "markdown",
   "metadata": {},
   "source": [
    "### Contenidos \n"
   ]
  },
  {
   "cell_type": "markdown",
   "metadata": {},
   "source": [
    "* [Introducción](#Introducción)\n",
    "\n"
   ]
  },
  {
   "cell_type": "markdown",
   "metadata": {},
   "source": [
    "### Introducción\n",
    "[al indice](#Contenidos)  \n",
    "\n",
    "Otra colección *bulit-in* de Python, compuesta por un conjunto de *valores*. Muy parecidos a las listas. Tienen las siguientes características:\n",
    "* **Mutables**: podemos modificarlos una vez se hayan creado\n",
    "* **No ordenado**\n",
    "* **Elementos unicos**: se compone de un conjunto de valores únicas\n",
    "\n",
    "**¿Cuándo usar sets?** Cuando estemos buscando unicidad en nuestros datos y no nos importe el orden.\n",
    "\n",
    "Te dejo por aquí [la documentación](https://docs.python.org/2/library/sets.html) para realizar consultas sobre los sets\n",
    "\n",
    "Si sintaxis es:\n",
    ">```Python\n",
    "> mi_set = {elemento1, elemento2, elemento3}\n",
    ">```\n",
    "\n",
    "Tiene una sintaxis muy parecida a la de las listas, pero en este caso no se utilizan los `{}`. "
   ]
  },
  {
   "cell_type": "code",
   "execution_count": 4,
   "metadata": {},
   "outputs": [
    {
     "name": "stdout",
     "output_type": "stream",
     "text": [
      "{'rojo', 'azul', 'verde', 'naranja'}\n",
      "<class 'set'>\n"
     ]
    }
   ],
   "source": [
    "colores = {\"azul\", \"rojo\", \"verde\", \"naranja\", \"naranja\", \"azul\", \"verde\"}\n",
    "print(colores)\n",
    "print(type(colores))"
   ]
  },
  {
   "cell_type": "markdown",
   "metadata": {},
   "source": [
    "Los elementos del set son unicos, por lo que si en la declaración, o posteriormente añadiendo elementos hubiese algún duplicado, el set lo ignoraría. Es más, cuando aplicas el `len`, muestra la cantidad de valores únicos que tiene."
   ]
  },
  {
   "cell_type": "code",
   "execution_count": 3,
   "metadata": {},
   "outputs": [
    {
     "name": "stdout",
     "output_type": "stream",
     "text": [
      "4\n"
     ]
    }
   ],
   "source": [
    "print(len(colores))"
   ]
  },
  {
   "cell_type": "markdown",
   "metadata": {},
   "source": [
    "Para comprobar si dos sets tienen los mismos elementos"
   ]
  },
  {
   "cell_type": "code",
   "execution_count": 8,
   "metadata": {},
   "outputs": [
    {
     "name": "stdout",
     "output_type": "stream",
     "text": [
      "{'magenta', 'azul', 'verde', 'rojo', 'budeos', 'celeste'}\n",
      "{'magenta', 'azul', 'verde', 'rojo', 'budeos', 'celeste', 'naranja'}\n",
      "{'magenta', 'azul', 'verde', 'rojo', 'budeos', 'celeste'}\n",
      "magenta\n",
      "azul\n",
      "verde\n",
      "rojo\n",
      "budeos\n",
      "celeste\n"
     ]
    }
   ],
   "source": [
    "# Anadir\n",
    "colores.add(\"magenta\")\n",
    "print(colores)\n",
    "\n",
    "colores.update([\"celeste\", \"budeos\", \"naranja\"])\n",
    "print(colores)\n",
    "\n",
    "# Quitar\n",
    "colores.remove(\"naranja\")\n",
    "print(colores)\n",
    "\n",
    "# Iterables, los podemos recorrer con un bucle como a las listas\n",
    "for color in colores:\n",
    "    print(color)"
   ]
  },
  {
   "cell_type": "code",
   "execution_count": 10,
   "metadata": {},
   "outputs": [
    {
     "data": {
      "text/plain": [
       "True"
      ]
     },
     "execution_count": 10,
     "metadata": {},
     "output_type": "execute_result"
    }
   ],
   "source": [
    "set1 = {1,2,4,4,2,1,2,1}\n",
    "set2 = {2,1,4}\n",
    "set1 == set2"
   ]
  },
  {
   "cell_type": "code",
   "execution_count": 13,
   "metadata": {},
   "outputs": [
    {
     "name": "stdout",
     "output_type": "stream",
     "text": [
      "{32, 100, 10, 45, 15, 23}\n",
      "[32, 100, 10, 45, 15, 23]\n",
      "[32, 100, 10, 45, 15, 23]\n"
     ]
    }
   ],
   "source": [
    "# Aplicacion tipica de un set: para eliminar duplicados de listas, pasamos la lista a un set y eliminamos duplicados\n",
    "lista_con = [100,10,23,23,15,32,45,10,100,23]\n",
    "print(set(lista_con)) # Paso lista a set\n",
    "print(list(set(lista_con))) #Paso set a lista\n",
    "lista_con = list(set(lista_con))\n",
    "print(lista_con)"
   ]
  },
  {
   "cell_type": "code",
   "execution_count": null,
   "metadata": {},
   "outputs": [],
   "source": []
  }
 ],
 "metadata": {
  "kernelspec": {
   "display_name": "Python 3 (ipykernel)",
   "language": "python",
   "name": "python3"
  },
  "language_info": {
   "codemirror_mode": {
    "name": "ipython",
    "version": 3
   },
   "file_extension": ".py",
   "mimetype": "text/x-python",
   "name": "python",
   "nbconvert_exporter": "python",
   "pygments_lexer": "ipython3",
   "version": "3.12.5"
  }
 },
 "nbformat": 4,
 "nbformat_minor": 4
}
