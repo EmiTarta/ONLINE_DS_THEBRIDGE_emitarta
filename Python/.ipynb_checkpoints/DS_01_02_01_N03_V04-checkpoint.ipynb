{
 "cells": [
  {
   "cell_type": "markdown",
   "metadata": {},
   "source": [
    "## Colecciones Python: Diccionarios\n"
   ]
  },
  {
   "cell_type": "markdown",
   "metadata": {},
   "source": [
    "### Contenidos \n"
   ]
  },
  {
   "cell_type": "markdown",
   "metadata": {},
   "source": [
    "* [Introducción](#Introducción)\n",
    "\n",
    "* [Acceso, modificación, añadir, eliminar](#Acceso,-modificación,-añadir,-eliminar)\n",
    "\n",
    "* [Iterar](#Iterar)\n",
    "\n"
   ]
  },
  {
   "cell_type": "markdown",
   "metadata": {},
   "source": [
    "### Introducción\n",
    "[al indice](#Contenidos)  \n",
    "\n",
    "En este tipo de colecciones no solo podemos agrupar datos, sino que tenemos la posibilidad de establecer una relación entre los mismos, con la forma **clave: valor**.\n",
    "\n",
    "La sintaxis  es mediante llaves `{}`\n",
    "\n",
    "> nombre_diccionario = {clave1: valor1, clave2: valor2, clave3: valor3}\n",
    "\n",
    "Si veíamos que las listas son elementos mutables y y ordenadas, y las tuplas inmutables y ordenadas, los diccionarios son:\n",
    "\n",
    "* **Mutables**: podemos modificar sus elementos\n",
    "* **Desordenado**: la potencia de acceso de los diccionarios es su formato clave-valor, no su orden. Aun así, el dicionario conserva el orden de los elemento según los vamos insertando.\n",
    "\n",
    "Vamos a declarar un diccionario en el que definiremos elementos de un coche"
   ]
  },
  {
   "cell_type": "code",
   "execution_count": 2,
   "metadata": {},
   "outputs": [
    {
     "data": {
      "text/plain": [
       "{'Color': 'Rojo',\n",
       " 'Marca': 'Tesla',\n",
       " 'Modelo': 'Cybertruck',\n",
       " 'Peso': 3500,\n",
       " 'Cambio automatico': True}"
      ]
     },
     "execution_count": 2,
     "metadata": {},
     "output_type": "execute_result"
    }
   ],
   "source": [
    "coche_dict = {\n",
    "    \"Color\":\"Rojo\",\n",
    "    \"Marca\":\"Tesla\",\n",
    "    \"Modelo\":\"Cybertruck\",\n",
    "    \"Peso\":3500,\n",
    "    \"Cambio automatico\": True\n",
    "}\n",
    "coche_dict"
   ]
  },
  {
   "cell_type": "markdown",
   "metadata": {},
   "source": [
    "Se puede almacenar todo tipo de datos: numero, cadena, booleano, listas, tuplas, diccionarios...\n",
    "\n",
    "Cuando declaremos el diccionario, lo podemos hacer en una sola linea `coche = {\"color\"=\"Gris\", \"marca\"...}`, aunque se recomienda por sencillez a la hora de leer el código, realizar esta acción en varias líneas. Si escribimos el primer elemento y presionamos enter, Jupyter introduce automáticamente la tabulación."
   ]
  },
  {
   "cell_type": "markdown",
   "metadata": {},
   "source": [
    "### Acceso, modificación, añadir, eliminar\n",
    "[al indice](#Contenidos)  \n",
    "\n"
   ]
  },
  {
   "cell_type": "code",
   "execution_count": 12,
   "metadata": {},
   "outputs": [
    {
     "name": "stdout",
     "output_type": "stream",
     "text": [
      "['rojo', 'gris']\n",
      "3500\n",
      "{'Color': ['rojo', 'gris'], 'Marca': 'Tesla', 'Modelo': 'Cybertruck', 'Peso': 3500, 'Cambio automatico': True}\n",
      "6\n",
      "{'Color': ['rojo', 'gris'], 'Marca': 'Tesla', 'Modelo': 'Cybertruck', 'Peso': 3500, 'Cambio automatico': True}\n",
      "dict_keys(['Color', 'Marca', 'Modelo', 'Peso', 'Cambio automatico'])\n",
      "dict_values([['rojo', 'gris'], 'Tesla', 'Cybertruck', 3500, True])\n"
     ]
    }
   ],
   "source": [
    "# Acceso\n",
    "print(coche_dict[\"Color\"])\n",
    "print(coche_dict[\"Peso\"])\n",
    "\n",
    "#Anadir valor\n",
    "coche_dict[\"Color\"] = [\"rojo\", \"gris\"]\n",
    "print(coche_dict)\n",
    "\n",
    "#Anadir clave\n",
    "coche_dict[\"Puertas\"] = 6\n",
    "print(coche_dict[\"Puertas\"])\n",
    "\n",
    "#Eliminar clave\n",
    "del coche_dict[\"Puertas\"]\n",
    "print(coche_dict)\n",
    "\n",
    "# Conocer las claves del diccionario\n",
    "print(coche_dict.keys())\n",
    "\n",
    "# Conocer los valores del diccionario\n",
    "print(coche_dict.values())"
   ]
  },
  {
   "cell_type": "markdown",
   "metadata": {},
   "source": [
    "Para más detalle de los métodos de los diccionario puedes [consultar la documentación](https://www.w3schools.com/python/python_ref_dictionary.asp)"
   ]
  },
  {
   "cell_type": "code",
   "execution_count": 13,
   "metadata": {},
   "outputs": [
    {
     "name": "stdout",
     "output_type": "stream",
     "text": [
      "{'direccion': 'Montesa 12', 'tamano': 123}\n"
     ]
    }
   ],
   "source": [
    "# Podemos empezar tambien mediante un diccionario vacío\n",
    "tienda = {}\n",
    "tienda[\"direccion\"] = \"Montesa 12\"\n",
    "tienda[\"tamano\"] = 123\n",
    "print(tienda)\n"
   ]
  },
  {
   "cell_type": "markdown",
   "metadata": {},
   "source": [
    "<table align=\"left\">\n",
    " <tr>\n",
    "     <td style=\"text-align:left\">\n",
    "         <h3>ERRORES en diccionarios</h3>\n",
    "         \n",
    " </td></tr>\n",
    "</table>"
   ]
  },
  {
   "cell_type": "markdown",
   "metadata": {},
   "source": [
    "Si hay una clave que no existe en el diccionario, saltará un error.\n",
    "\n",
    "En este caso, el error es bastante intuitivo: `KeyError`, no encuentra la clave"
   ]
  },
  {
   "cell_type": "code",
   "execution_count": 22,
   "metadata": {},
   "outputs": [
    {
     "name": "stdout",
     "output_type": "stream",
     "text": [
      "4\n",
      "Tesla\n",
      "['rojo', 'gris']\n",
      "Grande\n"
     ]
    }
   ],
   "source": [
    "# Si la clave no existe, le digo que ponga ese nuevo valor por defecto.\n",
    "Numero_de_puertas = coche_dict.get(\"Puertas\", 4)\n",
    "print(numero_de_puertas)\n",
    "\n",
    "#Si la clave existe, me devolvera el valor que existe\n",
    "Marca = coche_dict.get(\"Marca\", \"Desconocida\")\n",
    "print(Marca)\n",
    "\n",
    "Color = coche_dict.get(\"Color\", \"Azul\")\n",
    "print(Color)\n",
    "\n",
    "Motor = coche_dict.get(\"Motor\", \"Grande\")\n",
    "print(Motor)"
   ]
  },
  {
   "cell_type": "markdown",
   "metadata": {},
   "source": [
    "**¿Cómo solventar esto?** Sirmpre tienes la opción de usar el bloque `try/except`, pero en este caso, los diccionarios tienen una solución más elegante: `mi_diccionario.get(clave, valor si no existe)`"
   ]
  },
  {
   "cell_type": "code",
   "execution_count": null,
   "metadata": {},
   "outputs": [],
   "source": []
  },
  {
   "cell_type": "markdown",
   "metadata": {},
   "source": [
    "### Iterar\n",
    "[al indice](#Contenidos)  \n",
    "\n",
    "Que el diccionario no esté ordenado, no quiere decir que no podamos iterar sus elementos, ya que también es un **interable**, como los son las listas o las tuplas."
   ]
  },
  {
   "cell_type": "code",
   "execution_count": 23,
   "metadata": {},
   "outputs": [
    {
     "name": "stdout",
     "output_type": "stream",
     "text": [
      "Color\n",
      "['rojo', 'gris']\n",
      "Marca\n",
      "Tesla\n",
      "Modelo\n",
      "Cybertruck\n",
      "Peso\n",
      "3500\n",
      "Cambio automatico\n",
      "True\n"
     ]
    }
   ],
   "source": [
    "for i in coche_dict:\n",
    "    print(i)\n",
    "    print(coche_dict[i])"
   ]
  },
  {
   "cell_type": "code",
   "execution_count": 24,
   "metadata": {},
   "outputs": [
    {
     "name": "stdout",
     "output_type": "stream",
     "text": [
      "Color : ['rojo', 'gris']\n",
      "Marca : Tesla\n",
      "Modelo : Cybertruck\n",
      "Peso : 3500\n",
      "Cambio automatico : True\n"
     ]
    }
   ],
   "source": [
    "#Mas ordenado\n",
    "for i in coche_dict:\n",
    "    print(i, \":\", coche_dict[i])"
   ]
  },
  {
   "cell_type": "code",
   "execution_count": 25,
   "metadata": {},
   "outputs": [
    {
     "data": {
      "text/plain": [
       "dict_items([('Color', ['rojo', 'gris']), ('Marca', 'Tesla'), ('Modelo', 'Cybertruck'), ('Peso', 3500), ('Cambio automatico', True)])"
      ]
     },
     "execution_count": 25,
     "metadata": {},
     "output_type": "execute_result"
    }
   ],
   "source": [
    "#Metodo items: lista de TUPLAS donde tengo clave y valor\n",
    "coche_dict.items()"
   ]
  },
  {
   "cell_type": "code",
   "execution_count": 26,
   "metadata": {},
   "outputs": [
    {
     "name": "stdout",
     "output_type": "stream",
     "text": [
      "Color : ['rojo', 'gris']\n",
      "Marca : Tesla\n",
      "Modelo : Cybertruck\n",
      "Peso : 3500\n",
      "Cambio automatico : True\n"
     ]
    }
   ],
   "source": [
    "for clave,valor in coche_dict.items():\n",
    "    print(clave, \":\", valor)"
   ]
  },
  {
   "cell_type": "code",
   "execution_count": null,
   "metadata": {},
   "outputs": [],
   "source": []
  }
 ],
 "metadata": {
  "kernelspec": {
   "display_name": "Python 3 (ipykernel)",
   "language": "python",
   "name": "python3"
  },
  "language_info": {
   "codemirror_mode": {
    "name": "ipython",
    "version": 3
   },
   "file_extension": ".py",
   "mimetype": "text/x-python",
   "name": "python",
   "nbconvert_exporter": "python",
   "pygments_lexer": "ipython3",
   "version": "3.12.5"
  }
 },
 "nbformat": 4,
 "nbformat_minor": 4
}
