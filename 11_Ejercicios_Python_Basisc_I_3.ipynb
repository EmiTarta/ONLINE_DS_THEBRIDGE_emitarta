{
  "cells": [
    {
      "cell_type": "markdown",
      "metadata": {
        "id": "view-in-github",
        "colab_type": "text"
      },
      "source": [
        "<a href=\"https://colab.research.google.com/github/EmiTarta/ONLINE_DS_THEBRIDGE_emitarta/blob/main/11_Ejercicios_Python_Basisc_I_3.ipynb\" target=\"_parent\"><img src=\"https://colab.research.google.com/assets/colab-badge.svg\" alt=\"Open In Colab\"/></a>"
      ]
    },
    {
      "cell_type": "markdown",
      "metadata": {
        "id": "RmWIv9g79k5V"
      },
      "source": [
        "## EJERCICIOS PYTHON BASICO 3:\n",
        "## Operaciones matemáticas, comparación y booleanas"
      ]
    },
    {
      "cell_type": "markdown",
      "metadata": {
        "id": "wVXSQyS29k5W"
      },
      "source": [
        "Completa los siguiente ejercicios, la solución completa a los mismos se publicarán en el repo del curso a lo largo del sprint. En algunos ejercicios se muestra la solución final, para que puedas comprobar que lo has hecho bien, pero lo importante es el código que generes. ¡Vaaamos, a ello...!"
      ]
    },
    {
      "cell_type": "markdown",
      "metadata": {
        "id": "nrGXEj1f9k5W"
      },
      "source": [
        "\n",
        "\n",
        "\n",
        "## Ejercicio 1\n",
        "Tenemos las siguientes variables:\n",
        "\n",
        "```Python\n",
        "A = 4\n",
        "B = \"Text\"\n",
        "C = 4.1\n",
        "```\n",
        "\n",
        "Comprueba:\n",
        "1. Si A y B son equivalentes\n",
        "2. Si A y C NO son equivalentes\n",
        "3. Si A es mayor que C\n",
        "4. Si C es menor o igual que A\n",
        "5. Si B NO es equivalente a C"
      ]
    },
    {
      "cell_type": "code",
      "execution_count": 20,
      "metadata": {
        "id": "SxzM8Rj09k5W"
      },
      "outputs": [],
      "source": [
        "#1\n",
        "A = 4\n",
        "B = \"Text\"\n",
        "C = 4.1"
      ]
    },
    {
      "cell_type": "code",
      "source": [
        "print(A == B)"
      ],
      "metadata": {
        "id": "jGrOBSnM-43U",
        "outputId": "6f0d3088-c621-4032-bcd9-5250877d63d2",
        "colab": {
          "base_uri": "https://localhost:8080/"
        }
      },
      "execution_count": 13,
      "outputs": [
        {
          "output_type": "stream",
          "name": "stdout",
          "text": [
            "False\n"
          ]
        }
      ]
    },
    {
      "cell_type": "code",
      "source": [
        "print(A != C)"
      ],
      "metadata": {
        "id": "HKGa4nxHASl8",
        "outputId": "f7f872b6-9264-43e2-bf6a-ee1521e945fd",
        "colab": {
          "base_uri": "https://localhost:8080/"
        }
      },
      "execution_count": 15,
      "outputs": [
        {
          "output_type": "stream",
          "name": "stdout",
          "text": [
            "True\n"
          ]
        }
      ]
    },
    {
      "cell_type": "code",
      "source": [
        "print(A > C)"
      ],
      "metadata": {
        "id": "SowJWJgnAYAO",
        "outputId": "7014fe4a-5015-408c-8808-8c8b39000fcf",
        "colab": {
          "base_uri": "https://localhost:8080/"
        }
      },
      "execution_count": 17,
      "outputs": [
        {
          "output_type": "stream",
          "name": "stdout",
          "text": [
            "False\n"
          ]
        }
      ]
    },
    {
      "cell_type": "code",
      "source": [
        "print(C<=A)"
      ],
      "metadata": {
        "id": "wVDOMjPjAeNn",
        "outputId": "0d4bb266-1af7-4923-a3be-f534af0c9b12",
        "colab": {
          "base_uri": "https://localhost:8080/"
        }
      },
      "execution_count": 18,
      "outputs": [
        {
          "output_type": "stream",
          "name": "stdout",
          "text": [
            "False\n"
          ]
        }
      ]
    },
    {
      "cell_type": "code",
      "source": [
        "print(B!=C)"
      ],
      "metadata": {
        "id": "nWPREk5KAhDv",
        "outputId": "cb296ad3-f36e-4848-e75d-51302aecdd1c",
        "colab": {
          "base_uri": "https://localhost:8080/"
        }
      },
      "execution_count": 19,
      "outputs": [
        {
          "output_type": "stream",
          "name": "stdout",
          "text": [
            "True\n"
          ]
        }
      ]
    },
    {
      "cell_type": "markdown",
      "metadata": {
        "id": "nfxgEtVK9k5X"
      },
      "source": [
        "\n",
        "## Ejercicio 2\n",
        "Crea un programa donde se recojan dos inputs del usuario, y el output del programa sea si esos inputs son iguales o no"
      ]
    },
    {
      "cell_type": "code",
      "execution_count": 22,
      "metadata": {
        "id": "RSj8nEiM9k5Y",
        "outputId": "30200192-cb00-46fc-c93c-b6afd6eaa677",
        "colab": {
          "base_uri": "https://localhost:8080/"
        }
      },
      "outputs": [
        {
          "output_type": "stream",
          "name": "stdout",
          "text": [
            "Dime tu nombre Emilia\n",
            "Dime tu apellido Tartaglia\n",
            "False\n"
          ]
        }
      ],
      "source": [
        "input1 = input(\"Dime tu nombre \")\n",
        "input2 = input(\"Dime tu apellido \")\n",
        "print(input1 == input2)"
      ]
    },
    {
      "cell_type": "markdown",
      "metadata": {
        "id": "YxVI2KuE9k5Y"
      },
      "source": [
        "\n",
        "\n",
        "## Ejercicio 3\n",
        "Mismo programa que en 2, pero en esta ocasión tienen que ser tres inputs y dos salidas. Una de las salidas que nos indique si todos son iguales, y la otra si al menos dos inputs sí que lo son"
      ]
    },
    {
      "cell_type": "code",
      "source": [
        "input1 = input(\"Dime tu color preferido \")\n",
        "input2 = input(\"Dime tu  pelicula preferida \")\n",
        "input3 = input(\"Dime tu edad \")\n",
        "print(input1 == input2 and input1 == input3 and input2 == input3)\n",
        "print(input1 == input2 or input1 == input3 or input2 == input3)"
      ],
      "metadata": {
        "id": "f9w7BdqrBaJi",
        "outputId": "2ab658a0-2d21-4d02-e84d-4448bb055b07",
        "colab": {
          "base_uri": "https://localhost:8080/"
        }
      },
      "execution_count": 25,
      "outputs": [
        {
          "output_type": "stream",
          "name": "stdout",
          "text": [
            "Dime tu color preferido Verde\n",
            "Dime tu  pelicula preferida El mago de Oz\n",
            "Dime tu edad 29\n",
            "False\n",
            "False\n"
          ]
        }
      ]
    },
    {
      "cell_type": "markdown",
      "metadata": {
        "id": "6Xx6RvM_9k5Y"
      },
      "source": [
        "\n",
        "\n",
        "## Ejercicio 4\n",
        "Razona sin ejecutar código el output que obtendremos de las siguientes sentencias\n",
        "1. True and True and False\n",
        "2. not ((True or False) and (True or False))\n",
        "3. (False or False or False or True) and False\n",
        "4. not False and True and not True"
      ]
    },
    {
      "cell_type": "markdown",
      "source": [
        "1. Falso\n",
        "2. Falso\n",
        "3. Falso\n",
        "4. Falso\n"
      ],
      "metadata": {
        "id": "glpwSQXIEcxa"
      }
    },
    {
      "cell_type": "markdown",
      "metadata": {
        "id": "ONG_AWE39k5Z"
      },
      "source": []
    }
  ],
  "metadata": {
    "kernelspec": {
      "display_name": "Curso_Online_DATA",
      "language": "python",
      "name": "python3"
    },
    "language_info": {
      "codemirror_mode": {
        "name": "ipython",
        "version": 3
      },
      "file_extension": ".py",
      "mimetype": "text/x-python",
      "name": "python",
      "nbconvert_exporter": "python",
      "pygments_lexer": "ipython3",
      "version": "3.11.5"
    },
    "orig_nbformat": 4,
    "colab": {
      "provenance": [],
      "include_colab_link": true
    }
  },
  "nbformat": 4,
  "nbformat_minor": 0
}