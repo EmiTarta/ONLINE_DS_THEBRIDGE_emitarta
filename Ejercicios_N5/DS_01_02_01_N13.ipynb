{
 "cells": [
  {
   "cell_type": "markdown",
   "metadata": {
    "id": "RGg9iWpoRWxG"
   },
   "source": [
    "![ejercicios.png](attachment:ejercicios.png)"
   ]
  },
  {
   "cell_type": "markdown",
   "metadata": {
    "id": "AyOlWS2nRWxH"
   },
   "source": [
    "## PRACTICA OBLIGATORIA: COLECCIONES Y FUNCIONES"
   ]
  },
  {
   "cell_type": "markdown",
   "metadata": {
    "id": "6UOgb0KVRWxH"
   },
   "source": [
    "* La práctica obligatoria de esta unidad consiste varios ejercicios de programación libre a completar sobre Colecciones y Funciones. Descarga este notebook en tu ordenador y trabaja en local.  \n",
    "* Recuerda que debes subirla a tu repositorio personal antes de la sesión en vivo para que puntúe adecuadamente y puedas participar en dicha sesión.  \n",
    "* Recuerda también que no es necesario que esté perfecta, sólo es necesario que se vea el esfuerzo.\n",
    "* Esta práctica se resolverá en la sesión en vivo correspondiente y la solución se publicará en el repo del curso."
   ]
  },
  {
   "cell_type": "markdown",
   "metadata": {
    "id": "j3yu-tEjRWxH"
   },
   "source": [
    "### Contenidos"
   ]
  },
  {
   "cell_type": "markdown",
   "metadata": {
    "id": "kO-fLH39RWxH"
   },
   "source": [
    "## Ejercicio 1\n",
    "Eleva todos los elementos de la lista al cuadrado\n",
    "> ```ejer_2 = [1,2,3,4,5]```"
   ]
  },
  {
   "cell_type": "code",
   "execution_count": 381,
   "metadata": {},
   "outputs": [],
   "source": [
    "def cuadrado(lista):\n",
    "    return [num ** 2 for num in lista]"
   ]
  },
  {
   "cell_type": "code",
   "execution_count": 382,
   "metadata": {},
   "outputs": [
    {
     "name": "stdout",
     "output_type": "stream",
     "text": [
      "[1, 4, 9, 16, 25]\n"
     ]
    }
   ],
   "source": [
    "ejer_2=[1,2,3,4,5] \n",
    "print(cuadrado(ejer_2))"
   ]
  },
  {
   "cell_type": "code",
   "execution_count": 383,
   "metadata": {},
   "outputs": [],
   "source": [
    "def cuadrado(lista):\n",
    "    resultado = []\n",
    "    for elemento in lista:\n",
    "        resultado.append(elemento**2)\n",
    "    return(resultado)   "
   ]
  },
  {
   "cell_type": "code",
   "execution_count": 384,
   "metadata": {},
   "outputs": [
    {
     "name": "stdout",
     "output_type": "stream",
     "text": [
      "[1, 4, 9, 16, 25]\n"
     ]
    }
   ],
   "source": [
    "ejer_2=[1,2,3,4,5] \n",
    "print(cuadrado(ejer_2))"
   ]
  },
  {
   "cell_type": "markdown",
   "metadata": {
    "id": "kI_Xr5oFRWxI"
   },
   "source": [
    "## Ejercicio 2\n",
    "Haz un programa que detecte todos los duplicados de un elemento en una lista:\n",
    "* Utiliza una variable duplicado para asignarle el valor del elemento del que queremos encontrar todos sus duplicados.\n",
    "* El programa debe devolver todos los índices de los elementos duplicados.\n",
    "* Aplícalo para encontrar los duplicados de \"un\", \"es\" y \"binario\" de:  \n",
    "\n",
    ">```ejer_3 = [\"Un\", \"árbol\", \"binario\", \"es\", \"una\", \"estructura\", \"de\", \"un\", \"tipo\", \"particular\", \"a\", \"veces\", \"no\", \"es\", \"ni\", \"binario\"]```\n"
   ]
  },
  {
   "cell_type": "code",
   "execution_count": 385,
   "metadata": {},
   "outputs": [],
   "source": [
    "def duplicados(lista): # Definimos la variable duplicado con los elementos a buscar\n",
    "    elementos_a_buscar = [\"un\", \"es\", \"binario\"] \n",
    "    resultados = {}\n",
    "    for duplicado in elementos_a_buscar: # Recorremos cada elemento a buscar\n",
    "        duplicado = duplicado.lower() # Convertimos el elemento a minúsculas para evitar problemas de coincidencia de mayúsculas/minúsculas\n",
    "        indices = [] # Lista para almacenar los índices de los elementos duplicados\n",
    "        for indice, valor in enumerate(lista):     # Recorremos la lista usando enumerate para obtener tanto el índice como el valor del elemento\n",
    "            if valor.lower() == duplicado: # Comparamos el elemento en minúsculas para una búsqueda insensible a mayúsculas/minúsculas\n",
    "                indices.append(indice)\n",
    "        resultados[duplicado] = indices    # Almacenamos los resultados en el diccionario\n",
    "    return resultados"
   ]
  },
  {
   "cell_type": "code",
   "execution_count": 386,
   "metadata": {},
   "outputs": [
    {
     "name": "stdout",
     "output_type": "stream",
     "text": [
      "[0, 7]\n",
      "[3, 13]\n",
      "[2, 15]\n"
     ]
    }
   ],
   "source": [
    "# Lista proporcionada en el ejercicio\n",
    "ejer_3 = [\"Un\", \"árbol\", \"binario\", \"es\", \"una\", \"estructura\", \"de\", \"un\", \"tipo\", \"particular\", \"a\", \"veces\", \"no\", \"es\", \"ni\", \"binario\"]\n",
    "\n",
    "# Llamada a la función y muestra de los resultados\n",
    "resultado = duplicados(ejer_3)\n",
    "print(resultado[\"un\"])\n",
    "print(resultado[\"es\"])\n",
    "print(resultado[\"binario\"])"
   ]
  },
  {
   "cell_type": "markdown",
   "metadata": {
    "id": "3WrBd5QaRWxI"
   },
   "source": [
    "## Ejercicio 3\n",
    "1. ¿Cuántas veces se repite el 3 en la siguiente tupla?\n",
    "2. Crea una tupla nueva con los elementos desde la posicion 5 a la 10.\n",
    "3. ¿Cuántos elementos tiene la tupla `ejer_3`?\n",
    "> ```ejer_9 = (3, 20, 3, 47, 19, 3, 29, 45, 67, 78, 90, 3, 3, 5, 2, 4, 7, 9, 4, 2, 4, 3, 3, 4, 6, 7)```"
   ]
  },
  {
   "cell_type": "code",
   "execution_count": 387,
   "metadata": {
    "id": "bkv_R5LYRWxI"
   },
   "outputs": [
    {
     "name": "stdout",
     "output_type": "stream",
     "text": [
      "7\n",
      "<class 'tuple'>\n"
     ]
    }
   ],
   "source": [
    "#1\n",
    "ejer_9 = (3, 20, 3, 47, 19, 3, 29, 45, 67, 78, 90, 3, 3, 5, 2, 4, 7, 9, 4, 2, 4, 3, 3, 4, 6, 7)\n",
    "repite = ejer_9.count(3)\n",
    "print(repite)\n",
    "print(type(ejer_9))"
   ]
  },
  {
   "cell_type": "code",
   "execution_count": 388,
   "metadata": {},
   "outputs": [
    {
     "name": "stdout",
     "output_type": "stream",
     "text": [
      "(3, 29, 45, 67, 78, 90)\n"
     ]
    }
   ],
   "source": [
    "#2\n",
    "sub_tupla = ejer_9[5:11]\n",
    "print(sub_tupla)"
   ]
  },
  {
   "cell_type": "code",
   "execution_count": 389,
   "metadata": {},
   "outputs": [
    {
     "name": "stdout",
     "output_type": "stream",
     "text": [
      "16\n"
     ]
    }
   ],
   "source": [
    "#3\n",
    "print(len(ejer_3))"
   ]
  },
  {
   "cell_type": "markdown",
   "metadata": {
    "id": "6g8Y54AeRWxI"
   },
   "source": [
    "## Ejercicio 4\n",
    "Comprueba si el numero 60 esta en la tupla del ejercicio 3"
   ]
  },
  {
   "cell_type": "code",
   "execution_count": 390,
   "metadata": {
    "id": "F8VTEZonRWxI"
   },
   "outputs": [
    {
     "name": "stdout",
     "output_type": "stream",
     "text": [
      "No hay numero 60\n"
     ]
    }
   ],
   "source": [
    "for i in ejer_9:\n",
    "    if i == 60:\n",
    "        print(\"Hay numero 60\")\n",
    "    else:\n",
    "        print(\"No hay numero 60\")\n",
    "        break"
   ]
  },
  {
   "cell_type": "markdown",
   "metadata": {
    "id": "y0fg-ZA6RWxI"
   },
   "source": [
    "## Ejercicio 5\n",
    "1. Convierte la tupla del ejercicio 3 en una lista\n",
    "2. Convierte la tupla del ejercicio 3 en un set\n",
    "3. Convierte la tupla del ejercicio 3 en un diccionario. Usa también los indices"
   ]
  },
  {
   "cell_type": "code",
   "execution_count": 391,
   "metadata": {
    "id": "_O5hXr01RWxI"
   },
   "outputs": [
    {
     "name": "stdout",
     "output_type": "stream",
     "text": [
      "[3, 20, 3, 47, 19, 3, 29, 45, 67, 78, 90, 3, 3, 5, 2, 4, 7, 9, 4, 2, 4, 3, 3, 4, 6, 7] <class 'list'>\n"
     ]
    }
   ],
   "source": [
    "#1. \n",
    "ejer_9_5 = list(ejer_9)\n",
    "print(ejer_9_5, (type(ejer_9_5)))"
   ]
  },
  {
   "cell_type": "code",
   "execution_count": 392,
   "metadata": {},
   "outputs": [
    {
     "name": "stdout",
     "output_type": "stream",
     "text": [
      "{2, 3, 67, 5, 4, 7, 6, 9, 45, 78, 47, 19, 20, 90, 29} <class 'set'>\n"
     ]
    }
   ],
   "source": [
    "#2. \n",
    "ejer_9_5 = set(ejer_9)\n",
    "print(ejer_9_5, (type(ejer_9_5)))"
   ]
  },
  {
   "cell_type": "code",
   "execution_count": 393,
   "metadata": {},
   "outputs": [
    {
     "name": "stdout",
     "output_type": "stream",
     "text": [
      "{0: 3, 1: 20, 2: 3, 3: 47, 4: 19, 5: 3, 6: 29, 7: 45, 8: 67, 9: 78, 10: 90, 11: 3, 12: 3, 13: 5, 14: 2, 15: 4, 16: 7, 17: 9, 18: 4, 19: 2, 20: 4, 21: 3, 22: 3, 23: 4, 24: 6, 25: 7} <class 'dict'>\n"
     ]
    }
   ],
   "source": [
    "#1. \n",
    "diccionario = {i: valor for i, valor in enumerate(ejer_9)}\n",
    "print(diccionario, (type(diccionario)))"
   ]
  },
  {
   "cell_type": "markdown",
   "metadata": {
    "id": "eOdWWbxvRWxJ"
   },
   "source": [
    "## Ejercicio 6\n",
    "Multiplica todos los valores del diccionario\n",
    "> ```ejer_6 = {1: 11, 2: 22, 3: 33, 4: 44, 5: 55}```"
   ]
  },
  {
   "cell_type": "code",
   "execution_count": 394,
   "metadata": {
    "id": "KcuByovKRWxJ"
   },
   "outputs": [
    {
     "name": "stdout",
     "output_type": "stream",
     "text": [
      "19326120\n"
     ]
    }
   ],
   "source": [
    "ejer_6 = {1: 11, 2: 22, 3: 33, 4: 44, 5: 55}\n",
    "valores = ejer_6.values()\n",
    "resultado = 1  # Multiplica por 1 en el primer bucle\n",
    "for i in valores:\n",
    "    resultado = resultado * i  # Multiplica por el valor siguiente y asigna el nuevo resultado \n",
    "print(resultado)"
   ]
  },
  {
   "cell_type": "markdown",
   "metadata": {
    "id": "W7TUSaKRRWxJ"
   },
   "source": [
    "## Ejercicio 7\n",
    "\n",
    "1. Crea un diccionario que describa un libro, con los siguientes campos o claves: \"titulo\",\"autor\",\"idioma original\",\"año de publicación\".\n",
    "2. Crea un a lista, llamada librería.\n",
    "3. Añade cuatro libros a tu elección a la librería."
   ]
  },
  {
   "cell_type": "code",
   "execution_count": 395,
   "metadata": {
    "id": "d-IMRvxRRWxJ",
    "vscode": {
     "languageId": "plaintext"
    }
   },
   "outputs": [
    {
     "name": "stdout",
     "output_type": "stream",
     "text": [
      "[{'Titulo': 'A Game of Thrones', 'Autor': 'George R. R. Martin', 'Idioma original': 'Ingles', 'Año de publicación': '1996'}, {'Titulo': \"Harry Potter and the Philosopher's Stone\", 'Autor': 'J. K. Rowling', 'Idioma original': 'Ingles', 'Año de publicación': '1997'}, {'Titulo': 'The Lord of the Rings', 'Autor': 'J. R. R. Tolkien', 'Idioma original': 'Ingles', 'Año de publicación': '1954'}, {'Titulo': 'The Lion, the Witch and the Wardrobe', 'Autor': 'C. S. Lewis', 'Idioma original': 'Ingles', 'Año de publicación': '1950'}, {'Titulo': 'The Lightning Thief', 'Autor': 'Rick Riordan', 'Idioma original': 'Ingles', 'Año de publicación': '2005'}]\n"
     ]
    }
   ],
   "source": [
    "A_Game_Of_Thrones = { \"Titulo\" : \"A Game of Thrones\", \"Autor\" : \"George R. R. Martin\", \"Idioma original\" : \"Ingles\", \"Año de publicación\" : \"1996\"}\n",
    "Harry_Potter_And_The_Philosophers_Stone = {\"Titulo\" : \"Harry Potter and the Philosopher's Stone\", \"Autor\" : \"J. K. Rowling\", \"Idioma original\" : \"Ingles\", \"Año de publicación\" : \"1997\"}\n",
    "The_Lord_Of_The_Rings = {\"Titulo\" : \"The Lord of the Rings\", \"Autor\" : \"J. R. R. Tolkien\", \"Idioma original\" : \"Ingles\", \"Año de publicación\" : \"1954\"}\n",
    "The_Chronicles_of_Narnia = {\"Titulo\" : \"The Lion, the Witch and the Wardrobe\", \"Autor\" : \"C. S. Lewis\", \"Idioma original\" : \"Ingles\", \"Año de publicación\" : \"1950\"}\n",
    "Percy_Jackson = {\"Titulo\" : \"The Lightning Thief\", \"Autor\" : \"Rick Riordan\", \"Idioma original\" : \"Ingles\", \"Año de publicación\" : \"2005\"}\n",
    "libreria = [A_Game_Of_Thrones, Harry_Potter_And_The_Philosophers_Stone, The_Lord_Of_The_Rings, The_Chronicles_of_Narnia, Percy_Jackson]\n",
    "print(libreria)"
   ]
  },
  {
   "cell_type": "markdown",
   "metadata": {
    "id": "glMoedjYRWxJ"
   },
   "source": [
    "## Ejercicio 8\n",
    "Modifica los valores del idioma de todos los libros del ejercicio anterior para que sea \"esperanto\"\n"
   ]
  },
  {
   "cell_type": "code",
   "execution_count": 396,
   "metadata": {
    "id": "veNdC-uwRWxJ"
   },
   "outputs": [
    {
     "name": "stdout",
     "output_type": "stream",
     "text": [
      "[{'Titulo': 'A Game of Thrones', 'Autor': 'George R. R. Martin', 'Idioma original': ['Esperanto'], 'Año de publicación': '1996'}, {'Titulo': \"Harry Potter and the Philosopher's Stone\", 'Autor': 'J. K. Rowling', 'Idioma original': ['Esperanto'], 'Año de publicación': '1997'}, {'Titulo': 'The Lord of the Rings', 'Autor': 'J. R. R. Tolkien', 'Idioma original': ['Esperanto'], 'Año de publicación': '1954'}, {'Titulo': 'The Lion, the Witch and the Wardrobe', 'Autor': 'C. S. Lewis', 'Idioma original': ['Esperanto'], 'Año de publicación': '1950'}, {'Titulo': 'The Lightning Thief', 'Autor': 'Rick Riordan', 'Idioma original': ['Esperanto'], 'Año de publicación': '2005'}]\n"
     ]
    }
   ],
   "source": [
    "for libro in libreria: # Acceder a cada elemento de la lista libreria\n",
    "    libro[\"Idioma original\"] = [\"Esperanto\"] # Dentro de cada elemento, cambiar el valor senalado por el nuevo indicado\n",
    "print(libreria) "
   ]
  },
  {
   "cell_type": "markdown",
   "metadata": {
    "id": "DRCJG04KRWxJ"
   },
   "source": [
    "## Ejercicio 9\n",
    "1. Escribe un programa que dada una variable titulo busque los libros que hay en la librería con ese título. Si no se encuentra debe devolver el mensaje `Ese no lo tengo, ¿mola?`\n",
    "2. Pruena que el programa con uno de tus libros y con otro que no contenga tu librería."
   ]
  },
  {
   "cell_type": "code",
   "execution_count": 397,
   "metadata": {
    "id": "eWHdJi9BRWxJ"
   },
   "outputs": [
    {
     "name": "stdout",
     "output_type": "stream",
     "text": [
      "Ese no lo tengo, ¿mola?\n",
      "Si\n"
     ]
    }
   ],
   "source": [
    "def busca_titulo(titulo):\n",
    "    busca = []\n",
    "    for libro in libreria:\n",
    "        if libro[\"Titulo\"] == titulo:\n",
    "            return \"Si\"\n",
    "    else:\n",
    "        return (\"Ese no lo tengo, ¿mola?\")\n",
    "print(busca_titulo(\"Crepusculo\"))\n",
    "print(busca_titulo(\"A Game of Thrones\"))"
   ]
  },
  {
   "cell_type": "markdown",
   "metadata": {
    "id": "17YOpYuFRWxJ"
   },
   "source": [
    "## Ejercicio 10\n",
    "Convierte el programa del ejercicio 2 en una función al que se le pase el valor a buscar como un argumento posicional"
   ]
  },
  {
   "cell_type": "code",
   "execution_count": 398,
   "metadata": {},
   "outputs": [],
   "source": [
    "def duplicados(lista, valor): # Crea una funcion\n",
    "    lista = [item.lower() for item in lista] #Convertimos todos los elementos a minuscula\n",
    "    valores_duplicados = [] #Para almacenar en una lista todos los indices de los duplicados\n",
    "    for i, item in enumerate(lista): # Bucle for para buscar cada indice\n",
    "        if item == valor: # si ese indice esta duplicado, \n",
    "            valores_duplicados.append(i)  # lo agrega a la lista\n",
    "    return valores_duplicados"
   ]
  },
  {
   "cell_type": "code",
   "execution_count": 399,
   "metadata": {},
   "outputs": [],
   "source": [
    "ejer_3 = [\"Un\", \"árbol\", \"binario\", \"es\", \"una\", \"estructura\", \"de\", \"un\", \"tipo\", \"particular\", \"a\", \"veces\", \"no\", \"es\", \"ni\", \"binario\"]"
   ]
  },
  {
   "cell_type": "code",
   "execution_count": 400,
   "metadata": {},
   "outputs": [
    {
     "name": "stdout",
     "output_type": "stream",
     "text": [
      "[3, 13]\n",
      "[0, 7]\n",
      "[2, 15]\n"
     ]
    }
   ],
   "source": [
    "print(duplicados(ejer_3, \"es\"))\n",
    "print(duplicados(ejer_3, \"un\"))\n",
    "print(duplicados(ejer_3, \"binario\"))"
   ]
  },
  {
   "cell_type": "markdown",
   "metadata": {
    "id": "xZ-sWJxPRWxJ"
   },
   "source": [
    "## Ejercicio 11\n",
    "Convierte el programa del ejercicio 9 en una función al que se le pasen como argumentos la librería, posicional, y el título, argumento keyword con valor \"ninguno\", por defecto."
   ]
  },
  {
   "cell_type": "code",
   "execution_count": 401,
   "metadata": {},
   "outputs": [
    {
     "name": "stdout",
     "output_type": "stream",
     "text": [
      "Ese no lo tengo, ¿mola?\n",
      "Si\n"
     ]
    }
   ],
   "source": [
    "def busca_titulo(titulo):\n",
    "    busca = []\n",
    "    for libro in libreria:\n",
    "        if libro[\"Titulo\"] == titulo:\n",
    "            return \"Si\"\n",
    "    else:\n",
    "        return (\"Ese no lo tengo, ¿mola?\")\n",
    "print(busca_titulo(\"Crepusculo\"))\n",
    "print(busca_titulo(\"A Game of Thrones\"))"
   ]
  },
  {
   "cell_type": "code",
   "execution_count": 402,
   "metadata": {
    "id": "4-JrsMdNRWxK"
   },
   "outputs": [
    {
     "name": "stdout",
     "output_type": "stream",
     "text": [
      "Ese no lo tengo, ¿mola?\n"
     ]
    }
   ],
   "source": [
    "def busca_titulo(libreria, titulo = None):\n",
    "    busca = []\n",
    "    for libro in libreria:\n",
    "        if libro[\"Titulo\"] == titulo:\n",
    "            return \"Si\"\n",
    "    else:\n",
    "        return (\"Ese no lo tengo, ¿mola?\")\n",
    "\n",
    "print(busca_titulo(libreria, \"\"))"
   ]
  },
  {
   "cell_type": "markdown",
   "metadata": {
    "id": "FtJir95QRWxK"
   },
   "source": [
    "## Ejercicio 12\n",
    "Solicitar al usuario que ingrese su dirección email. Imprimir un mensaje indicando si la dirección es válida o no, valiéndose de una función para decidirlo. Una dirección se considerará válida si contiene el símbolo \"@\"."
   ]
  },
  {
   "cell_type": "code",
   "execution_count": 403,
   "metadata": {
    "id": "sk852IZ8RWxK"
   },
   "outputs": [
    {
     "name": "stdin",
     "output_type": "stream",
     "text": [
      "Ingrese la direccion de email emi.tartaglia@gmail.com\n"
     ]
    },
    {
     "name": "stdout",
     "output_type": "stream",
     "text": [
      "La direccion es valida\n"
     ]
    }
   ],
   "source": [
    "def ingrese_email(email):\n",
    "    if \"@\" in email: \n",
    "        return(\"La direccion es valida\")\n",
    "email = input (\"Ingrese la direccion de email\")\n",
    "\n",
    "print(ingrese_email(email))"
   ]
  },
  {
   "cell_type": "markdown",
   "metadata": {
    "id": "Kw1MWBwBRWxK"
   },
   "source": [
    "## Ejercicio 13\n",
    "Escribe una función que compruebe si un DNI es válido, devolviendo `True` en caso afirmativo.  \n",
    "En primer lugar, el DNI debe tener entre 7 y 8 dígitos numéricos.  \n",
    "Para saber si la letra del DNI es correcta puedes utilizar el siguiente fragmento de código:\n",
    ">```Python\n",
    ">DNI= 55555555\n",
    ">palabra='TRWAGMYFPDXBNJZSQVHLCKE'\n",
    ">print('La letra del DNI es: ', palabra[DNI%23])\n",
    ">````\n"
   ]
  },
  {
   "cell_type": "code",
   "execution_count": 409,
   "metadata": {
    "id": "F5Z9rSHqRWxK"
   },
   "outputs": [
    {
     "name": "stdin",
     "output_type": "stream",
     "text": [
      "Ingrese DNI 55530731z\n"
     ]
    },
    {
     "name": "stdout",
     "output_type": "stream",
     "text": [
      "El DNI es válido\n"
     ]
    }
   ],
   "source": [
    "def funcion_dni(dni): \n",
    "    dni = input(\"Ingrese DNI\")\n",
    "    if len(dni) == 8 or len(dni) == 9:  # Calcula los digitos del DNI\n",
    "        palabra = 'TRWAGMYFPDXBNJZSQVHLCKE'\n",
    "        numero_dni = int(dni[:-1])  # Convierte todos los caracteres del DNI a entero, excepto el último, para poder calcular la letra\n",
    "        letra_correcta = palabra[numero_dni % 23] # Calcular la letra correcta de DNI a traves del resto \n",
    "        if letra_correcta == dni[-1].upper():  # Compara la letra calculada, con la ultima letra (proporcionada en el input), haciendola Mayus en su caso.\n",
    "            return 'El DNI es válido'\n",
    "        else:\n",
    "            return 'El DNI no es válido'\n",
    "    else:\n",
    "        return 'El DNI no es válido'\n",
    "\n",
    "print(funcion_dni(dni))"
   ]
  },
  {
   "cell_type": "code",
   "execution_count": null,
   "metadata": {},
   "outputs": [],
   "source": []
  }
 ],
 "metadata": {
  "colab": {
   "provenance": []
  },
  "kernelspec": {
   "display_name": "Python 3 (ipykernel)",
   "language": "python",
   "name": "python3"
  },
  "language_info": {
   "codemirror_mode": {
    "name": "ipython",
    "version": 3
   },
   "file_extension": ".py",
   "mimetype": "text/x-python",
   "name": "python",
   "nbconvert_exporter": "python",
   "pygments_lexer": "ipython3",
   "version": "3.12.5"
  }
 },
 "nbformat": 4,
 "nbformat_minor": 4
}
