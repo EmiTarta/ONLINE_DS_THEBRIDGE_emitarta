{
 "cells": [
  {
   "cell_type": "markdown",
   "metadata": {},
   "source": [
    "##  Programacion Orientada a Objetos: Ejemplo\n"
   ]
  },
  {
   "cell_type": "markdown",
   "metadata": {},
   "source": [
    "### Contenidos \n"
   ]
  },
  {
   "cell_type": "markdown",
   "metadata": {},
   "source": [
    "* [Definición del problema  ](#Definición-del-problema)\n",
    "* [Solución con programación funcional](#Resolución-funcional)\n",
    "* [Solución con programación orientada a objetos](#Resolución-OOP)\n",
    "* [Comparativa](#Comparativa)"
   ]
  },
  {
   "cell_type": "markdown",
   "metadata": {},
   "source": [
    "### Definición del problema\n",
    "[al indice](#Contenidos)  \n",
    "\n",
    "Queremos construir un **programa** que nos sirva para tener un pequeño **gestor de nuestra biblioteca**. Para ello debe permitirnos las siguientes funcionalidades:  \n",
    "\n",
    "1. Añadir un libro.\n",
    "2. Eliminar un libro.\n",
    "3. Buscar un libro por título.\n",
    "4. Mostrar todos los libros.\n",
    "\n",
    "Para que veas cómo usar la OOP frente a la programación funcional que hemos utilizado hasta ahora, lo vamos a desarrollar de las dos maneras."
   ]
  },
  {
   "cell_type": "markdown",
   "metadata": {},
   "source": [
    "### Resolución funcional\n",
    "[al indice](#Contenidos) "
   ]
  },
  {
   "cell_type": "code",
   "execution_count": 6,
   "metadata": {},
   "outputs": [],
   "source": [
    "def añadir_libro(biblioteca, libro):\n",
    "    biblioteca.append(libro)\n",
    "\n",
    "def eliminar_libro(biblioteca, titulo):\n",
    "    biblioteca[:] = [libro for libro in biblioteca if libro['titulo'] != titulo]\n",
    "    \n",
    "def buscar_libro(biblioteca, titulo):\n",
    "    for libro in biblioteca:\n",
    "        if libro['titulo'] == titulo:\n",
    "            return libro\n",
    "    return None\n",
    "    \n",
    "def mostrar_libros(biblioteca):\n",
    "    for libro in biblioteca:\n",
    "        print(libro['titulo'])\n",
    "        print(libro['autor'])\n",
    "        print(\"****\")\n",
    "\n",
    "def guardar_biblioteca(biblioteca, fichero):\n",
    "    pass\n",
    "    # Hipotetica función que guarda en disco mi biblioteca con sus libros"
   ]
  },
  {
   "cell_type": "code",
   "execution_count": 7,
   "metadata": {},
   "outputs": [
    {
     "name": "stdout",
     "output_type": "stream",
     "text": [
      "Buscamos '1984'\n",
      "{'titulo': '1984', 'autor': 'George Orwell'}\n",
      "\n",
      "Mostramos la biblioteca\n",
      "1984\n",
      "George Orwell\n",
      "****\n",
      "Brave New World\n",
      "Aldous Huxley\n",
      "****\n",
      "\n",
      "Eliminamos '1984'\n",
      "Mostramos como queda la biblioteca\n",
      "Brave New World\n",
      "Aldous Huxley\n",
      "****\n"
     ]
    }
   ],
   "source": [
    "\n",
    "# Ejemplo de Uso\n",
    "biblioteca = []\n",
    "añadir_libro(biblioteca, {'titulo': '1984', 'autor': 'George Orwell'})\n",
    "añadir_libro(biblioteca, {'titulo': 'Brave New World', 'autor': 'Aldous Huxley'})\n",
    "print(\"Buscamos '1984'\")\n",
    "print(buscar_libro(biblioteca, '1984'))  # {'titulo': '1984', 'autor': 'George Orwell'}\n",
    "print(\"\")\n",
    "print(\"Mostramos la biblioteca\")\n",
    "mostrar_libros(biblioteca) \n",
    "print(\"\")\n",
    "print(\"Eliminamos '1984'\")\n",
    "eliminar_libro(biblioteca, '1984')\n",
    "print(\"Mostramos como queda la biblioteca\")\n",
    "mostrar_libros(biblioteca)\n"
   ]
  },
  {
   "cell_type": "code",
   "execution_count": null,
   "metadata": {},
   "outputs": [],
   "source": []
  },
  {
   "cell_type": "markdown",
   "metadata": {},
   "source": [
    "### Resolución OOP\n",
    "[al indice](#Contenidos) "
   ]
  },
  {
   "cell_type": "code",
   "execution_count": 8,
   "metadata": {},
   "outputs": [],
   "source": [
    "class Libro:\n",
    "    def __init__(self, titulo, autor):\n",
    "        self.titulo = titulo\n",
    "        self.autor = autor\n",
    "\n",
    "    def print_datos(self):\n",
    "        print(\"Titulo:\", self.titulo)\n",
    "        print(\"Autor:\", self.autor)\n",
    "        return self.titulo\n",
    "    \n"
   ]
  },
  {
   "cell_type": "code",
   "execution_count": 9,
   "metadata": {},
   "outputs": [],
   "source": [
    "\n",
    "class Biblioteca:\n",
    "    def __init__(self):\n",
    "        self.libros = []\n",
    "\n",
    "    def añadir_libro(self, libro):\n",
    "        self.libros.append(libro)\n",
    "        \n",
    "    def eliminar_libro(self, titulo):\n",
    "        self.libros = [libro for libro in self.libros if libro.titulo != titulo]\n",
    "    \n",
    "    def buscar_libro(self, titulo):\n",
    "        for libro in self.libros:\n",
    "            if libro.titulo == titulo:\n",
    "                libro.print_datos()\n",
    "                return libro\n",
    "        return None\n",
    "\n",
    "    def mostrar_libros(self):\n",
    "        for libro in self.libros:\n",
    "            libro.print_datos()\n",
    "\n",
    "    def guardar_biblioteca(self):\n",
    "        pass\n",
    "        # Método hipotético que guarda en disco mi blibioteca y sus libros"
   ]
  },
  {
   "cell_type": "code",
   "execution_count": 10,
   "metadata": {},
   "outputs": [
    {
     "name": "stdout",
     "output_type": "stream",
     "text": [
      "Buscamos 1984:\n",
      "Titulo: 1984\n",
      "Autor: George Orwell\n",
      " \n",
      "Mostramos la biblioteca\n",
      "Titulo: 1984\n",
      "Autor: George Orwell\n",
      "Titulo: Brave New World\n",
      "Autor: Aldous Huxley\n",
      "\n",
      "Eliminamos 1984\n",
      "Titulo: Brave New World\n",
      "Autor: Aldous Huxley\n"
     ]
    }
   ],
   "source": [
    "\n",
    "# Ejemplo de Uso\n",
    "biblioteca = Biblioteca()\n",
    "biblioteca.añadir_libro(Libro('1984', 'George Orwell'))\n",
    "biblioteca.añadir_libro(Libro('Brave New World', 'Aldous Huxley'))\n",
    "print(\"Buscamos 1984:\")\n",
    "libro = biblioteca.buscar_libro('1984')  # 1984\n",
    "print(\" \")\n",
    "print(\"Mostramos la biblioteca\")\n",
    "biblioteca.mostrar_libros()\n",
    "print(\"\")\n",
    "print(\"Eliminamos 1984\") \n",
    "biblioteca.eliminar_libro('1984')\n",
    "biblioteca.mostrar_libros()\n"
   ]
  },
  {
   "cell_type": "code",
   "execution_count": null,
   "metadata": {},
   "outputs": [],
   "source": []
  },
  {
   "cell_type": "markdown",
   "metadata": {},
   "source": [
    "### Comparativa\n",
    "[al indice](#Contenidos) "
   ]
  },
  {
   "cell_type": "markdown",
   "metadata": {},
   "source": [
    "A simple vista puede parecer que es más o menos lo mismo, y siempre podremos hacerlas equivalentes. Lo importante es la facilidad y el cambio de paradigma. El pensar en objetos nos permite gestionarlos mejor. Por ejemplo piensa en la siguiente modificación aparentemente sencilla...\n",
    "\n",
    "*Quiero ponerle nombre a mi biblioteca, porque quiero distinguir la de libros en español de la de libros en inglés*\n",
    "\n",
    " "
   ]
  },
  {
   "cell_type": "markdown",
   "metadata": {},
   "source": [
    "#### Modificación 1, programación funcional\n",
    "\n",
    "En el caso de la programación funcional, tendría que cambiar mi biblioteca por algo como:\n",
    "\n",
    "```Python\n",
    "biblioteca = {\n",
    "    \"nombre\": \"Libros_español\",\n",
    "    \"libros\": []}\n",
    "```\n",
    "\n",
    "pero... ahora tendría que cambiar todas las funciones definidas anteriormente para que consideraran el nuevo cambio... Echa un vistazo a las funciones y piensa cuantas tendrías que tocas y cómo..."
   ]
  },
  {
   "cell_type": "markdown",
   "metadata": {},
   "source": [
    "#### Modificación 1, programación OOP\n",
    "\n",
    "En el caso de la programación orientada a objetos, me llega con cambiar el constructor\n",
    "\n",
    "```Python\n",
    "def __init__(self, nombre):\n",
    "    self.nombre = nombre\n",
    "    self.libros  = []\n",
    "```\n",
    "\n",
    "Hmmm, ¿le vas viendo las ventajas?"
   ]
  },
  {
   "cell_type": "markdown",
   "metadata": {},
   "source": [
    "Siendo más prolijo:\n",
    "\n",
    "1. Claro y estructurado: Con la POO, dividimos claramente el concepto de Libro y Biblioteca en clases separadas. Esto hace que el código sea más modular y fácil de entender.\n",
    "\n",
    "2. Reusabilidad: Con la clase Libro, podemos reutilizarla en otros contextos (por ejemplo, una tienda, una revisión de libros, etc.), sin tener que reescribir la lógica.\n",
    "\n",
    "3. Extensibilidad: Si en el futuro queremos agregar características adicionales a Libro (como año de publicación, género, etc.) o a Biblioteca (como préstamos, reservas, etc.), sería más fácil y organizado hacerlo con la estructura de la POO.\n",
    "\n",
    "4. Estado encapsulado: En la versión orientada a objetos, la lista de libros está \"oculta\" dentro de la clase Biblioteca, evitando que se manipule directamente desde fuera.\n",
    "\n",
    "En resumen, mientras que la solución funcional es más directa y menos verbosa para problemas más simples, la solución orientada a objetos ofrece una estructura clara, modularidad, reusabilidad y extensibilidad para problemas más complejos, como este"
   ]
  }
 ],
 "metadata": {
  "kernelspec": {
   "display_name": "Python 3 (ipykernel)",
   "language": "python",
   "name": "python3"
  },
  "language_info": {
   "codemirror_mode": {
    "name": "ipython",
    "version": 3
   },
   "file_extension": ".py",
   "mimetype": "text/x-python",
   "name": "python",
   "nbconvert_exporter": "python",
   "pygments_lexer": "ipython3",
   "version": "3.12.5"
  }
 },
 "nbformat": 4,
 "nbformat_minor": 4
}
