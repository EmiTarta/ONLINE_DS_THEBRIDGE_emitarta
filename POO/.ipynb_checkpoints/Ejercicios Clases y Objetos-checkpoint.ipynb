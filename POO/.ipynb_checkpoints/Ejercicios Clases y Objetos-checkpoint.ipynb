{
 "cells": [
  {
   "cell_type": "markdown",
   "metadata": {
    "id": "2xmnwM17SU4y"
   },
   "source": [
    "![ejercicios.png](attachment:ejercicios.png)"
   ]
  },
  {
   "cell_type": "markdown",
   "metadata": {
    "id": "liorA-1ZSU4y"
   },
   "source": [
    "# Ejercicios Clases y Objetos"
   ]
  },
  {
   "cell_type": "markdown",
   "metadata": {
    "id": "5xXUz5l9SU4z"
   },
   "source": [
    "# Ejercicio 1\n",
    "Somos una empresa que tiene varias tiendas de electrodomesticos. Necesitamos un programa para manejar las tiendas, ver las ventas que han tenido, cuántos empleados hay, etc... Para ello vamos a modelizar la tienda en una clase, que tendrá las siguientes características:\n",
    "* Nombre clase: \"Tienda\"\n",
    "* Atributos comunes:\n",
    "    * Tipo: \"Electrodomésticos\"\n",
    "    * Abierta: True\n",
    "* Atributos propios de cada tienda:\n",
    "    * Nombre - String\n",
    "    * Dirección - String\n",
    "    * Número de empleados - int\n",
    "    * Ventas ultimos 3 meses - Lista de 3 numeros\n",
    "* Método para calcular las ventas de todos los meses, que devuelva un numero con todas las ventas.\n",
    "* Método que calcula la media de ventas de los ultimos meses, por empleado\n",
    "* Método que devuelve en un string el nombre de la tienda, junto con su dirección.\n",
    "* Método que obtiene las ventas del último mes.\n",
    "* Método para dar una proyección de las ventas en caso de haber invertido X dinero en marketing en esa tienda. Siendo X el parámetro de entrada. Si X es menor de 1000, las ventas de los ultimos 3 meses hubiesen sido de (1.2 x ventas), si es mayor o igual de 1000, las ventas hubiesen sido de (1.5 x venta). El método reescribe el atributo de ventas en los últimos 3 meses, y además devuelve las ventas con el aumento.\n",
    "\n",
    "Se pide:\n",
    "1. Implementar la clase \"Tienda\"\n",
    "2. Crear tres tiendas con datos inventados\n",
    "3. Comprueba en al menos una de ellas, todo lo implementado en la clase tienda (sus atributos, media de ventas, ventas/empleado...)\n",
    "3. Calcular las ventas del último mes de todas las tiendas. Para ello usa el bucle `for`\n",
    "4. Imprime por pantalla los nombres de las tiendas cuya dirección lleve el string \"Avenida\"\n",
    "5. Seguro que ya has hecho este apartado... Documenta la clase :)"
   ]
  },
  {
   "cell_type": "code",
   "execution_count": 92,
   "metadata": {
    "id": "5cLQcLxfSU4z"
   },
   "outputs": [],
   "source": [
    "class Tienda:\n",
    "    \"\"\"\n",
    "    Clase que representa una Tienda, con dos atributos comunes a todas las tiendas: de tipo 'Electrodomesticos' y 'abierta'\n",
    "    \"\"\"\n",
    "    tipo = 'Electrodomesticos'\n",
    "    abierta = True\n",
    "\n",
    "    def __init__(self, nombre, direccion, num_empleados, ventas_ultimos_3m):\n",
    "        \"\"\"\n",
    "        Constructor de clase: se crea la funcion para inicializar atributos especificos del objeto de clase Tienda: \n",
    "        - nombre(string): nombre de la tienda, \n",
    "        - direccion(string): direccion de la tienda, \n",
    "        - num_empleados(int): numero de empleados en la tienda,\n",
    "        - ventas_utimos_3m(float): lista de 3 numeros, venta de los ultimos 3 meses\n",
    "        \"\"\"\n",
    "        self.nombre = nombre\n",
    "        self.direccion = direccion\n",
    "        self.empleados = num_empleados\n",
    "        self.ventas = ventas_ultimos_3m\n",
    "        \n",
    "    def calculo_ventas(self):\n",
    "        \"\"\"\n",
    "        Metodo para calcular el total de ventas de todas las tiendas en los ultimos 3 meses,\n",
    "        a traves de la suma de los valores en la lista de ventas de cada una\n",
    "        Devuelve: total_ventas(float)\n",
    "        \"\"\"\n",
    "        total_ventas = sum(self.ventas)\n",
    "        return total_ventas\n",
    "   \n",
    "    def media_venta_empleado(self):\n",
    "        \"\"\"\n",
    "        Metodo para caluclar la media de ventas por empleado de cada tienda, utilizando el total de ventas proporcionado por el metodo anterior,\n",
    "        y lo divide por el total de empleados que tiene cada tienda\n",
    "        Devuelve: media_ventas(float, redondeado a 2 decimales)\n",
    "        \n",
    "        \"\"\"\n",
    "        total_ventas = self.calculo_ventas()\n",
    "        media_ventas = total_ventas / self.empleados\n",
    "        return round(media_ventas, 2)\n",
    "\n",
    "    def nombre_direccion(self):\n",
    "        \"\"\"\n",
    "        Metodo que devuelve en string el nombre y direccion de la tienda que reciba\n",
    "        \"\"\"\n",
    "        return \"El nombre de la tienda es: \" + self.nombre + \". La direccion de la tienda es: \" + self.direccion        \n",
    "    \n",
    "    def venta_ultimo_mes(self):\n",
    "        \"\"\"\n",
    "        Metodo que obtiene las ventas del ultimo mes de la tienda que se requiera. \n",
    "        Utiliza la lista de ventas y obtiene el ultimo valor de la misma a traves de [-1]\n",
    "        \"\"\"\n",
    "        return self.ventas[-1]\n",
    "\n",
    "    def proyeccion_ventas(self, inversion):\n",
    "        \"\"\"\n",
    "        Metodo que pryecta las ventas en funcion de lo invertido en Marketing en esa tienda:\n",
    "        estableciendo el parametro \"inversion\" (float) para la cantidad de dinero invertido\n",
    "            - Si la inversion es menos a 1000, proyecta un aumento del 20%(1.2)\n",
    "            - Si la inversion es igual o mayor a 1000, se proyecta un aumento del 50% (1.5)\n",
    "        Devuelve: ultimas_ventas: una lista de las ventas con los nuevos valores de acuerdo a la inversion dada.\n",
    "        NOTA: se lo renombra con \"ultimas_ventas\", para que no se modifiquen los valores definitivamente.\n",
    "        \"\"\"\n",
    "        ultimas_ventas = self.ventas\n",
    "        if inversion < 1000:\n",
    "            proyeccion = 1.2\n",
    "        else:\n",
    "            proyeccion = 1.5\n",
    "        ultimas_ventas = [(i * proyeccion) for i in ultimas_ventas]\n",
    "        return ultimas_ventas"
   ]
  },
  {
   "cell_type": "code",
   "execution_count": 93,
   "metadata": {},
   "outputs": [],
   "source": [
    "# Crear 3 tiendas con datos inventados\n",
    "\n",
    "alfa = Tienda('alfa', 'Avenida Fiorito 123', 15, [4579, 5387, 9833])\n",
    "beta = Tienda('beta', 'Calle La Boca 456', 38, [7209, 8734, 8222])\n",
    "gama = Tienda('gama', 'Avenida Recoleta 188', 25, [7334, 6565, 7100])"
   ]
  },
  {
   "cell_type": "code",
   "execution_count": 94,
   "metadata": {},
   "outputs": [
    {
     "name": "stdout",
     "output_type": "stream",
     "text": [
      "La tienda ' alfa ' tiene un total de: 15 empleados.\n",
      "Las ventas de los ultimos 3 meses fueron de: 4579 euros, 5387 euros y 9833 euros.\n",
      " \n",
      "La tienda ' beta ' tiene un total de: 38 empleados.\n",
      "Las ventas de los ultimos 3 meses fueron de: 7209 euros, 8734 euros y 8222 euros.\n",
      " \n",
      "La tienda ' gama ' tiene un total de: 25 empleados.\n",
      "Las ventas de los ultimos 3 meses fueron de: 7334 euros, 6565 euros y 7100 euros.\n"
     ]
    }
   ],
   "source": [
    "# Implementar la clase \"Tienda\" con todos sus atributos\n",
    "print(\"La tienda\", \"'\", alfa.nombre, \"'\", \"tiene un total de:\", alfa.empleados, \"empleados.\")\n",
    "print(\"Las ventas de los ultimos 3 meses fueron de:\", alfa.ventas[0], \"euros,\", alfa.ventas[1], \"euros y\", alfa.ventas[2], \"euros.\")\n",
    "print(\" \")\n",
    "print(\"La tienda\", \"'\", beta.nombre, \"'\", \"tiene un total de:\", beta.empleados, \"empleados.\")\n",
    "print(\"Las ventas de los ultimos 3 meses fueron de:\", beta.ventas[0], \"euros,\", beta.ventas[1], \"euros y\", beta.ventas[2], \"euros.\")\n",
    "print(\" \")\n",
    "print(\"La tienda\", \"'\", gama.nombre, \"'\", \"tiene un total de:\", gama.empleados, \"empleados.\")\n",
    "print(\"Las ventas de los ultimos 3 meses fueron de:\", gama.ventas[0], \"euros,\", gama.ventas[1], \"euros y\", gama.ventas[2], \"euros.\")"
   ]
  },
  {
   "cell_type": "code",
   "execution_count": 95,
   "metadata": {},
   "outputs": [
    {
     "name": "stdout",
     "output_type": "stream",
     "text": [
      "Las ventas de los ultimos 3 meses fueron de: 19799 euros.\n",
      "Las ventas de los ultimos 3 meses fueron de: 24165 euros.\n",
      "Las ventas de los ultimos 3 meses fueron de: 20999 euros.\n"
     ]
    }
   ],
   "source": [
    "# Calcular las ventas del último mes de todas las tiendas.\n",
    "print(\"Las ventas de los ultimos 3 meses fueron de:\", alfa.calculo_ventas(), \"euros.\")\n",
    "print(\"Las ventas de los ultimos 3 meses fueron de:\", beta.calculo_ventas(), \"euros.\")\n",
    "print(\"Las ventas de los ultimos 3 meses fueron de:\", gama.calculo_ventas(), \"euros.\")"
   ]
  },
  {
   "cell_type": "code",
   "execution_count": 96,
   "metadata": {},
   "outputs": [
    {
     "name": "stdout",
     "output_type": "stream",
     "text": [
      "La media de ventas de los ultimos meses, por empleado es de: 1319.93 euros.\n",
      "La media de ventas de los ultimos meses, por empleado es de: 839.96 euros.\n",
      "La media de ventas de los ultimos meses, por empleado es de: 635.92 euros.\n"
     ]
    }
   ],
   "source": [
    "# Implementacion metodo para caluclar la media de ventas por empleado de cada tienda\n",
    "print(\"La media de ventas de los ultimos meses, por empleado es de:\", alfa.media_venta_empleado(), \"euros.\")\n",
    "print(\"La media de ventas de los ultimos meses, por empleado es de:\", gama.media_venta_empleado(), \"euros.\")\n",
    "print(\"La media de ventas de los ultimos meses, por empleado es de:\", beta.media_venta_empleado(), \"euros.\")"
   ]
  },
  {
   "cell_type": "code",
   "execution_count": 97,
   "metadata": {},
   "outputs": [
    {
     "name": "stdout",
     "output_type": "stream",
     "text": [
      "El nombre de la tienda es: alfa. La direccion de la tienda es: Avenida Fiorito 123\n",
      "El nombre de la tienda es: beta. La direccion de la tienda es: Calle La Boca 456\n",
      "El nombre de la tienda es: gama. La direccion de la tienda es: Avenida Recoleta 188\n"
     ]
    }
   ],
   "source": [
    "# Implementacion metodo que devuelve en string el nombre y direccion de la tienda que reciba\n",
    "print(alfa.nombre_direccion())\n",
    "print(beta.nombre_direccion())\n",
    "print(gama.nombre_direccion())"
   ]
  },
  {
   "cell_type": "code",
   "execution_count": 98,
   "metadata": {},
   "outputs": [
    {
     "name": "stdout",
     "output_type": "stream",
     "text": [
      "9833\n",
      "8222\n",
      "7100\n"
     ]
    }
   ],
   "source": [
    "#Implementacion de metodo para obtener ventas ultimo mes para cada tienda\n",
    "print(alfa.venta_ultimo_mes())\n",
    "print(beta.venta_ultimo_mes())\n",
    "print(gama.venta_ultimo_mes())"
   ]
  },
  {
   "cell_type": "code",
   "execution_count": 99,
   "metadata": {},
   "outputs": [
    {
     "name": "stdout",
     "output_type": "stream",
     "text": [
      "[5494.8, 6464.4, 11799.6]\n",
      "[10813.5, 13101.0, 12333.0]\n",
      "[11001.0, 9847.5, 10650.0]\n"
     ]
    }
   ],
   "source": [
    "# Implementacion de metodo que obtiene la proyeccion de ventas segun inversion\n",
    "print(alfa.proyeccion_ventas(500))\n",
    "print(beta.proyeccion_ventas(1500))\n",
    "print(gama.proyeccion_ventas(1000))"
   ]
  },
  {
   "cell_type": "code",
   "execution_count": 100,
   "metadata": {},
   "outputs": [],
   "source": [
    "# Calcular las ventas del último mes de todas las tiendas. Para ello usa el bucle for\n",
    "\n",
    "def total_ventas_ultimo_mes():\n",
    "    tiendas = [alfa, beta, gama]\n",
    "    total_ventas = 0\n",
    "    for tienda in tiendas:\n",
    "        ventas_ultimas = tienda.venta_ultimo_mes()\n",
    "        print(ventas_ultimas)\n",
    "        total_ventas += ventas_ultimas\n",
    "    return total_ventas"
   ]
  },
  {
   "cell_type": "code",
   "execution_count": 101,
   "metadata": {},
   "outputs": [
    {
     "name": "stdout",
     "output_type": "stream",
     "text": [
      "9833\n",
      "8222\n",
      "7100\n",
      "25155\n"
     ]
    }
   ],
   "source": [
    "print(total_ventas_ultimo_mes())"
   ]
  },
  {
   "cell_type": "code",
   "execution_count": 102,
   "metadata": {},
   "outputs": [],
   "source": [
    "# Imprime por pantalla los nombres de las tiendas cuya dirección lleve el string \"Avenida\"\n",
    "def buscar_nombre():\n",
    "    tiendas = [alfa, beta, gama]\n",
    "    for tienda in tiendas:\n",
    "        if 'Avenida' in tienda.direccion:\n",
    "            print(\"La tienda que queda sobre una Avenida es:\", tienda.nombre)"
   ]
  },
  {
   "cell_type": "code",
   "execution_count": 103,
   "metadata": {},
   "outputs": [
    {
     "name": "stdout",
     "output_type": "stream",
     "text": [
      "La tienda que queda sobre una Avenida es: alfa\n",
      "La tienda que queda sobre una Avenida es: gama\n"
     ]
    }
   ],
   "source": [
    "buscar_nombre()"
   ]
  },
  {
   "cell_type": "markdown",
   "metadata": {
    "id": "WEBq7EpsSU40"
   },
   "source": [
    "## Ejercicio 2\n",
    "En este ejercicio vamos a implementar una clase *Perro* en Python. La clase tiene las siguientes características:\n",
    "* Cosas que sabemos seguro que tiene un perro\n",
    "    * Tiene 4 patas\n",
    "    * 2 orejas\n",
    "    * 2 ojos\n",
    "    * Una velocidad de 0. Por defecto, el perro está parado\n",
    "* Cuando se inicialice:\n",
    "    * El perro será de una determinada raza\n",
    "    * Por defecto tendrá pelo \"Marrón\", a no ser que se diga lo contrario.\n",
    "    * Por defecto no tendrá dueño, a no ser que se diga lo contrario.\n",
    "    \n",
    "* Dispondrá también de un método llamado andar, que tiene un argumento de entrada (aumento_velocidad). Este valor se le sumará a la velocidad que ya llevaba el perro.\n",
    "* Necesita otro método (parar), donde pondremos la velocidad a 0.\n",
    "* Otro método llamado \"ladrar\", que tendrá un argumento de entrada, y la salida será el siguiente string: \"GUAU!\" + el argumento de entrada.\n",
    "\n",
    "\n",
    "Se pide:\n",
    "* Implementa la clase *Perro*\n",
    "* Crea un objeto de tipo *Perro*, sin dueño\n",
    "* Comprueba que están bien todos sus atributos\n",
    "* Prueba que ande, y comprueba su velocidad\n",
    "* Páralo\n",
    "* Documenta la clase *Perro*"
   ]
  },
  {
   "cell_type": "code",
   "execution_count": 104,
   "metadata": {
    "id": "DpEWvbwGSU40"
   },
   "outputs": [],
   "source": [
    "class Perro: \n",
    "    \"\"\"\n",
    "    Clase que representa a un perro, con sus caracteristicas basicas y comportamientos mas usuales.\n",
    "\n",
    "    Atributos: \n",
    "        patas(int): es el numero de patas de un perro, que sera por defecto 4 (int)\n",
    "        orejas (int): es el numero de orejas de un perro, que sera por defecto 2 (int)\n",
    "        ojos (int): es el numero de ojos de un perro, que sera por defecto 2 (int)\n",
    "        velocidad (float): es la velocidad a la que anda un perro, que sera por defecto 0.0 (float), representando que esta parado\n",
    "    \"\"\"\n",
    "    patas = 4\n",
    "    orejas = 2\n",
    "    ojos = 2\n",
    "    velocidad = 0.0 \n",
    "\n",
    "    \"\"\"\n",
    "Constructor de clase: \n",
    "    Se crea la siguiente funcion para especificar atributos diferenciadores de cada objeto de la clase Perro:\n",
    "        raza (str): se asignara una raza a cada objeto de clase Perro\n",
    "        pelo (str): se asignara un color al pelo de cada Perro, retornando por defecto el color \"Marron\"\n",
    "        dueño (str): se diferenciara si el Perro tiene dueño o no, retornando por defecto \"No\"\n",
    "    \"\"\"\n",
    "    def __init__ (self, raza, pelo = \"Marron\", dueño = \"No\"):\n",
    "        self.raza = raza\n",
    "        self.pelo = pelo\n",
    "        self.dueño = dueño\n",
    "\n",
    "    \"\"\"\n",
    "Funcion que describe las caracteristicas basicas del Perro\n",
    "    \"\"\"\n",
    "    def caracteristicas(self):\n",
    "        return \"Raza: \" + self.raza + \", Pelo: \" + str(self.pelo) + \", Dueño: \" + str(self.dueño)\n",
    "\n",
    "    \"\"\"\n",
    "Funcion que aumenta la velocidad del perro en función del valor recibido en \"aumento_velocidad\"\n",
    "    Retorna la velocidad del perro (float)\n",
    "    \"\"\"\n",
    "    def andar (self, aumento_velocidad):\n",
    "        if aumento_velocidad > 0:\n",
    "            self.velocidad += aumento_velocidad\n",
    "        return self.velocidad\n",
    "    \"\"\"\n",
    "Funcion que establece la velocidad del perro si es != a 0 (None), o establece que es 0 si no se especifica\n",
    "    Retorna \"Perro en movimiento\" (str) para el primer caso y \"Perro parado\" para el segundo caso\n",
    "    \"\"\"\n",
    "    def parar(self, velocidad=None):\n",
    "        if velocidad is not None:\n",
    "            self.velocidad = velocidad  # Actualiza la velocidad si se pasa un valor\n",
    "        if self.velocidad == 0:\n",
    "            return \"Perro parado\"\n",
    "        else:\n",
    "            return \"Perro en movimiento\"  # Devuelve esto si la velocidad no es 0\n",
    "    \"\"\"\n",
    "Funcion que establece si el perro ladra en funcion del valor recibido (str)\n",
    "    Retorna el texto indicado (GUAU!\") concatenado con el argumento de entrada \n",
    "    \"\"\"\n",
    "    def ladrar (self, ladrido):\n",
    "        return \"GUAU!\" + ladrido        "
   ]
  },
  {
   "cell_type": "code",
   "execution_count": 105,
   "metadata": {},
   "outputs": [
    {
     "name": "stdout",
     "output_type": "stream",
     "text": [
      "4\n",
      "2\n",
      "2\n",
      "0.0\n"
     ]
    },
    {
     "data": {
      "text/plain": [
       "'Raza: Dalmata, Pelo: Negro y blanco, Dueño: No'"
      ]
     },
     "execution_count": 105,
     "metadata": {},
     "output_type": "execute_result"
    }
   ],
   "source": [
    "dalmata = Perro('Dalmata', pelo = \"Negro y blanco\")\n",
    "print(dalmata.patas)\n",
    "print(dalmata.orejas)\n",
    "print(dalmata.ojos)\n",
    "print(dalmata.velocidad)\n",
    "dalmata.caracteristicas()"
   ]
  },
  {
   "cell_type": "code",
   "execution_count": 106,
   "metadata": {},
   "outputs": [
    {
     "data": {
      "text/plain": [
       "15.0"
      ]
     },
     "execution_count": 106,
     "metadata": {},
     "output_type": "execute_result"
    }
   ],
   "source": [
    "dalmata.andar(15)"
   ]
  },
  {
   "cell_type": "code",
   "execution_count": 107,
   "metadata": {},
   "outputs": [
    {
     "name": "stdout",
     "output_type": "stream",
     "text": [
      "Perro parado\n"
     ]
    }
   ],
   "source": [
    "print(dalmata.parar(0))"
   ]
  },
  {
   "cell_type": "code",
   "execution_count": 108,
   "metadata": {},
   "outputs": [
    {
     "name": "stdout",
     "output_type": "stream",
     "text": [
      "Perro en movimiento\n"
     ]
    }
   ],
   "source": [
    "print(dalmata.parar(5))"
   ]
  },
  {
   "cell_type": "code",
   "execution_count": 110,
   "metadata": {},
   "outputs": [
    {
     "name": "stdout",
     "output_type": "stream",
     "text": [
      "GUAU!Grrr!\n"
     ]
    }
   ],
   "source": [
    "print(dalmata.ladrar(\"Grrr!\"))"
   ]
  }
 ],
 "metadata": {
  "colab": {
   "provenance": []
  },
  "kernelspec": {
   "display_name": "Python 3 (ipykernel)",
   "language": "python",
   "name": "python3"
  },
  "language_info": {
   "codemirror_mode": {
    "name": "ipython",
    "version": 3
   },
   "file_extension": ".py",
   "mimetype": "text/x-python",
   "name": "python",
   "nbconvert_exporter": "python",
   "pygments_lexer": "ipython3",
   "version": "3.12.5"
  }
 },
 "nbformat": 4,
 "nbformat_minor": 4
}
