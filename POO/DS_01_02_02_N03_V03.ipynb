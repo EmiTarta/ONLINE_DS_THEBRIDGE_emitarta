{
 "cells": [
  {
   "cell_type": "markdown",
   "metadata": {
    "id": "uPODHfnfCeq2"
   },
   "source": [
    "![TheBridge_Python_v0.png](attachment:TheBridge_Python_v0.png)"
   ]
  },
  {
   "cell_type": "markdown",
   "metadata": {
    "id": "0q48yD4ZCeq6"
   },
   "source": [
    "##  Atributos\n"
   ]
  },
  {
   "cell_type": "markdown",
   "metadata": {
    "id": "Bu8ihqbuCeq7"
   },
   "source": [
    "### Contenidos\n"
   ]
  },
  {
   "cell_type": "markdown",
   "metadata": {
    "id": "f5xM7vZTCeq8"
   },
   "source": [
    "* [Introducción  ](#Introducción--)\n"
   ]
  },
  {
   "cell_type": "markdown",
   "metadata": {
    "id": "qIU907cMCeq-"
   },
   "source": [
    "### Introducción  \n",
    "[al indice](#Contenidos)  \n",
    "Son las **características que definen a los objetos de una clase**. La marca, el color, potencia del coche. Estos son atributos, que se definen de manera genérica en la clase y luego cada objeto *Coche* tendrá un valor para cada uno de sus atributos.\n",
    "\n",
    "Los atributos los definimos tras la declaración de la clase. Y luego se accede a ellos mediante la sintaxis `objeto.atributo`\n",
    "\n",
    "Vamos a empezar a definir atributos en los coches."
   ]
  },
  {
   "cell_type": "code",
   "execution_count": 1,
   "metadata": {
    "id": "kMmA5J4ZCeq_"
   },
   "outputs": [],
   "source": [
    "class coche:\n",
    "    puertas = 4\n",
    "    ruedas = 4"
   ]
  },
  {
   "cell_type": "markdown",
   "metadata": {
    "id": "1U7lMW-iCerB"
   },
   "source": [
    "Ahora todos los coches que creamos, tendrán 4 puertas y 4 ruedas."
   ]
  },
  {
   "cell_type": "code",
   "execution_count": 2,
   "metadata": {},
   "outputs": [
    {
     "name": "stdout",
     "output_type": "stream",
     "text": [
      "4\n",
      "4\n"
     ]
    }
   ],
   "source": [
    "tesla = coche()\n",
    "print(tesla.puertas)\n",
    "print(tesla.ruedas)"
   ]
  },
  {
   "cell_type": "markdown",
   "metadata": {
    "id": "Mtcti_iECerD"
   },
   "source": [
    "También podemos modificar los atributos. Esto Python lo hace muy sencillo, los cambiamos directamente reasignando valores. En otros lenguajes de programación hay que implementar esto mediante métodos  denominados `getters` y `setters`."
   ]
  },
  {
   "cell_type": "code",
   "execution_count": 4,
   "metadata": {
    "id": "w3GQHOQ5CerE"
   },
   "outputs": [
    {
     "name": "stdout",
     "output_type": "stream",
     "text": [
      "3\n",
      "4\n"
     ]
    }
   ],
   "source": [
    "mercedes = coche()\n",
    "mercedes.puertas = 3\n",
    "print(mercedes.puertas)\n",
    "print(tesla.puertas)"
   ]
  },
  {
   "cell_type": "code",
   "execution_count": 5,
   "metadata": {},
   "outputs": [
    {
     "name": "stdout",
     "output_type": "stream",
     "text": [
      "4\n"
     ]
    }
   ],
   "source": [
    "peugeot = coche()\n",
    "print(peugeot.puertas)"
   ]
  },
  {
   "cell_type": "markdown",
   "metadata": {
    "id": "qKcdVYSZCerE"
   },
   "source": [
    "<table align=\"left\">\n",
    " <tr><td width=\"80\"><img src=\"./img/error.png\" style=\"width:auto;height:auto\"></td>\n",
    "     <td style=\"text-align:left\">\n",
    "         <h3>ERRORES atributos que no existen</h3>\n",
    "         \n",
    " </td></tr>\n",
    "</table>"
   ]
  },
  {
   "cell_type": "code",
   "execution_count": 6,
   "metadata": {
    "id": "of0wj87yCerF"
   },
   "outputs": [
    {
     "ename": "AttributeError",
     "evalue": "'coche' object has no attribute 'motor'",
     "output_type": "error",
     "traceback": [
      "\u001b[1;31m---------------------------------------------------------------------------\u001b[0m",
      "\u001b[1;31mAttributeError\u001b[0m                            Traceback (most recent call last)",
      "Cell \u001b[1;32mIn[6], line 1\u001b[0m\n\u001b[1;32m----> 1\u001b[0m \u001b[38;5;28mprint\u001b[39m(\u001b[43mmercedes\u001b[49m\u001b[38;5;241;43m.\u001b[39;49m\u001b[43mmotor\u001b[49m)\n",
      "\u001b[1;31mAttributeError\u001b[0m: 'coche' object has no attribute 'motor'"
     ]
    }
   ],
   "source": [
    "print(mercedes.motor)"
   ]
  },
  {
   "cell_type": "code",
   "execution_count": 9,
   "metadata": {},
   "outputs": [
    {
     "name": "stdout",
     "output_type": "stream",
     "text": [
      "6\n",
      "8\n"
     ]
    }
   ],
   "source": [
    "bmw = coche()\n",
    "bmw.puertas = 6\n",
    "bmw.ruedas = 8\n",
    "print(bmw.puertas)\n",
    "print(bmw.ruedas)"
   ]
  },
  {
   "cell_type": "markdown",
   "metadata": {
    "id": "fEEOW_ZHCerG"
   },
   "source": [
    "Seguimos sin poder diferenciar claramente un coche de otro, pero ya vamos definiendo sus características, que será posible ir modificándolas tanto en la inicialización del objeto, como después. De momento, tenemos características comunes a todos los coches... o no, ¿todos los coches tienen 4 puertas?"
   ]
  }
 ],
 "metadata": {
  "colab": {
   "provenance": []
  },
  "kernelspec": {
   "display_name": "Python 3 (ipykernel)",
   "language": "python",
   "name": "python3"
  },
  "language_info": {
   "codemirror_mode": {
    "name": "ipython",
    "version": 3
   },
   "file_extension": ".py",
   "mimetype": "text/x-python",
   "name": "python",
   "nbconvert_exporter": "python",
   "pygments_lexer": "ipython3",
   "version": "3.12.5"
  }
 },
 "nbformat": 4,
 "nbformat_minor": 4
}
