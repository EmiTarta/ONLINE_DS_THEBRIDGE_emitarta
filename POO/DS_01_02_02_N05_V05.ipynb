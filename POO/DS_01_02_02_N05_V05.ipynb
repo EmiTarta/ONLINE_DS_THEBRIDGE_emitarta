{
 "cells": [
  {
   "cell_type": "markdown",
   "metadata": {},
   "source": [
    "##  Métodos\n"
   ]
  },
  {
   "cell_type": "markdown",
   "metadata": {},
   "source": [
    "### Contenidos \n"
   ]
  },
  {
   "cell_type": "markdown",
   "metadata": {},
   "source": [
    "* [Introducción  ](#Introducción--)\n",
    "\n"
   ]
  },
  {
   "cell_type": "markdown",
   "metadata": {},
   "source": [
    "### Introducción  \n",
    "[al indice](#Contenidos)  \n",
    "\n",
    "Son funciones que podemos definir dentro de las clases. Estas funciones cambiarán el estado de algún atributo o realizarán cálculos que nos sirvan de output. Un ejemplo sencillo puede ser, un método de la clase coche que saque la potencia en kilovatios, en vez de en caballos. O si tiene un estado de mantenimiento (ITV pasada o no), que modifique ese estado.\n",
    "\n",
    "El constructor es un tipo de método. La diferencia con el resto de métodos radica en su nombre, `__init__`. La sintaxis para definir los métodos es como si fuese una función. Y luego para llamar al método se utiliza `objeto.metodo(argumentos_metodo)`. Esto ya lo hemos usado anteriormente, cuando haciamos un `string.lower()`, simplemente llamábamos al método `lower()`, que no requería de argumentos, de la clase *string*."
   ]
  },
  {
   "cell_type": "code",
   "execution_count": 17,
   "metadata": {},
   "outputs": [],
   "source": [
    "class Coche:\n",
    "\n",
    "    def __init__(self, marcha_coche, num_puertas = 5, num_ruedas = 4):\n",
    "        self.marca = marcha_coche\n",
    "        self.puertas = num_puertas\n",
    "        self.ruedas = num_ruedas\n",
    "        \n",
    "    def caracteristicas(self): #No le ponemos argumentos, pero necesita si o si el self\n",
    "        return \"Marca: \" + self.marca + \", Puertas: \" + str(self.puertas) + \", Ruedas: \" + str(self.ruedas)"
   ]
  },
  {
   "cell_type": "code",
   "execution_count": 18,
   "metadata": {},
   "outputs": [
    {
     "data": {
      "text/plain": [
       "'Marca: Ford, Puertas: 5, Ruedas: 4'"
      ]
     },
     "execution_count": 18,
     "metadata": {},
     "output_type": "execute_result"
    }
   ],
   "source": [
    "ford_ka = Coche(\"Ford\")\n",
    "ford_ka.caracteristicas()"
   ]
  },
  {
   "cell_type": "markdown",
   "metadata": {},
   "source": [
    "Fíjate que para llamar a las ruedas se usa `self`, a pesar de que no lo habíamos metido en el constructor. Así evitamos llamar a otra variable del programa que se llame *ruedas*. Nos aseguramos que son las ruedas de ese coche con el `self`."
   ]
  },
  {
   "cell_type": "code",
   "execution_count": 23,
   "metadata": {},
   "outputs": [],
   "source": [
    "class Coche:\n",
    "\n",
    "    def __init__(self, marcha_coche, precio_coche, num_puertas = 5, num_ruedas = 4):\n",
    "        self.marca = marcha_coche\n",
    "        self.puertas = num_puertas\n",
    "        self.ruedas = num_ruedas\n",
    "        self.precio = precio_coche\n",
    "        \n",
    "    def caracteristicas(self): #No le ponemos argumentos, pero necesita si o si el self\n",
    "        return \"Marca: \" + self.marca + \", Puertas: \" + str(self.puertas) + \", Ruedas: \" + str(self.ruedas)\n",
    "\n",
    "    def precio_actual(self, agnos):\n",
    "        if agnos <= 5:\n",
    "            return self.precio * 0.7\n",
    "        elif agnos > 5 and agnos < 10:\n",
    "            return self.precio * 0.5\n",
    "        else:\n",
    "            return self.precio * 0.3      "
   ]
  },
  {
   "cell_type": "code",
   "execution_count": 24,
   "metadata": {},
   "outputs": [
    {
     "data": {
      "text/plain": [
       "17500.0"
      ]
     },
     "execution_count": 24,
     "metadata": {},
     "output_type": "execute_result"
    }
   ],
   "source": [
    "jeep_cherokee = Coche(\"Jeep\", 35000)\n",
    "jeep_cherokee.precio_actual(8)"
   ]
  },
  {
   "cell_type": "code",
   "execution_count": 25,
   "metadata": {},
   "outputs": [
    {
     "data": {
      "text/plain": [
       "'Marca: Jeep, Puertas: 5, Ruedas: 4'"
      ]
     },
     "execution_count": 25,
     "metadata": {},
     "output_type": "execute_result"
    }
   ],
   "source": [
    "jeep_cherokee.caracteristicas()"
   ]
  },
  {
   "cell_type": "code",
   "execution_count": null,
   "metadata": {},
   "outputs": [],
   "source": []
  },
  {
   "cell_type": "code",
   "execution_count": null,
   "metadata": {},
   "outputs": [],
   "source": []
  }
 ],
 "metadata": {
  "kernelspec": {
   "display_name": "Python 3 (ipykernel)",
   "language": "python",
   "name": "python3"
  },
  "language_info": {
   "codemirror_mode": {
    "name": "ipython",
    "version": 3
   },
   "file_extension": ".py",
   "mimetype": "text/x-python",
   "name": "python",
   "nbconvert_exporter": "python",
   "pygments_lexer": "ipython3",
   "version": "3.12.5"
  }
 },
 "nbformat": 4,
 "nbformat_minor": 4
}
