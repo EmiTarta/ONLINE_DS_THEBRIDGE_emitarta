{
 "cells": [
  {
   "cell_type": "markdown",
   "metadata": {},
   "source": [
    "![imagen](./img/ejercicios.png)"
   ]
  },
  {
   "cell_type": "markdown",
   "metadata": {},
   "source": [
    "## EJERCICIOS PYTHON BASICO 4: \n",
    "## Funciones, métodos, listas"
   ]
  },
  {
   "cell_type": "markdown",
   "metadata": {},
   "source": [
    "Completa los siguiente ejercicios, la solución completa a los mismos se publicarán en el repo del curso a lo largo del sprint. En algunos ejercicios se muestra la solución final, para que puedas comprobar que lo has hecho bien, pero lo importante es el código que generes. ¡Vaaamos, a ello...!"
   ]
  },
  {
   "cell_type": "markdown",
   "metadata": {},
   "source": [
    "![ejercicio.png](./img/ejercicio.png)\n",
    "\n",
    "## Ejercicio 1\n",
    "Para este ejercicio vamos a poner en práctica [las funciones built in](https://docs.python.org/3/library/functions.html).\n",
    "\n",
    "1. Calcula el máximo de la lista: [4, 6, 8, -1]\n",
    "2. Suma todos los elementos de la lista anterior\n",
    "3. Redondea este float a 3 dígitos decimales: 63.451256965\n",
    "4. Valor absoluto de: -74"
   ]
  },
  {
   "cell_type": "code",
   "execution_count": 7,
   "metadata": {},
   "outputs": [
    {
     "name": "stdout",
     "output_type": "stream",
     "text": [
      "8\n",
      "17\n",
      "63.451\n",
      "74\n"
     ]
    }
   ],
   "source": [
    "lista = 4, 6, 8, -1\n",
    "print(max(lista))\n",
    "print(sum(lista))\n",
    "numero = 63.451256965\n",
    "numero_redondeado = round(numero, 3)\n",
    "print(numero_redondeado)\n",
    "negativo = -74\n",
    "print(abs(negativo))"
   ]
  },
  {
   "cell_type": "markdown",
   "metadata": {},
   "source": [
    "![ejercicio.png](./img/ejercicio.png)\n",
    "\n",
    "## Ejercicio 2\n",
    "Para el siguiente string se pide imprimir por pantalla los siguientes casos\n",
    "\n",
    "    \"En un lugar de la Mancha, de cuyo nombre no quiero acordarme.\"\n",
    "\n",
    "1. Pásalo todo a mayúsculas\n",
    "2. Pásalo todo a minúsculas\n",
    "3. Solo la primera letra de cada palabra en mayúscula, el resto en minúscula\n",
    "4. Crea una lista dividiéndolo por sus espacios\n",
    "5. Sustituye las comas `,` por puntos y comas `;`\n",
    "6. Elimina las `a` minúsculas"
   ]
  },
  {
   "cell_type": "code",
   "execution_count": 19,
   "metadata": {},
   "outputs": [
    {
     "name": "stdout",
     "output_type": "stream",
     "text": [
      "en un lugar de la mancha, de cuyo nombre no quiero acordarme.\n",
      "EN UN LUGAR DE LA MANCHA, DE CUYO NOMBRE NO QUIERO ACORDARME.\n",
      "En Un Lugar De La Mancha, De Cuyo Nombre No Quiero Acordarme.\n",
      "['En', 'un', 'lugar', 'de', 'la', 'Mancha,', 'de', 'cuyo', 'nombre', 'no', 'quiero', 'acordarme.']\n",
      "En un lugar de la Mancha; de cuyo nombre no quiero acordarme.\n",
      "En un lugr de l Mnch, de cuyo nombre no quiero cordrme.\n"
     ]
    }
   ],
   "source": [
    "string = \"En un lugar de la Mancha, de cuyo nombre no quiero acordarme.\"\n",
    "print(string.lower())\n",
    "print(string.upper())\n",
    "print(string.title())\n",
    "print(string.split(\" \"))\n",
    "print(string.replace(\",\",\";\"))\n",
    "print(string.replace(\"a\",\"\"))"
   ]
  },
  {
   "cell_type": "markdown",
   "metadata": {},
   "source": [
    "![ejercicio.png](./img/ejercicio.png)\n",
    "\n",
    "## Ejercicio 3\n",
    "1. Crea una lista con 3 elementos numéricos\n",
    "2. Añade un cuarto elemento\n",
    "3. Calcula la suma de todos\n",
    "4. Elimina el segundo elemento de la lista\n",
    "5. Añade otro elemento en la posicion 3 de la lista\n",
    "6. Crea otra lista con 4 elementos y concaténala a la que ya tenías.\n",
    "7. Ordena la lista de menor a mayor.\n",
    "8. BONUS: Ordena la lista de mayor a menor.  \n",
    "(*PISTA: Para hacer 8, tendrás que buscar en la información del método...*)  \n",
    "  \n",
    "  \n",
    "NOTA: Pinta por pantalla el resultado de cada paso."
   ]
  },
  {
   "cell_type": "code",
   "execution_count": 52,
   "metadata": {},
   "outputs": [
    {
     "name": "stdout",
     "output_type": "stream",
     "text": [
      "[7, 2, 5, 4]\n",
      "18\n",
      "[7, 5, 4]\n",
      "[7, 5, 4, 12]\n",
      "[7, 5, 4, 12, 6, 9, 8, 11]\n",
      "[4, 5, 6, 7, 8, 9, 11, 12]\n",
      "[12, 11, 9, 8, 7, 6, 5, 4]\n"
     ]
    }
   ],
   "source": [
    "#1. Crear lista\n",
    "lista_numeros = [7, 2, 5]\n",
    "\n",
    "#2. Añadir un cuarto elemento\n",
    "lista_numeros.append(4)\n",
    "print(lista_numeros)\n",
    "\n",
    "#3. Calcular la suma de todos\n",
    "print(sum(lista_numeros))\n",
    "\n",
    "#4. Elimina el segundo elemento de la lista\n",
    "lista_numeros.pop(1)\n",
    "print(lista_numeros)\n",
    "\n",
    "#5. Añade otro elemento en la posicion 3 de la lista\n",
    "lista_numeros.insert(3, 12)\n",
    "print(lista_numeros)\n",
    "\n",
    "#6. Crea otra lista con 4 elementos y concaténala a la anterior\n",
    "nueva_lista_numeros = [6, 9, 8, 11]\n",
    "lista_numeros.extend(nueva_lista_numeros)\n",
    "print(lista_numeros)\n",
    "\n",
    "#7. Ordena la lista de menor a mayor\n",
    "lista_numeros.sort()\n",
    "print(lista_numeros)\n",
    "\n",
    "#8. Ordena la lista de mayor a menor\n",
    "lista_numeros.sort(reverse=True)\n",
    "print(lista_numeros)"
   ]
  }
 ],
 "metadata": {
  "kernelspec": {
   "display_name": "Python 3 (ipykernel)",
   "language": "python",
   "name": "python3"
  },
  "language_info": {
   "codemirror_mode": {
    "name": "ipython",
    "version": 3
   },
   "file_extension": ".py",
   "mimetype": "text/x-python",
   "name": "python",
   "nbconvert_exporter": "python",
   "pygments_lexer": "ipython3",
   "version": "3.12.5"
  }
 },
 "nbformat": 4,
 "nbformat_minor": 4
}
